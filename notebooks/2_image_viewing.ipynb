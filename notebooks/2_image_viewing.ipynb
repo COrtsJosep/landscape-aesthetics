{
 "cells": [
  {
   "cell_type": "markdown",
   "id": "8ceec7ff-2389-4062-97c5-d3f2fb722f8d",
   "metadata": {},
   "source": [
    "# Image Viewing\n",
    "This notebook lets you see some images from our respective databases: the Scenic-or-Not database, from geograph.uk.org, and the Wikimedia database, which we gathered by ourselves."
   ]
  },
  {
   "cell_type": "markdown",
   "id": "34d77682-06eb-4396-8235-148121f81261",
   "metadata": {},
   "source": [
    "## Imports and Paths"
   ]
  },
  {
   "cell_type": "code",
   "execution_count": null,
   "id": "09e58f5d-6f87-4a08-ac57-7efb36e1bca2",
   "metadata": {},
   "outputs": [],
   "source": [
    "import os\n",
    "import pandas as pd\n",
    "from PIL import Image\n",
    "from pathlib import Path"
   ]
  },
  {
   "cell_type": "code",
   "execution_count": null,
   "id": "f7da0e9f-3932-4409-a215-37671bc52d82",
   "metadata": {},
   "outputs": [],
   "source": [
    "project_base_path = Path(os.getcwd()).parent\n",
    "son_path = project_base_path / 'data' / 'external' / 'scenicornot' / 'scenicornot.metadata.csv'\n",
    "wiki_path =  project_base_path / 'data' / 'processed' / 'wikimedia_commons' / 'ns6.parquet'"
   ]
  },
  {
   "cell_type": "markdown",
   "id": "3564c72b-0fe2-4dce-9ac6-0808e266897a",
   "metadata": {},
   "source": [
    "## Data Loading"
   ]
  },
  {
   "cell_type": "code",
   "execution_count": null,
   "id": "916d6feb-3216-4d23-8191-7573fbce7595",
   "metadata": {},
   "outputs": [],
   "source": [
    "origin = 'son' # choose 'son' or 'wiki'\n",
    "\n",
    "if origin == 'son':\n",
    "    image_folder = son_path.parent\n",
    "    image_paths = pd.read_csv(son_path, usecols = ['filename']).loc[:, 'filename']\n",
    "elif origin == 'wiki':\n",
    "    image_folder = project_base_path\n",
    "    image_paths = pd.read_parquet(wiki_path, columns = ['image_path']).loc[:, 'image_path']"
   ]
  },
  {
   "cell_type": "markdown",
   "id": "067c0295-7365-4753-adf4-14532b8d4a8f",
   "metadata": {},
   "source": [
    "## Functions"
   ]
  },
  {
   "cell_type": "code",
   "execution_count": null,
   "id": "77b975eb-f3cb-4553-9e37-4176dd0cf4e8",
   "metadata": {},
   "outputs": [],
   "source": [
    "def show_random_image(image_folder: Path = image_folder, image_paths: pd.Series = image_paths) -> None:\n",
    "    '''\n",
    "    Given a base path and a pd.Series of paths, this function displays a\n",
    "    random image from the Series, and prints the whole path.\n",
    "    '''\n",
    "    image_path = image_folder / Path(image_paths.sample().item())\n",
    "    image = Image.open(image_path)\n",
    "\n",
    "    print('Image path:', image_path, '\\n')\n",
    "    display(image)"
   ]
  },
  {
   "cell_type": "markdown",
   "id": "e31d2a1f-3e5a-4c8c-8192-6f7f8da7bba5",
   "metadata": {},
   "source": [
    "## Display"
   ]
  },
  {
   "cell_type": "code",
   "execution_count": null,
   "id": "d332a53d-96f4-43e5-a227-a22b82cf5187",
   "metadata": {},
   "outputs": [],
   "source": [
    "show_random_image()"
   ]
  },
  {
   "cell_type": "markdown",
   "id": "846d66e8-0519-4654-afe7-c015b5b9cecc",
   "metadata": {},
   "source": [
    "## Common denominator of SoN images:\n",
    "- Outdoors\n",
    "- Photographer is standing on the ground (not from a plane, not from space)\n",
    "- Vertically oriented\n",
    "- Urban or rural, land or sea: no matter\n",
    "- Might be picture of only one building\n",
    "- Generous view of surroundings, not a closeup"
   ]
  },
  {
   "cell_type": "markdown",
   "id": "1f2b025c-d2db-42a5-a675-71eb76193784",
   "metadata": {},
   "source": [
    "## Landscape Definitions\n",
    "Possible definitions of landscape are:\n",
    "- tangible and physically delineated areas on the Earth’s surface, or\n",
    "- an area, as perceived by people,\n",
    "  \n",
    "both from _Trond Simensen, Rune Halvorsen, Lars Erikstad, \"Methods for landscape characterisation and mapping: A systematic review\"_"
   ]
  }
 ],
 "metadata": {
  "kernelspec": {
   "display_name": "Python 3 (ipykernel)",
   "language": "python",
   "name": "python3"
  },
  "language_info": {
   "codemirror_mode": {
    "name": "ipython",
    "version": 3
   },
   "file_extension": ".py",
   "mimetype": "text/x-python",
   "name": "python",
   "nbconvert_exporter": "python",
   "pygments_lexer": "ipython3",
   "version": "3.12.2"
  }
 },
 "nbformat": 4,
 "nbformat_minor": 5
}
