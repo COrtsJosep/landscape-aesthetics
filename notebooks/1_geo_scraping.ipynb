{
 "cells": [
  {
   "cell_type": "markdown",
   "id": "15f06146-2d36-433f-aa74-a7a5b596a53e",
   "metadata": {},
   "source": [
    "# Prerequisites of Web Scraping\n",
    "We have found an API that gives back (some) CC images geotagged in a 10KM radius around a set of coordinates. At what set of coordinates do we want to evaluate the API, so that the circles of 10KM radii cover the whole Europe? How do we make it so that we have to do the minimum possible API calls to cover Europe? That is a question we need to assess before doing any API call."
   ]
  },
  {
   "cell_type": "markdown",
   "id": "02ec7889-7568-4af7-8cc2-bce73bf69cc9",
   "metadata": {},
   "source": [
    "## Imports"
   ]
  },
  {
   "cell_type": "code",
   "execution_count": 1,
   "id": "f5b85f14-cdaf-4704-bc6d-b60c3e1d8285",
   "metadata": {},
   "outputs": [],
   "source": [
    "import os\n",
    "import sys\n",
    "import math\n",
    "import tqdm\n",
    "import folium\n",
    "import shapely\n",
    "import inspect\n",
    "import geopandas\n",
    "import numpy as np\n",
    "from pathlib import Path\n",
    "from geopy import distance\n",
    "import matplotlib.pyplot as plt"
   ]
  },
  {
   "cell_type": "markdown",
   "id": "63ffab01-6848-46fa-8a5f-bc6239b17976",
   "metadata": {},
   "source": [
    "## Own Imports"
   ]
  },
  {
   "cell_type": "code",
   "execution_count": 2,
   "id": "7f930a95-274d-460b-9def-42d9f4971e41",
   "metadata": {},
   "outputs": [],
   "source": [
    "sys.path.append(str(Path(os.getcwd()).parent / 'src' / 'data'))\n",
    "\n",
    "import wikimap_api_helpers"
   ]
  },
  {
   "cell_type": "markdown",
   "id": "6f2e2f08-5b62-4982-806e-5a63cb6aa20c",
   "metadata": {},
   "source": [
    "## Preamble\n",
    "I found out that the optimal covering of an (infinite) area using circles of radii $r$ is by arranging the circles in a honeycomb structure. That means, in rows of circles, with each row having an intendent alternatingly. Alternatively, this means that the centres of every 3 adjacent circles are form an equilateral triangle. This optimal arrangement is reached when the horizontal spacing is $r\\sqrt{3}$, with an alternating intendation of $\\frac{r\\sqrt{3}}{2}$, and a vertical distance of $\\frac{3r}{2}$. The following cell is just a sanity test."
   ]
  },
  {
   "cell_type": "code",
   "execution_count": null,
   "id": "ced4b8b2-44f5-4de9-afc2-63f6d522227b",
   "metadata": {
    "tags": []
   },
   "outputs": [],
   "source": [
    "r = 10000\n",
    "figure, axes = plt.subplots()\n",
    "Drawing_uncolored_circle1 = plt.Circle( (0, 0 ),\n",
    "                                      r,\n",
    "                                      fill = False )\n",
    "Drawing_uncolored_circle2 = plt.Circle( (math.sqrt(3)*r, 0 ),\n",
    "                                      r,\n",
    "                                      fill = False )\n",
    "Drawing_uncolored_circle3 = plt.Circle( (math.sqrt(3)*r/2, r*3/2 ),\n",
    "                                      r,\n",
    "                                      fill = False )\n",
    "Drawing_uncolored_circle4 = plt.Circle( (math.sqrt(3)*r*2, 0 ),\n",
    "                                      r,\n",
    "                                      fill = False )\n",
    "Drawing_uncolored_circle5 = plt.Circle( (math.sqrt(3)*r/2 + math.sqrt(3)*r, r*3/2 ),\n",
    "                                      r,\n",
    "                                      fill = False )\n",
    "\n",
    " \n",
    "axes.set_aspect(1 )\n",
    "axes.add_artist(Drawing_uncolored_circle1)\n",
    "axes.add_artist(Drawing_uncolored_circle2)\n",
    "axes.add_artist(Drawing_uncolored_circle3)\n",
    "axes.add_artist(Drawing_uncolored_circle4)\n",
    "axes.add_artist(Drawing_uncolored_circle5)\n",
    "axes.set_xlim(-1.2*r, 5*r)\n",
    "axes.set_ylim(-1.2*r, 3*r)\n",
    "plt.title( 'Circles in Beehive Formation' )\n",
    "plt.show()"
   ]
  },
  {
   "cell_type": "markdown",
   "id": "5309a543-b8b5-4444-9911-c2323be88c81",
   "metadata": {},
   "source": [
    "## Fetching the countries' geoshapes\n",
    "Now we load the geoshapes of the European countries. The neat thing is that, given a coordinate pair, the geoshape has a method to check whether the point is within its borders. Very useful!"
   ]
  },
  {
   "cell_type": "code",
   "execution_count": null,
   "id": "5595dac5-6a83-4363-b6ba-eb00f0952e5a",
   "metadata": {
    "tags": []
   },
   "outputs": [],
   "source": [
    "shapefile_path = Path(os.getcwd()).parent / 'data' / 'external' / 'geoshapes' / 'country_geoshapes.shx'\n",
    "geo_df = geopandas.read_file(shapefile_path)"
   ]
  },
  {
   "cell_type": "code",
   "execution_count": null,
   "id": "b2c28921-fd8e-4139-bc1c-7fed604178af",
   "metadata": {
    "tags": []
   },
   "outputs": [],
   "source": [
    "geo_df.query('LEVL_CODE == 0').head() # quick check"
   ]
  },
  {
   "cell_type": "code",
   "execution_count": null,
   "id": "4b81654b-638e-4885-930e-44c70c17463e",
   "metadata": {
    "tags": []
   },
   "outputs": [],
   "source": [
    "geo_df.loc[34, 'geometry'] # how does the Netherlands look like?"
   ]
  },
  {
   "cell_type": "markdown",
   "id": "2d99eda0-0227-4cfa-bd4b-0e47234301eb",
   "metadata": {},
   "source": [
    "### Small test\n",
    "Here we check whether the ```shape.contains(point)``` method is reliable and useful for our purposes."
   ]
  },
  {
   "cell_type": "code",
   "execution_count": null,
   "id": "3a65ac8b-f972-4098-86a0-ede8427fcab9",
   "metadata": {
    "tags": []
   },
   "outputs": [],
   "source": [
    "cr = geo_df.loc[1, 'geometry']\n",
    "\n",
    "x = []\n",
    "y = []\n",
    "mask = []\n",
    "for i in tqdm.tqdm(np.arange(cr.bounds[0], cr.bounds[2], 0.01)):\n",
    "    for j in np.arange(cr.bounds[1], cr.bounds[3], 0.01):\n",
    "        x.append(i)\n",
    "        y.append(j)\n",
    "        mask.append(geo_df.loc[1, 'geometry'].contains(shapely.geometry.Point(i, j)))"
   ]
  },
  {
   "cell_type": "code",
   "execution_count": null,
   "id": "c2ec6692-b5d0-414b-86d6-c2c508e0798f",
   "metadata": {
    "tags": []
   },
   "outputs": [],
   "source": [
    "plt.scatter(x, y, c = mask) # we colour a point yellow if is inside the shape, purple if outside\n",
    "plt.show() # that's a very accurate representation of the Czech Republic!"
   ]
  },
  {
   "cell_type": "markdown",
   "id": "4682a149-c739-4e4d-9d4c-06bd63a2940f",
   "metadata": {},
   "source": [
    "## Algorithms to generate the grid of points\n",
    "There are two ways of doing this: either we call the API in points that are in the country, OR we call the API in points such that the 10KM radius circle and the country have a nonempty intersection. The first way is simple, the second requires a bit of thought, and a function to create a circle from a point. That is the function ```generate_circle(point)```."
   ]
  },
  {
   "cell_type": "code",
   "execution_count": null,
   "id": "7a51e932-831f-4113-99be-433fd674f8ac",
   "metadata": {
    "tags": []
   },
   "outputs": [],
   "source": [
    "inspect.getsourcelines(wikimap_api_helpers.generate_circle)"
   ]
  },
  {
   "cell_type": "code",
   "execution_count": null,
   "id": "d7774f2c-1dca-4415-8708-419465b7bc40",
   "metadata": {
    "tags": []
   },
   "outputs": [],
   "source": [
    "i = 0\n",
    "for lat, lon in zip(y, x):\n",
    "    # Here we see if the circles have the correct size.\n",
    "    # We print the distance from centre to side, and from centre to top.\n",
    "    point = shapely.geometry.Point(lon, lat)\n",
    "    print(\n",
    "        distance.geodesic(\n",
    "        (point.bounds[1], point.bounds[0]),\n",
    "        (wikimap_api_helpers.generate_circle(point).bounds[1], point.bounds[0])).m,\n",
    "\n",
    "        distance.geodesic(\n",
    "        (point.bounds[1], point.bounds[0]),\n",
    "        (point.bounds[1], wikimap_api_helpers.generate_circle(point).bounds[0])).m\n",
    "    )\n",
    "    if i > 10:\n",
    "        break\n",
    "    i += 1"
   ]
  },
  {
   "cell_type": "markdown",
   "id": "4754a097-6db8-4203-b502-566995e00a36",
   "metadata": {},
   "source": [
    "The following procedure generates the grid of points where we should call the API. How it works: it begins at the southernmost, westmost point of the box that encloses the country. Then takes 10KM steps towards the east. At each step evaluates if the point is in the country (alternatively, if its corresponding circle intersects the country). When the procedure steps too far away into the east, out of the box that contains the country, then it returns to the westernmost point, but 10KM to the north of it. Then begins the walk eastwards again. This is repeated until the procedure oversteps the northernmost, eastmost corner of the box."
   ]
  },
  {
   "cell_type": "code",
   "execution_count": null,
   "id": "7b414f31-b701-42fa-92a4-9951f1a24aaa",
   "metadata": {
    "tags": []
   },
   "outputs": [],
   "source": [
    "inspect.getsourcelines(wikimap_api_helpers.get_query_points)"
   ]
  },
  {
   "cell_type": "code",
   "execution_count": null,
   "id": "41ca2a30-0a53-42b8-a3ba-6be24f7945c3",
   "metadata": {},
   "outputs": [],
   "source": [
    "lats, lons, mask = wikimap_api_helpers.get_query_points(shape = geo_df.loc[34, 'geometry'])"
   ]
  },
  {
   "cell_type": "code",
   "execution_count": null,
   "id": "93147361-e217-49d3-b1c6-f937a6553601",
   "metadata": {
    "tags": []
   },
   "outputs": [],
   "source": [
    "print('Number of points needed to scrape the Netherlands: ', np.array(mask).sum())"
   ]
  },
  {
   "cell_type": "code",
   "execution_count": null,
   "id": "e25fc430-5cd5-44b2-bd70-2ff1e861311a",
   "metadata": {
    "tags": []
   },
   "outputs": [],
   "source": [
    "plt.scatter(lons, lats, c = mask) # see how it looks! same idea as before\n",
    "plt.show() # we do not need that many points!"
   ]
  },
  {
   "cell_type": "markdown",
   "id": "028afec0-3b7b-499e-9deb-f7d626877668",
   "metadata": {},
   "source": [
    "## Quick visualization\n",
    "Notice that this plot is just an approximation: the radii of the circles is just 26-pixels long. If you zoom in or out, their size changes. So this map oly checks that the distances between points are moreless accurate."
   ]
  },
  {
   "cell_type": "code",
   "execution_count": null,
   "id": "51280b52-def2-4f51-9d7a-5358ee873693",
   "metadata": {
    "tags": []
   },
   "outputs": [],
   "source": [
    "ne_shape = geo_df.loc[34, 'geometry']\n",
    "ne_map = folium.Map([ne_shape.centroid.bounds[1], ne_shape.centroid.bounds[0], ], zoom_start=8)\n",
    "for lat, lon, is_in in zip(lats, lons, mask):\n",
    "    if is_in:\n",
    "        folium.vector_layers.CircleMarker(\n",
    "            location=[lat, lon],\n",
    "            radius=26,\n",
    "            color='#3186cc',\n",
    "            fill=False    \n",
    "        ).add_to(ne_map)\n",
    "\n",
    "ne_map # ATTENTION: circle radii are approximated"
   ]
  },
  {
   "cell_type": "markdown",
   "id": "7a36359d-62e0-4a21-965c-cbfa082d5954",
   "metadata": {},
   "source": [
    "## API call code"
   ]
  },
  {
   "cell_type": "code",
   "execution_count": null,
   "id": "295b04a1-cf3f-4d68-a47f-dfe475a05c77",
   "metadata": {},
   "outputs": [],
   "source": [
    "inspect.getsourcelines(wikimap_api_helpers.query_at)"
   ]
  },
  {
   "cell_type": "markdown",
   "id": "8b12063c-3024-4937-ba95-d6ab0e871352",
   "metadata": {},
   "source": [
    "## Some more circles...\n",
    "... in order to understand why, when an API call returns too many results, we do 4 calls at 4 points around the original API coordinates, with a radius that is $r_{new} = \\frac{r_{old}}{2}$. If we took instead 4 circles of radius $r_{new} = \\frac{r_{old}}{\\sqrt{2}}$ (which in a sense would be ideal because it would cover the whole area) we would overstep outside of the original area, which would make the API calling very long. After all $\\frac{r_{old}}{\\sqrt{2}} + \\frac{r_{old}}{\\sqrt{2}^2} + \\frac{r_{old}}{\\sqrt{2}^3} + \\frac{r_{old}}{\\sqrt{2}^4} + ... = \\frac{r_{old}}{1 - \\frac{1}{\\sqrt{2}}} = 3.4142*r_{old}$. So we would be over three radii away of the centre!"
   ]
  },
  {
   "cell_type": "code",
   "execution_count": null,
   "id": "88cf58fc-7fb9-4424-a283-d795cd12e335",
   "metadata": {},
   "outputs": [],
   "source": [
    "### if we divide radius by two\n",
    "r = 1\n",
    "nr = r/2\n",
    "figure, axes = plt.subplots()\n",
    "Drawing_uncolored_circle0 = plt.Circle( (0, 0 ),\n",
    "                                      r,\n",
    "                                      fill = False )\n",
    "Drawing_uncolored_circle1 = plt.Circle( (nr/math.sqrt(2), nr/math.sqrt(2)) ,\n",
    "                                      nr,\n",
    "                                      fill = False )\n",
    "Drawing_uncolored_circle2 = plt.Circle( (nr/math.sqrt(2), -nr/math.sqrt(2)) ,\n",
    "                                      nr,\n",
    "                                      fill = False )\n",
    "Drawing_uncolored_circle3 = plt.Circle( (-nr/math.sqrt(2), nr/math.sqrt(2)) ,\n",
    "                                      nr,\n",
    "                                      fill = False )\n",
    "Drawing_uncolored_circle4 = plt.Circle( (-nr/math.sqrt(2), -nr/math.sqrt(2)) ,\n",
    "                                      nr,\n",
    "                                      fill = False )\n",
    "\n",
    " \n",
    "axes.set_aspect(1 )\n",
    "axes.add_artist(Drawing_uncolored_circle0)\n",
    "axes.add_artist(Drawing_uncolored_circle1)\n",
    "axes.add_artist(Drawing_uncolored_circle2)\n",
    "axes.add_artist(Drawing_uncolored_circle3)\n",
    "axes.add_artist(Drawing_uncolored_circle4)\n",
    "axes.set_xlim(-2*r, 2*r)\n",
    "axes.set_ylim(-2*r, 2*r)\n",
    "plt.title( 'Circle, with smaller circles of radius r/2' )\n",
    "plt.show()"
   ]
  },
  {
   "cell_type": "code",
   "execution_count": null,
   "id": "1ef3c9bc-f54a-4b18-ac27-d137737c917f",
   "metadata": {},
   "outputs": [],
   "source": [
    "# if we divide radius by sqrt(2)\n",
    "r = 1\n",
    "nr = r/math.sqrt(2)\n",
    "figure, axes = plt.subplots()\n",
    "Drawing_uncolored_circle0 = plt.Circle( (0, 0 ),\n",
    "                                      r,\n",
    "                                      fill = False )\n",
    "Drawing_uncolored_circle1 = plt.Circle( (nr/math.sqrt(2), nr/math.sqrt(2)) ,\n",
    "                                      nr,\n",
    "                                      fill = False )\n",
    "Drawing_uncolored_circle2 = plt.Circle( (nr/math.sqrt(2), -nr/math.sqrt(2)) ,\n",
    "                                      nr,\n",
    "                                      fill = False )\n",
    "Drawing_uncolored_circle3 = plt.Circle( (-nr/math.sqrt(2), nr/math.sqrt(2)) ,\n",
    "                                      nr,\n",
    "                                      fill = False )\n",
    "Drawing_uncolored_circle4 = plt.Circle( (-nr/math.sqrt(2), -nr/math.sqrt(2)) ,\n",
    "                                      nr,\n",
    "                                      fill = False )\n",
    "\n",
    " \n",
    "axes.set_aspect(1)\n",
    "axes.add_artist(Drawing_uncolored_circle0)\n",
    "axes.add_artist(Drawing_uncolored_circle1)\n",
    "axes.add_artist(Drawing_uncolored_circle2)\n",
    "axes.add_artist(Drawing_uncolored_circle3)\n",
    "axes.add_artist(Drawing_uncolored_circle4)\n",
    "axes.set_xlim(-2*r, 2*r)\n",
    "axes.set_ylim(-2*r, 2*r)\n",
    "plt.title( 'Circle, with smaller circles of radius sqrt(r)' )\n",
    "plt.show()"
   ]
  }
 ],
 "metadata": {
  "kernelspec": {
   "display_name": "Python 3 (ipykernel)",
   "language": "python",
   "name": "python3"
  },
  "language_info": {
   "codemirror_mode": {
    "name": "ipython",
    "version": 3
   },
   "file_extension": ".py",
   "mimetype": "text/x-python",
   "name": "python",
   "nbconvert_exporter": "python",
   "pygments_lexer": "ipython3",
   "version": "3.12.2"
  }
 },
 "nbformat": 4,
 "nbformat_minor": 5
}
