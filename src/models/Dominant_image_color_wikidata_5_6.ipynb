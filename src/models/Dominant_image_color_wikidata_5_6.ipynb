{
 "cells": [
  {
   "cell_type": "code",
   "execution_count": 3,
   "id": "807f29bb-b6c5-4e08-8480-abe7cfbab60f",
   "metadata": {},
   "outputs": [
    {
     "name": "stderr",
     "output_type": "stream",
     "text": [
      "Processing CSV files:   0%|                             | 0/101 [00:06<?, ?it/s]\n"
     ]
    },
    {
     "ename": "KeyboardInterrupt",
     "evalue": "",
     "output_type": "error",
     "traceback": [
      "\u001b[0;31m---------------------------------------------------------------------------\u001b[0m",
      "\u001b[0;31mKeyboardInterrupt\u001b[0m                         Traceback (most recent call last)",
      "Cell \u001b[0;32mIn[3], line 62\u001b[0m\n\u001b[1;32m     58\u001b[0m image_path \u001b[38;5;241m=\u001b[39m image_folder \u001b[38;5;241m/\u001b[39m img_path\n\u001b[1;32m     60\u001b[0m \u001b[38;5;28;01mtry\u001b[39;00m:\n\u001b[1;32m     61\u001b[0m     \u001b[38;5;66;03m# Read and process the image\u001b[39;00m\n\u001b[0;32m---> 62\u001b[0m     image \u001b[38;5;241m=\u001b[39m \u001b[43mcv2\u001b[49m\u001b[38;5;241;43m.\u001b[39;49m\u001b[43mimread\u001b[49m\u001b[43m(\u001b[49m\u001b[38;5;28;43mstr\u001b[39;49m\u001b[43m(\u001b[49m\u001b[43mimage_path\u001b[49m\u001b[43m)\u001b[49m\u001b[43m)\u001b[49m\n\u001b[1;32m     63\u001b[0m     \u001b[38;5;28;01mif\u001b[39;00m image \u001b[38;5;129;01mis\u001b[39;00m \u001b[38;5;28;01mNone\u001b[39;00m:\n\u001b[1;32m     64\u001b[0m         \u001b[38;5;28mprint\u001b[39m(\u001b[38;5;124mf\u001b[39m\u001b[38;5;124m\"\u001b[39m\u001b[38;5;124mWarning: Unable to load image \u001b[39m\u001b[38;5;132;01m{\u001b[39;00mimg_path\u001b[38;5;132;01m}\u001b[39;00m\u001b[38;5;124m, skipping...\u001b[39m\u001b[38;5;124m\"\u001b[39m)\n",
      "\u001b[0;31mKeyboardInterrupt\u001b[0m: "
     ]
    }
   ],
   "source": [
    "import pandas as pd\n",
    "import numpy as np\n",
    "from PIL import Image\n",
    "from pathlib import Path\n",
    "from collections import Counter\n",
    "from tqdm import tqdm\n",
    "import cv2\n",
    "import os\n",
    "\n",
    "# Set paths\n",
    "file_location_path = Path.cwd()\n",
    "ns6_wiki_paths = Path('../../data/processed/landscape_score')\n",
    "image_folder = Path('/home/ubuntu/landscape-aesthetics')\n",
    "project_base_path = file_location_path.parent.parent\n",
    "\n",
    "def get_dominant_colors(image_path, bins_per_channel=8, top_colors=8):\n",
    "    image = cv2.imread(str(image_path))\n",
    "    image = cv2.cvtColor(image, cv2.COLOR_BGR2RGB)\n",
    "    hist = cv2.calcHist([image], [0, 1, 2], None, [bins_per_channel] * 3, [0, 256] * 3)\n",
    "    hist = hist.flatten()\n",
    "    \n",
    "    bin_size = 256 // bins_per_channel\n",
    "    bin_centers = np.arange(bin_size // 2, 256, bin_size)\n",
    "    color_bins = [(r, g, b) for r in bin_centers for g in bin_centers for b in bin_centers]\n",
    "    \n",
    "    color_freq = Counter({color_bins[i]: hist[i] for i in range(len(hist))})\n",
    "    dominant_colors = [color for color, freq in color_freq.most_common(top_colors)]\n",
    "    \n",
    "    return dominant_colors\n",
    "\n",
    "# Loop through each file and process images in score range 5-6\n",
    "for file_name in os.listdir(ns6_wiki_paths):\n",
    "    file_path = ns6_wiki_paths / file_name\n",
    "    dominant_colors_data = []\n",
    "    if file_path.is_file():\n",
    "        label_file_path = Path(file_name)\n",
    "        labeled_csv_name = label_file_path.with_suffix('.csv')\n",
    "        result = project_base_path / 'data' / 'processed' / 'dominant_color_wikidata_5' / labeled_csv_name\n",
    "        result.parent.mkdir(parents=True, exist_ok=True)\n",
    "\n",
    "        data = pd.read_csv(file_path, usecols=['image_path','predicted_score'])\n",
    "        # Filter images with predicted_score in range 5-6\n",
    "        data = data[(data['predicted_score'] >= 5) & (data['predicted_score'] < 6)]\n",
    "        image_paths = data['image_path'].tolist()\n",
    "        predicted_scores = data['predicted_score'].tolist()\n",
    "\n",
    "        for img_path, predicted_score in tqdm(zip(image_paths, predicted_scores), desc=\"Processing images (5-6)\"):\n",
    "            image_path = image_folder / img_path\n",
    "            try:\n",
    "                dominant_colors = get_dominant_colors(image_path)\n",
    "                dominant_colors_data.append([str(image_path), predicted_score, *np.ravel(dominant_colors)])\n",
    "            except Exception as e:\n",
    "                print(f\"Error processing image {image_path}: {e}\")\n",
    "                continue\n",
    "        \n",
    "        output_df = pd.DataFrame(dominant_colors_data, columns=[\n",
    "            \"image_path\", \"predicted_score\", 'R1', 'G1', 'B1', 'R2', 'G2', 'B2', 'R3', 'G3', 'B3', \n",
    "            'R4', 'G4', 'B4', 'R5', 'G5', 'B5', 'R6', 'G6', 'B6', 'R7', 'G7', 'B7', 'R8', 'G8', 'B8'\n",
    "        ])\n",
    "        output_df.to_csv(result, index=False)\n"
   ]
  },
  {
   "cell_type": "code",
   "execution_count": null,
   "id": "95be3a8e-0f35-4c8e-8100-3ef0fc63e3ea",
   "metadata": {},
   "outputs": [],
   "source": []
  }
 ],
 "metadata": {
  "kernelspec": {
   "display_name": "Python 3 (ipykernel)",
   "language": "python",
   "name": "python3"
  },
  "language_info": {
   "codemirror_mode": {
    "name": "ipython",
    "version": 3
   },
   "file_extension": ".py",
   "mimetype": "text/x-python",
   "name": "python",
   "nbconvert_exporter": "python",
   "pygments_lexer": "ipython3",
   "version": "3.12.2"
  }
 },
 "nbformat": 4,
 "nbformat_minor": 5
}
