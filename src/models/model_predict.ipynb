{
 "cells": [
  {
   "cell_type": "code",
   "execution_count": 19,
   "id": "409193c4-e65b-4004-bd10-efc51be3ce4e",
   "metadata": {},
   "outputs": [],
   "source": [
    "import pandas as pd\n",
    "import os\n",
    "from PIL import Image\n",
    "import torch\n",
    "import torch.nn as nn\n",
    "import torch.nn.functional as F\n",
    "from torchvision import transforms, models\n",
    "from torch.utils.data import Dataset, DataLoader\n",
    "from sklearn.metrics import mean_absolute_error, r2_score\n",
    "from pathlib import Path \n"
   ]
  },
  {
   "cell_type": "code",
   "execution_count": 26,
   "id": "17fa2517-6601-4ea7-8fce-06fd545095ee",
   "metadata": {},
   "outputs": [],
   "source": [
    "class ScenicDataset(Dataset):\n",
    "    def __init__(self, data_frame, root_dir, transform=None):\n",
    "        self.data_frame = data_frame\n",
    "        self.root_dir = root_dir\n",
    "        self.transform = transform\n",
    "\n",
    "    def __len__(self):\n",
    "        return len(self.data_frame)\n",
    "\n",
    "    def __getitem__(self, idx):\n",
    "        img_name = os.path.join(self.root_dir, self.data_frame.iloc[idx]['filename'])\n",
    "        try:\n",
    "            image = Image.open(img_name).convert('RGB')\n",
    "        except (IOError, SyntaxError) as e:\n",
    "            return None  \n",
    "\n",
    "        if self.transform:\n",
    "            image = self.transform(image)\n",
    "\n",
    "        return image  \n"
   ]
  },
  {
   "cell_type": "code",
   "execution_count": 27,
   "id": "f414aebd-66f6-4560-92c3-3eee5190f1a9",
   "metadata": {},
   "outputs": [],
   "source": [
    "data_transforms = transforms.Compose([\n",
    "    transforms.Resize((256, 256)),\n",
    "    transforms.CenterCrop(256),\n",
    "    transforms.ToTensor(),\n",
    "    transforms.Normalize([0.485, 0.456, 0.406], [0.229, 0.224, 0.225])\n",
    "])\n"
   ]
  },
  {
   "cell_type": "code",
   "execution_count": 28,
   "id": "d70bae00-c078-428d-8ea1-fb32f7073250",
   "metadata": {},
   "outputs": [],
   "source": [
    "from torchvision.models import ResNet50_Weights\n",
    "\n",
    "class ResNet50FeatureExtractor(nn.Module):\n",
    "    def __init__(self):\n",
    "        super(ResNet50FeatureExtractor, self).__init__()\n",
    "        resnet = models.resnet50(weights=ResNet50_Weights.IMAGENET1K_V1)  \n",
    "        self.feature_extractor = nn.Sequential(*list(resnet.children())[:-1])  \n",
    "\n",
    "    def forward(self, x):\n",
    "        with torch.no_grad():\n",
    "            features = self.feature_extractor(x)\n",
    "        return features.squeeze()\n"
   ]
  },
  {
   "cell_type": "code",
   "execution_count": 29,
   "id": "20b0b7c3-8849-4b2e-a917-d0c3683567ca",
   "metadata": {},
   "outputs": [],
   "source": [
    "class RegressionModel(nn.Module):\n",
    "    def __init__(self, input_dim):\n",
    "        super(RegressionModel, self).__init__()\n",
    "        self.fc1 = nn.Linear(input_dim, 512)\n",
    "        self.fc2 = nn.Linear(512, 256)\n",
    "        self.fc3 = nn.Linear(256, 1)\n",
    "        self.dropout = nn.Dropout(0.5)\n",
    "    \n",
    "    def forward(self, x):\n",
    "        x = F.relu(self.fc1(x))\n",
    "        x = self.dropout(x)\n",
    "        x = F.relu(self.fc2(x))\n",
    "        x = self.dropout(x)\n",
    "        x = self.fc3(x)\n",
    "        return x\n"
   ]
  },
  {
   "cell_type": "code",
   "execution_count": 30,
   "id": "bdb69e78-f14f-4f45-a857-76fac4c1479d",
   "metadata": {},
   "outputs": [
    {
     "data": {
      "text/plain": [
       "RegressionModel(\n",
       "  (fc1): Linear(in_features=2048, out_features=512, bias=True)\n",
       "  (fc2): Linear(in_features=512, out_features=256, bias=True)\n",
       "  (fc3): Linear(in_features=256, out_features=1, bias=True)\n",
       "  (dropout): Dropout(p=0.5, inplace=False)\n",
       ")"
      ]
     },
     "execution_count": 30,
     "metadata": {},
     "output_type": "execute_result"
    }
   ],
   "source": [
    "input_dim = 2048  \n",
    "\n",
    "\n",
    "feature_extractor = ResNet50FeatureExtractor()\n",
    "feature_extractor.eval()  \n",
    "\n",
    "model = RegressionModel(input_dim)\n",
    "model.load_state_dict(torch.load('/home/ubuntu/landscape-aesthetics/models/resnet50_weights.pth', weights_only=True))\n",
    "model.eval() \n"
   ]
  },
  {
   "cell_type": "code",
   "execution_count": 43,
   "id": "e9e8c007-cb1d-4804-8f0e-872684c447ed",
   "metadata": {},
   "outputs": [],
   "source": [
    "new_data_path = '/home/ubuntu/landscape-aesthetics/data/external/scenicornot/scenicornot.metadata.csv'\n",
    "root_dir = '/home/ubuntu/landscape-aesthetics/data/external/scenicornot'\n",
    "\n",
    "new_data = pd.read_csv(new_data_path)\n",
    "\n",
    "data_transforms = transforms.Compose([\n",
    "    transforms.Resize((256, 256)),\n",
    "    transforms.CenterCrop(256),\n",
    "    transforms.ToTensor(),\n",
    "    transforms.Normalize([0.485, 0.456, 0.406], [0.229, 0.224, 0.225])\n",
    "])\n",
    "\n",
    "\n",
    "new_image_dataset = ScenicDataset(data_frame=new_data, root_dir=root_dir, transform=data_transforms)\n",
    "new_loader = DataLoader(new_image_dataset, batch_size=32, shuffle=False, num_workers=4)"
   ]
  },
  {
   "cell_type": "code",
   "execution_count": 48,
   "id": "87af5513-d4c6-4b61-91a8-a4aad29c5e7b",
   "metadata": {
    "scrolled": true
   },
   "outputs": [
    {
     "name": "stdout",
     "output_type": "stream",
     "text": [
      "First 10 predictions: [array([3.8283322], dtype=float32), array([4.1133823], dtype=float32), array([3.7107525], dtype=float32), array([3.820698], dtype=float32), array([3.3600016], dtype=float32), array([5.5198455], dtype=float32), array([3.829258], dtype=float32), array([5.1671195], dtype=float32), array([5.4208593], dtype=float32), array([5.230237], dtype=float32)]\n",
      "results of prediction have been saved\n"
     ]
    }
   ],
   "source": [
    "predictions = []\n",
    "image_filenames = new_data['filename'].tolist()\n",
    "\n",
    "with torch.no_grad():\n",
    "    for images in new_loader:\n",
    "        if images is None:\n",
    "            continue  \n",
    "\n",
    "        features = feature_extractor(images)\n",
    "        features = features.view(features.size(0), -1)\n",
    "\n",
    "        outputs = model(features)\n",
    "\n",
    "        predictions.extend(outputs.cpu().numpy())\n",
    "        \n",
    "\n",
    "image_filenames = image_filenames[:len(predictions)]\n",
    "\n",
    "print(f\"First 10 predictions: {predictions[:10]}\")\n",
    "\n",
    "new_data['predict_result'] = predictions\n",
    "\n",
    "\n",
    "df_results.to_csv(new_data_path, index=False)\n",
    "\n",
    "print(\"results of prediction have been saved\")"
   ]
  }
 ],
 "metadata": {
  "kernelspec": {
   "display_name": "Python 3 (ipykernel)",
   "language": "python",
   "name": "python3"
  },
  "language_info": {
   "codemirror_mode": {
    "name": "ipython",
    "version": 3
   },
   "file_extension": ".py",
   "mimetype": "text/x-python",
   "name": "python",
   "nbconvert_exporter": "python",
   "pygments_lexer": "ipython3",
   "version": "3.12.2"
  }
 },
 "nbformat": 4,
 "nbformat_minor": 5
}
