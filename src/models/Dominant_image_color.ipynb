{
 "cells": [
  {
   "cell_type": "code",
   "execution_count": null,
   "id": "807f29bb-b6c5-4e08-8480-abe7cfbab60f",
   "metadata": {},
   "outputs": [],
   "source": [
    "import cv2\n",
    "import numpy as np\n",
    "from sklearn.cluster import KMeans\n",
    "\n",
    "def extract_dominant_color(image_path, k=3):\n",
    "    image = cv2.imread(image_path)\n",
    "    image = cv2.cvtColor(image, cv2.COLOR_BGR2RGB)\n",
    "    \n",
    "    image = image.reshape((image.shape[0] * image.shape[1], 3))\n",
    "\n",
    "    kmeans = KMeans(n_clusters=k)\n",
    "    kmeans.fit(image)\n",
    "\n",
    "    dominant_color = kmeans.cluster_centers_[0]\n",
    "    return dominant_color\n",
    "\n",
    "image_path = \"path/to/your/image.jpg\"\n",
    "dominant_color = extract_dominant_color(image_path)\n",
    "print(\"（RGB）:\", dominant_color)"
   ]
  }
 ],
 "metadata": {
  "kernelspec": {
   "display_name": "Python 3 (ipykernel)",
   "language": "python",
   "name": "python3"
  },
  "language_info": {
   "codemirror_mode": {
    "name": "ipython",
    "version": 3
   },
   "file_extension": ".py",
   "mimetype": "text/x-python",
   "name": "python",
   "nbconvert_exporter": "python",
   "pygments_lexer": "ipython3",
   "version": "3.12.2"
  }
 },
 "nbformat": 4,
 "nbformat_minor": 5
}
