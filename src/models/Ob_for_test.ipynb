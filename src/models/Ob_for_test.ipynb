{
 "cells": [
  {
   "cell_type": "code",
   "execution_count": null,
   "id": "ac863e70-d590-4918-8822-6e4ff0c3d974",
   "metadata": {},
   "outputs": [],
   "source": [
    "from ultralytics import YOLO\n",
    "\n",
    "\n",
    "model = YOLO('yolov8n.pt')\n",
    "\n",
    "\n",
    "results = model('/home/ubuntu/landscape-aesthetics/data/external/ADEChallengeData2016/images/training/ADE_train_00000002.jpg')\n",
    "\n",
    "\n",
    "for result in results:\n",
    "    result.show()\n"
   ]
  },
  {
   "cell_type": "code",
   "execution_count": null,
   "id": "8a16ac01-cd4b-44b9-be04-775c05bc89a0",
   "metadata": {},
   "outputs": [],
   "source": [
    "import yaml\n",
    "\n",
    "with open('/home/ubuntu/landscape-aesthetics/data/external/ADEChallengeData2016/dataset.yaml', 'r') as f:\n",
    "    data = yaml.safe_load(f)\n",
    "    print(data)\n"
   ]
  },
  {
   "cell_type": "code",
   "execution_count": null,
   "id": "f78bffe7-e9b0-42e9-b2bd-7415d79bc791",
   "metadata": {},
   "outputs": [],
   "source": [
    "from ultralytics import YOLO\n",
    "\n",
    "# load yolov8 model\n",
    "model = YOLO('yolov8n.pt')\n",
    "\n",
    "model.train(\n",
    "    data='/home/ubuntu/landscape-aesthetics/data/external/ADEChallengeData2016/dataset.yaml',  \n",
    "    epochs=10, \n",
    "    imgsz=256，\n",
    "    save=True,  \n",
    "    save_period=1,  \n",
    "    name='yolov8_finetune' \n",
    ")\n"
   ]
  },
  {
   "cell_type": "code",
   "execution_count": null,
   "id": "77509c9d-6f55-44ed-b183-362847e3a3bf",
   "metadata": {},
   "outputs": [],
   "source": []
  }
 ],
 "metadata": {
  "kernelspec": {
   "display_name": "Python 3 (ipykernel)",
   "language": "python",
   "name": "python3"
  },
  "language_info": {
   "codemirror_mode": {
    "name": "ipython",
    "version": 3
   },
   "file_extension": ".py",
   "mimetype": "text/x-python",
   "name": "python",
   "nbconvert_exporter": "python",
   "pygments_lexer": "ipython3",
   "version": "3.12.2"
  }
 },
 "nbformat": 4,
 "nbformat_minor": 5
}
