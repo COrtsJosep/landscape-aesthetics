{
 "cells": [
  {
   "cell_type": "code",
   "execution_count": 2,
   "id": "5fbf7557-5258-4c8e-a224-96dc66f601a1",
   "metadata": {},
   "outputs": [],
   "source": [
    "import pandas as pd\n",
    "import os\n",
    "from PIL import Image\n",
    "import torch\n",
    "import torch.nn as nn\n",
    "import torchvision.models as models\n",
    "from torchvision import transforms\n",
    "from torch.utils.data import Dataset, DataLoader\n",
    "import torch.optim as optim\n",
    "from sklearn.metrics import mean_absolute_error, r2_score\n",
    "import matplotlib.pyplot as plt\n",
    "from pathlib import Path\n",
    "import torch.nn.functional as F\n",
    "import sys\n",
    "from sklearn.metrics import accuracy_score, recall_score\n",
    "import random\n",
    "from tqdm import tqdm\n",
    "from sklearn.metrics import confusion_matrix\n",
    "from collections import Counter\n",
    "import re"
   ]
  },
  {
   "cell_type": "code",
   "execution_count": 27,
   "id": "27470bd8-bbf0-45eb-a20a-36a076d72f56",
   "metadata": {},
   "outputs": [],
   "source": [
    "def get_landscape_type_by_id(df,i):\n",
    "    return df.iloc[i, 0]"
   ]
  },
  {
   "cell_type": "code",
   "execution_count": 31,
   "id": "f3acc815-9dfa-4e4e-a0a5-f83a5bdef358",
   "metadata": {},
   "outputs": [
    {
     "name": "stdout",
     "output_type": "stream",
     "text": [
      "Results saved to: /home/ubuntu/landscape-aesthetics/data/external/scenicornot/result_of_type_of_landscapes.csv\n"
     ]
    },
    {
     "data": {
      "image/png": "[encoded data removed]",
      "text/plain": [
       "<Figure size 640x480 with 1 Axes>"
      ]
     },
     "metadata": {},
     "output_type": "display_data"
    }
   ],
   "source": [
    "file_location_path = Path.cwd()\n",
    "project_base_path = file_location_path.parent.parent\n",
    "scenic_or_not_paths = project_base_path / 'data' / 'external' / 'scenicornot'\n",
    "image_folder = Path('/home/ubuntu/landscape-aesthetics')\n",
    "\n",
    "model = models.resnet18(weights=None)\n",
    "num_ftrs = model.fc.in_features\n",
    "model.fc = nn.Linear(num_ftrs, 305)\n",
    "model.load_state_dict(torch.load('../../models/places365_lanscape_type_classification.pth', map_location='cpu', weights_only=True))\n",
    "model.eval()\n",
    "\n",
    "data_transforms = transforms.Compose([\n",
    "        # transforms.Resize((256, 256)),\n",
    "        transforms.CenterCrop(256),\n",
    "        transforms.ToTensor(),\n",
    "        transforms.Normalize([0.485, 0.456, 0.406], [0.229, 0.224, 0.225]),\n",
    "        transforms.RandomHorizontalFlip(),\n",
    "        transforms.ColorJitter(brightness=0.2, contrast=0.2, saturation=0.2, hue=0.2)\n",
    "    ])\n",
    "landscape_type_df = pd.read_csv('/home/ubuntu/landscape-aesthetics/data/external/ADEChallengeData2016/landscape_categories.csv')  \n",
    "\n",
    "data = pd.read_csv(os.path.join(scenic_or_not_paths, 'scenicornot.metadata.csv'), usecols = ['filename'])\n",
    "\n",
    "data = data.sample(n=100, random_state=1)\n",
    "\n",
    "result = project_base_path / 'data' / 'external' / 'scenicornot' / 'result_of_type_of_landscapes.csv'\n",
    "image_paths = data.iloc[:, 0].tolist()\n",
    "predictions = []\n",
    "image_results = []\n",
    "    \n",
    "for img_path in tqdm(image_paths, desc=\"Processing images\"):\n",
    "    image_path = os.path.join(scenic_or_not_paths, img_path) \n",
    "    img_display = Image.open(image_path)\n",
    "    # plt.imshow(img_display)\n",
    "    img = data_transforms(Image.open(image_path).convert('RGB')) .unsqueeze(0)\n",
    "    \n",
    "    with torch.no_grad():\n",
    "        output = model(img)\n",
    "    \n",
    "    _, predicted = torch.max(output, 1)\n",
    "    predictions.append(get_landscape_type_by_id(landscape_type_df, predicted.item()))\n",
    "    image_results.append((img_path, get_landscape_type_by_id(landscape_type_df, predicted.item())))\n",
    "    plt.title(f\"Predicted Landscape Type: {get_landscape_type_by_id(landscape_type_df, predicted.item())}\")\n",
    "    plt.axis('off')\n",
    "    # plt.show()\n",
    "results_df = pd.DataFrame(image_results, columns=['image_path', 'prediction'])\n",
    "\n",
    "results_df.to_csv(result, index=False)\n",
    "print(f\"Results saved to: {result}\")"
   ]
  },
  {
   "cell_type": "code",
   "execution_count": null,
   "id": "30ee0ad3-af26-4423-8e08-a6faa2289f62",
   "metadata": {},
   "outputs": [],
   "source": []
  }
 ],
 "metadata": {
  "kernelspec": {
   "display_name": "Python 3 (ipykernel)",
   "language": "python",
   "name": "python3"
  },
  "language_info": {
   "codemirror_mode": {
    "name": "ipython",
    "version": 3
   },
   "file_extension": ".py",
   "mimetype": "text/x-python",
   "name": "python",
   "nbconvert_exporter": "python",
   "pygments_lexer": "ipython3",
   "version": "3.12.2"
  }
 },
 "nbformat": 4,
 "nbformat_minor": 5
}
