{
 "cells": [
  {
   "cell_type": "code",
   "execution_count": 1,
   "id": "66aabe6f-f1a3-4489-a1be-973bdce24f26",
   "metadata": {},
   "outputs": [],
   "source": [
    "import pandas as pd\n",
    "import os\n",
    "from PIL import Image\n",
    "import torch\n",
    "import torch.nn as nn\n",
    "import torch.nn.functional as F\n",
    "from torchvision import transforms, models\n",
    "from torch.utils.data import Dataset, DataLoader\n",
    "from sklearn.metrics import mean_absolute_error, r2_score\n",
    "from pathlib import Path \n"
   ]
  },
  {
   "cell_type": "code",
   "execution_count": 16,
   "id": "a25ab7cb-cd74-4eea-b365-b4c9501f8e59",
   "metadata": {},
   "outputs": [],
   "source": [
    "class ScenicDataset(Dataset):\n",
    "    def __init__(self, data_frame, root_dir, transform=None):\n",
    "        self.data_frame = data_frame\n",
    "        self.root_dir = root_dir\n",
    "        self.transform = transform\n",
    "\n",
    "    def __len__(self):\n",
    "        return len(self.data_frame)\n",
    "\n",
    "    def __getitem__(self, idx):\n",
    "        img_name = os.path.join(self.root_dir, self.data_frame.iloc[idx]['image_path'])\n",
    "        try:\n",
    "            image = Image.open(img_name).convert('RGB')\n",
    "        except (IOError, SyntaxError) as e:\n",
    "            return None  \n",
    "\n",
    "        if self.transform:\n",
    "            image = self.transform(image)\n",
    "\n",
    "        return image  \n"
   ]
  },
  {
   "cell_type": "code",
   "execution_count": 17,
   "id": "b9b27ca3-95ef-4825-bfb4-a3710139998d",
   "metadata": {},
   "outputs": [],
   "source": [
    "data_transforms = transforms.Compose([\n",
    "    transforms.Resize((256, 256)),\n",
    "    transforms.CenterCrop(256),\n",
    "    transforms.ToTensor(),\n",
    "    transforms.Normalize([0.485, 0.456, 0.406], [0.229, 0.224, 0.225])\n",
    "])\n"
   ]
  },
  {
   "cell_type": "code",
   "execution_count": 18,
   "id": "64ebd6da-d689-4340-882d-1ffa45abe629",
   "metadata": {},
   "outputs": [],
   "source": [
    "from torchvision.models import ResNet50_Weights\n",
    "\n",
    "class ResNet50FeatureExtractor(nn.Module):\n",
    "    def __init__(self):\n",
    "        super(ResNet50FeatureExtractor, self).__init__()\n",
    "        resnet = models.resnet50(weights=ResNet50_Weights.IMAGENET1K_V1)  \n",
    "        self.feature_extractor = nn.Sequential(*list(resnet.children())[:-1])  \n",
    "\n",
    "    def forward(self, x):\n",
    "        with torch.no_grad():\n",
    "            features = self.feature_extractor(x)\n",
    "        return features.squeeze()\n"
   ]
  },
  {
   "cell_type": "code",
   "execution_count": 19,
   "id": "62a39867-c63c-4e29-815d-122a9d49b353",
   "metadata": {},
   "outputs": [],
   "source": [
    "class RegressionModel(nn.Module):\n",
    "    def __init__(self, input_dim):\n",
    "        super(RegressionModel, self).__init__()\n",
    "        self.fc1 = nn.Linear(input_dim, 512)\n",
    "        self.fc2 = nn.Linear(512, 256)\n",
    "        self.fc3 = nn.Linear(256, 1)\n",
    "        self.dropout = nn.Dropout(0.5)\n",
    "    \n",
    "    def forward(self, x):\n",
    "        x = F.relu(self.fc1(x))\n",
    "        x = self.dropout(x)\n",
    "        x = F.relu(self.fc2(x))\n",
    "        x = self.dropout(x)\n",
    "        x = self.fc3(x)\n",
    "        return x\n"
   ]
  },
  {
   "cell_type": "code",
   "execution_count": 20,
   "id": "8ae4ff55-88e7-4fff-97dc-a0e38541fc1c",
   "metadata": {},
   "outputs": [
    {
     "data": {
      "text/plain": [
       "RegressionModel(\n",
       "  (fc1): Linear(in_features=2048, out_features=512, bias=True)\n",
       "  (fc2): Linear(in_features=512, out_features=256, bias=True)\n",
       "  (fc3): Linear(in_features=256, out_features=1, bias=True)\n",
       "  (dropout): Dropout(p=0.5, inplace=False)\n",
       ")"
      ]
     },
     "execution_count": 20,
     "metadata": {},
     "output_type": "execute_result"
    }
   ],
   "source": [
    "input_dim = 2048  \n",
    "\n",
    "\n",
    "feature_extractor = ResNet50FeatureExtractor()\n",
    "feature_extractor.eval()  \n",
    "\n",
    "model = RegressionModel(input_dim)\n",
    "model.load_state_dict(torch.load('/home/ubuntu/landscape-aesthetics/models/resnet50_weights.pth', weights_only=True))\n",
    "model.eval() \n"
   ]
  },
  {
   "cell_type": "code",
   "execution_count": 27,
   "id": "d15b09bd-3e7e-4506-b490-256decc48284",
   "metadata": {},
   "outputs": [],
   "source": [
    "def predict(loader, feature_extractor, model):\n",
    "    model.eval()\n",
    "    feature_extractor.eval()\n",
    "    \n",
    "    predictions = []\n",
    "    \n",
    "    with torch.no_grad():  \n",
    "        for images in loader:\n",
    "            if images is None:\n",
    "                continue  \n",
    "           \n",
    "            features = feature_extractor(images)\n",
    "        \n",
    "            outputs = model(features)\n",
    "            predictions.extend(outputs.squeeze().cpu().numpy())\n",
    "    \n",
    "    return predictions\n",
    "\n",
    "predicted_scores = predict(data_loader, feature_extractor, model)"
   ]
  },
  {
   "cell_type": "code",
   "execution_count": 26,
   "id": "ce2fbf77-d8e5-4508-bd7e-2cc0c35fe722",
   "metadata": {},
   "outputs": [],
   "source": [
    "file_location_path = Path.cwd()\n",
    "project_base_path = file_location_path.parent.parent\n",
    "data_path = project_base_path / 'data' / 'processed' / 'landscape_score' / 'precessed_data' / 'processed'\n",
    "image_folder = Path('/home/ubuntu/landscape-aesthetics')\n",
    "\n",
    "csv_file = data_path / 'ns6_clean_00.csv'\n",
    "data_frame = pd.read_csv(csv_file)\n",
    "\n",
    "dataset = ScenicDataset(data_frame=data_frame, root_dir=image_folder, transform=data_transforms)\n",
    "data_loader = DataLoader(dataset, batch_size=32, shuffle=False, num_workers=4)"
   ]
  },
  {
   "cell_type": "code",
   "execution_count": null,
   "id": "208782c6-e42b-4f90-ad8e-bd95e4994c9c",
   "metadata": {},
   "outputs": [],
   "source": []
  },
  {
   "cell_type": "code",
   "execution_count": 28,
   "id": "77fadf90-0a1a-46d2-9257-e73b3b9f908f",
   "metadata": {},
   "outputs": [
    {
     "name": "stdout",
     "output_type": "stream",
     "text": [
      "Predictions saved to /home/ubuntu/landscape-aesthetics/data/processed/landscape_score/predicted_scores.csv\n"
     ]
    }
   ],
   "source": [
    "#save results\n",
    "results = pd.DataFrame({\n",
    "    'image_path': data_frame['image_path'],\n",
    "    'predicted_score': predicted_scores\n",
    "})\n",
    "\n",
    "results_folder = project_base_path / 'data' / 'processed' / 'landscape_score'\n",
    "results_folder.mkdir(parents=True, exist_ok=True)  \n",
    "\n",
    "results_file = results_folder / 'predicted_scores.csv'  \n",
    "results.to_csv(results_file, index=False)\n",
    "print(f'Predictions saved to {results_file}')"
   ]
  }
 ],
 "metadata": {
  "kernelspec": {
   "display_name": "Python 3 (ipykernel)",
   "language": "python",
   "name": "python3"
  },
  "language_info": {
   "codemirror_mode": {
    "name": "ipython",
    "version": 3
   },
   "file_extension": ".py",
   "mimetype": "text/x-python",
   "name": "python",
   "nbconvert_exporter": "python",
   "pygments_lexer": "ipython3",
   "version": "3.12.2"
  }
 },
 "nbformat": 4,
 "nbformat_minor": 5
}
