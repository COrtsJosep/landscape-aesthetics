{
 "cells": [
  {
   "cell_type": "code",
   "execution_count": 1,
   "id": "ecd198c8-a49f-471c-a51e-c044aacae4c3",
   "metadata": {},
   "outputs": [
    {
     "name": "stdout",
     "output_type": "stream",
     "text": [
      "合并后的CSV文件已保存到: /home/ubuntu/landscape-aesthetics/data/processed/landscape_ob/A_with_ratings.csv\n"
     ]
    }
   ],
   "source": [
    "import pandas as pd\n",
    "from pathlib import Path\n",
    "import os\n",
    "\n",
    "\n",
    "file_location_path = Path.cwd()\n",
    "project_base_path = file_location_path.parent.parent\n",
    "\n",
    "\n",
    "csv_file = project_base_path / 'data' / 'processed' / 'landscape_ob' / 'selected_images_6_to_7.csv'\n",
    "data = pd.read_csv(csv_file)\n",
    "\n",
    "\n",
    "ratings_folder = project_base_path / 'data' / 'processed' / 'landscape_ob' / 'categories'\n",
    "all_ratings = []\n",
    "\n",
    "\n",
    "for filename in os.listdir(ratings_folder):\n",
    "    if filename.endswith(\".csv\"):\n",
    "        file_path = ratings_folder / filename  \n",
    "        ratings_df = pd.read_csv(file_path)\n",
    "        all_ratings.append(ratings_df)\n",
    "\n",
    "\n",
    "ratings = pd.concat(all_ratings, ignore_index=True)\n",
    "\n",
    "\n",
    "data_with_ratings = data.merge(ratings, left_on=\"image_path\", right_on=\"filename\", how=\"left\")\n",
    "\n",
    "\n",
    "data_with_ratings = data_with_ratings.drop(columns=[\"filename\"])\n",
    "\n",
    "\n",
    "output_directory = project_base_path / 'data' / 'processed' / 'landscape_ob'\n",
    "output_directory.mkdir(parents=True, exist_ok=True)  # 创建目录（如果不存在）\n",
    "\n",
    "\n",
    "output_path = output_directory / \"A_with_ratings.csv\"\n",
    "data_with_ratings.to_csv(output_path, index=False)  # 保存文件，不写入行号\n",
    "\n",
    "print(f\"file has been saved to: {output_path}\")\n"
   ]
  },
  {
   "cell_type": "code",
   "execution_count": 4,
   "id": "debf7dc5-58dd-41ea-a3cf-3569b8c089fd",
   "metadata": {},
   "outputs": [
    {
     "name": "stdout",
     "output_type": "stream",
     "text": [
      "合并后的 CSV 文件已保存到：/home/ubuntu/landscape-aesthetics/data/processed/landscape_ob/A_with_combined_predictions.csv\n"
     ]
    }
   ],
   "source": [
    "import pandas as pd\n",
    "from pathlib import Path\n",
    "\n",
    "\n",
    "file_location_path = Path.cwd()\n",
    "project_base_path = file_location_path.parent.parent\n",
    "\n",
    "# 加载 CSV 文件\n",
    "csv_file = project_base_path / 'data' / 'processed' / 'landscape_ob' / 'A_with_ratings.csv'\n",
    "data = pd.read_csv(csv_file)\n",
    "\n",
    "\n",
    "data['predictions_combined'] = data[['prediction1', 'prediction2', 'prediction3', 'prediction4', 'prediction5']].fillna('').astype(str).agg(';'.join, axis=1)\n",
    "\n",
    "\n",
    "data = data.drop(columns=[\"prediction1\", \"prediction2\", \"prediction3\", \"prediction4\", \"prediction5\",\n",
    "                          \"probability1\", \"probability2\", \"probability3\", \"probability4\", \"probability5\"])\n",
    "\n",
    "\n",
    "output_directory = project_base_path / 'data' / 'processed' / 'landscape_ob'\n",
    "output_directory.mkdir(parents=True, exist_ok=True)\n",
    "output_file = output_directory / \"A_with_combined_predictions.csv\"\n",
    "\n",
    "\n",
    "data.to_csv(output_file, index=False)\n",
    "\n",
    "print(f\"file has been saved to：{output_file}\")\n"
   ]
  },
  {
   "cell_type": "code",
   "execution_count": 123,
   "id": "2a998937-2e1c-468b-9482-a8b348c438ca",
   "metadata": {},
   "outputs": [
    {
     "name": "stdout",
     "output_type": "stream",
     "text": [
      "当前值： sky; Oceans and lakes; mountain\n"
     ]
    }
   ],
   "source": [
    "import pandas as pd\n",
    "from pathlib import Path\n",
    "\n",
    "\n",
    "file_location_path = Path.cwd()\n",
    "project_base_path = file_location_path.parent.parent\n",
    "\n",
    "# 加载 CSV 文件\n",
    "csv_file = project_base_path / 'data' / 'processed' / 'landscape_ob' / 'combined_6_7.csv'\n",
    "data = pd.read_csv(csv_file)\n",
    "\n",
    "# 指定行索引和列名\n",
    "row_index = 49      # 第 2 行（索引为 1）\n",
    "column_name = 'type_summary'\n",
    "\n",
    "# 打印当前单元格的值\n",
    "print(\"当前值：\", data.loc[row_index, column_name])\n",
    "\n"
   ]
  },
  {
   "cell_type": "code",
   "execution_count": 124,
   "id": "78041a1e-5786-4d83-ad20-755757574ccb",
   "metadata": {},
   "outputs": [
    {
     "name": "stdout",
     "output_type": "stream",
     "text": [
      "修改后的值： mountain; sky; Oceans and lakes; Clouds_fog_smoke; vegetation\n",
      "修改后的数据已保存到：/home/ubuntu/landscape-aesthetics/data/processed/landscape_ob/combined_6_7.csv\n"
     ]
    }
   ],
   "source": [
    "# 修改该单元格的值\n",
    "data.loc[row_index, column_name] = 'mountain; sky; Oceans and lakes; Clouds_fog_smoke; vegetation'\n",
    "\n",
    "print(\"修改后的值：\", data.loc[row_index, column_name])\n",
    "\n",
    "data.to_csv(csv_file, index=False)  # 覆盖原始文件，index=False 去掉索引列\n",
    "print(f\"修改后的数据已保存到：{csv_file}\")"
   ]
  },
  {
   "cell_type": "code",
   "execution_count": null,
   "id": "b539563a-efa9-44df-8c11-d30b0ef46a1e",
   "metadata": {},
   "outputs": [],
   "source": []
  }
 ],
 "metadata": {
  "kernelspec": {
   "display_name": "Python 3 (ipykernel)",
   "language": "python",
   "name": "python3"
  },
  "language_info": {
   "codemirror_mode": {
    "name": "ipython",
    "version": 3
   },
   "file_extension": ".py",
   "mimetype": "text/x-python",
   "name": "python",
   "nbconvert_exporter": "python",
   "pygments_lexer": "ipython3",
   "version": "3.12.2"
  }
 },
 "nbformat": 4,
 "nbformat_minor": 5
}
