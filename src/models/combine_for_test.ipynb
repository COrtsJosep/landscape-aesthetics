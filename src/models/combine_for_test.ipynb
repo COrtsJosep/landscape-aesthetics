{
 "cells": [
  {
   "cell_type": "code",
   "execution_count": 1,
   "id": "ecd198c8-a49f-471c-a51e-c044aacae4c3",
   "metadata": {},
   "outputs": [
    {
     "name": "stdout",
     "output_type": "stream",
     "text": [
      "file has been saved to: /home/ubuntu/landscape-aesthetics/data/processed/landscape_ob/A_with_ratings.csv\n"
     ]
    }
   ],
   "source": [
    "import pandas as pd\n",
    "from pathlib import Path\n",
    "import os\n",
    "\n",
    "\n",
    "file_location_path = Path.cwd()\n",
    "project_base_path = file_location_path.parent.parent\n",
    "\n",
    "\n",
    "csv_file = project_base_path / 'data' / 'processed' / 'landscape_ob' / 'selected_images_5_to_6.csv'\n",
    "data = pd.read_csv(csv_file)\n",
    "\n",
    "\n",
    "ratings_folder = project_base_path / 'data' / 'processed' / 'landscape_ob' / 'categories'\n",
    "all_ratings = []\n",
    "\n",
    "\n",
    "for filename in os.listdir(ratings_folder):\n",
    "    if filename.endswith(\".csv\"):\n",
    "        file_path = ratings_folder / filename  \n",
    "        ratings_df = pd.read_csv(file_path)\n",
    "        all_ratings.append(ratings_df)\n",
    "\n",
    "\n",
    "ratings = pd.concat(all_ratings, ignore_index=True)\n",
    "\n",
    "\n",
    "data_with_ratings = data.merge(ratings, left_on=\"image_path\", right_on=\"filename\", how=\"left\")\n",
    "\n",
    "\n",
    "data_with_ratings = data_with_ratings.drop(columns=[\"filename\"])\n",
    "\n",
    "\n",
    "output_directory = project_base_path / 'data' / 'processed' / 'landscape_ob'\n",
    "output_directory.mkdir(parents=True, exist_ok=True)  \n",
    "\n",
    "\n",
    "output_path = output_directory / \"A_with_ratings.csv\"\n",
    "data_with_ratings.to_csv(output_path, index=False)  \n",
    "\n",
    "print(f\"file has been saved to: {output_path}\")\n"
   ]
  },
  {
   "cell_type": "code",
   "execution_count": 2,
   "id": "debf7dc5-58dd-41ea-a3cf-3569b8c089fd",
   "metadata": {},
   "outputs": [
    {
     "name": "stdout",
     "output_type": "stream",
     "text": [
      "file has been saved to：/home/ubuntu/landscape-aesthetics/data/processed/landscape_ob/A_with_combined_predictions.csv\n"
     ]
    }
   ],
   "source": [
    "import pandas as pd\n",
    "from pathlib import Path\n",
    "\n",
    "\n",
    "file_location_path = Path.cwd()\n",
    "project_base_path = file_location_path.parent.parent\n",
    "\n",
    "# 加载 CSV 文件\n",
    "csv_file = project_base_path / 'data' / 'processed' / 'landscape_ob' / 'A_with_ratings.csv'\n",
    "data = pd.read_csv(csv_file)\n",
    "\n",
    "\n",
    "data['predictions_combined'] = data[['prediction1', 'prediction2', 'prediction3', 'prediction4', 'prediction5']].fillna('').astype(str).agg(';'.join, axis=1)\n",
    "\n",
    "\n",
    "data = data.drop(columns=[\"prediction1\", \"prediction2\", \"prediction3\", \"prediction4\", \"prediction5\",\n",
    "                          \"probability1\", \"probability2\", \"probability3\", \"probability4\", \"probability5\"])\n",
    "\n",
    "\n",
    "output_directory = project_base_path / 'data' / 'processed' / 'landscape_ob'\n",
    "output_directory.mkdir(parents=True, exist_ok=True)\n",
    "output_file = output_directory / \"A_with_combined_predictions.csv\"\n",
    "\n",
    "\n",
    "data.to_csv(output_file, index=False)\n",
    "\n",
    "print(f\"file has been saved to：{output_file}\")\n"
   ]
  },
  {
   "cell_type": "code",
   "execution_count": 14,
   "id": "2a998937-2e1c-468b-9482-a8b348c438ca",
   "metadata": {},
   "outputs": [
    {
     "name": "stdout",
     "output_type": "stream",
     "text": [
      "当前值：  window \n"
     ]
    }
   ],
   "source": [
    "import pandas as pd\n",
    "from pathlib import Path\n",
    "\n",
    "\n",
    "file_location_path = Path.cwd()\n",
    "project_base_path = file_location_path.parent.parent\n",
    "\n",
    "\n",
    "csv_file = project_base_path / 'data' / 'processed' / 'landscape_ob' / 'object_type_counts_sorted_by_score_range3.csv'\n",
    "data = pd.read_csv(csv_file)\n",
    "\n",
    "\n",
    "row_index = 66\n",
    "\n",
    "column_name = 'object_types'\n",
    "\n",
    "\n",
    "print(\"当前值：\", data.loc[row_index, column_name])\n",
    "\n"
   ]
  },
  {
   "cell_type": "code",
   "execution_count": 15,
   "id": "78041a1e-5786-4d83-ad20-755757574ccb",
   "metadata": {},
   "outputs": [
    {
     "name": "stdout",
     "output_type": "stream",
     "text": [
      "修改后的值： window\n",
      "修改后的数据已保存到：/home/ubuntu/landscape-aesthetics/data/processed/landscape_ob/object_type_counts_sorted_by_score_range3.csv\n"
     ]
    }
   ],
   "source": [
    "\n",
    "data.loc[row_index, column_name] = 'window'  \n",
    "\n",
    "print(\"修改后的值：\", data.loc[row_index, column_name])\n",
    "\n",
    "data.to_csv(csv_file, index=False)  \n",
    "print(f\"修改后的数据已保存到：{csv_file}\")"
   ]
  },
  {
   "cell_type": "code",
   "execution_count": 20,
   "id": "b539563a-efa9-44df-8c11-d30b0ef46a1e",
   "metadata": {},
   "outputs": [],
   "source": [
    "import pandas as pd\n",
    "from pathlib import Path\n",
    "\n",
    "file_location_path = Path.cwd()\n",
    "project_base_path = file_location_path.parent.parent\n",
    "\n",
    "csv_file = project_base_path / 'data' / 'processed' / 'landscape_ob' / 'object_type_counts_sorted_by_score_range3.csv'\n",
    "data = pd.read_csv(csv_file)\n",
    "\n",
    "def replace_object_types(types):\n",
    "    \n",
    "    if isinstance(types, str):\n",
    "        \n",
    "        #types = types.replace(' lamp post', 'lamp post')\n",
    "        types = types.replace(' sign', 'sign')\n",
    "        #types = types.replace('window', 'window')\n",
    "        #types = types.replace('shrubs', 'shrub')\n",
    "        #types = types.replace('trees', 'tree')\n",
    "        #types = types.replace('Rock walls', 'rock wall')\n",
    "        #types = types.replace('Oceans and lakes', 'ocean or lake')\n",
    "        #types = types.replace('Bare earth_mud_rocks', 'bare earth or mud')\n",
    "        \n",
    "        types = types.replace('  ', ' ')  # 去除多余空格  \n",
    "        return types\n",
    "    else:\n",
    "        return types\n",
    "\n",
    "data['object_types'] = data['object_types'].apply(replace_object_types)\n",
    "\n",
    "\n",
    "# 保存修改后的数据到新的 CSV 文件\n",
    "#temp_csv_file = project_base_path / 'data' / 'processed' / 'landscape_ob' / 'selected_images_temp.csv'\n",
    "data.to_csv(csv_file, index=False)\n",
    "\n",
    "# 如果替换成功，可以手动删除旧文件并将新文件重命名为旧文件名\n",
    "\n"
   ]
  },
  {
   "cell_type": "code",
   "execution_count": null,
   "id": "58cbed02-2ab3-46f0-9a2a-6f645d2103f3",
   "metadata": {},
   "outputs": [],
   "source": [
    "import pandas as pd\n",
    "from pathlib import Path\n",
    "\n",
    "# 获取文件路径\n",
    "file_location_path = Path.cwd()\n",
    "project_base_path = file_location_path.parent.parent\n",
    "\n",
    "# 定义 CSV 文件路径\n",
    "csv_file = project_base_path / 'data' / 'processed' / 'landscape_ob' / 'selected_images_temp.csv'\n",
    "\n",
    "# 读取 CSV 文件\n",
    "data = pd.read_csv(csv_file)\n",
    "\n",
    "# 删除 'object_type' 列\n",
    "data = data.drop(columns=['object_type'])\n",
    "\n",
    "# 重命名 'type_summary' 列为 'object_type'\n",
    "data = data.rename(columns={'type_summary': 'object_type'})\n",
    "\n",
    "# 保存修改后的数据到原 CSV 文件（覆盖原文件）\n",
    "data.to_csv(csv_file, index=False)\n"
   ]
  },
  {
   "cell_type": "code",
   "execution_count": null,
   "id": "8347e64f-58c0-45b4-9f52-128cb655487f",
   "metadata": {},
   "outputs": [],
   "source": []
  }
 ],
 "metadata": {
  "kernelspec": {
   "display_name": "Python 3 (ipykernel)",
   "language": "python",
   "name": "python3"
  },
  "language_info": {
   "codemirror_mode": {
    "name": "ipython",
    "version": 3
   },
   "file_extension": ".py",
   "mimetype": "text/x-python",
   "name": "python",
   "nbconvert_exporter": "python",
   "pygments_lexer": "ipython3",
   "version": "3.12.2"
  }
 },
 "nbformat": 4,
 "nbformat_minor": 5
}
