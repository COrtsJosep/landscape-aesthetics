{
 "cells": [
  {
   "cell_type": "code",
   "execution_count": 1,
   "id": "dd3f1927-43a5-40df-a233-b86968d4cce2",
   "metadata": {
    "execution": {
     "iopub.execute_input": "2024-11-06T18:13:58.190275Z",
     "iopub.status.busy": "2024-11-06T18:13:58.190050Z",
     "iopub.status.idle": "2024-11-06T19:37:13.262298Z",
     "shell.execute_reply": "2024-11-06T19:37:13.261197Z"
    }
   },
   "outputs": [
    {
     "name": "stderr",
     "output_type": "stream",
     "text": [
      "\r",
      "Processing Files:   0%|                                 | 0/100 [00:00<?, ?it/s]"
     ]
    },
    {
     "name": "stderr",
     "output_type": "stream",
     "text": [
      "\r",
      "Processing Files:   1%|▎                        | 1/100 [00:00<00:41,  2.38it/s]"
     ]
    },
    {
     "name": "stderr",
     "output_type": "stream",
     "text": [
      "\r",
      "Processing Files:   2%|▌                        | 2/100 [00:00<00:40,  2.40it/s]"
     ]
    },
    {
     "name": "stderr",
     "output_type": "stream",
     "text": [
      "\r",
      "Processing Files:   3%|▊                        | 3/100 [00:01<00:42,  2.27it/s]"
     ]
    },
    {
     "name": "stderr",
     "output_type": "stream",
     "text": [
      "\r",
      "Processing Files:   4%|█                        | 4/100 [00:01<00:51,  1.86it/s]"
     ]
    },
    {
     "name": "stderr",
     "output_type": "stream",
     "text": [
      "\r",
      "Processing Files:   5%|█▎                       | 5/100 [00:02<00:51,  1.84it/s]"
     ]
    },
    {
     "name": "stderr",
     "output_type": "stream",
     "text": [
      "\r",
      "Processing Files:   6%|█▌                       | 6/100 [00:03<00:49,  1.90it/s]"
     ]
    },
    {
     "name": "stderr",
     "output_type": "stream",
     "text": [
      "\r",
      "Processing Files:   7%|█▊                       | 7/100 [00:03<00:49,  1.88it/s]"
     ]
    },
    {
     "name": "stderr",
     "output_type": "stream",
     "text": [
      "\r",
      "Processing Files:   8%|██                       | 8/100 [00:04<00:49,  1.87it/s]"
     ]
    },
    {
     "name": "stderr",
     "output_type": "stream",
     "text": [
      "\r",
      "Processing Files:   9%|██▎                      | 9/100 [00:04<00:49,  1.83it/s]"
     ]
    },
    {
     "name": "stderr",
     "output_type": "stream",
     "text": [
      "\r",
      "Processing Files:  10%|██▍                     | 10/100 [00:05<00:48,  1.85it/s]"
     ]
    },
    {
     "name": "stderr",
     "output_type": "stream",
     "text": [
      "\r",
      "Processing Files:  11%|██▋                     | 11/100 [00:05<00:50,  1.75it/s]"
     ]
    },
    {
     "name": "stderr",
     "output_type": "stream",
     "text": [
      "\r",
      "Processing Files:  12%|██▉                     | 12/100 [00:06<00:45,  1.95it/s]"
     ]
    },
    {
     "name": "stderr",
     "output_type": "stream",
     "text": [
      "\r",
      "Processing Files:  13%|███                     | 13/100 [00:06<00:43,  1.98it/s]"
     ]
    },
    {
     "name": "stderr",
     "output_type": "stream",
     "text": [
      "\r",
      "Processing Files:  14%|███▎                    | 14/100 [00:07<00:45,  1.88it/s]"
     ]
    },
    {
     "name": "stderr",
     "output_type": "stream",
     "text": [
      "\r",
      "Processing Files:  15%|███▌                    | 15/100 [00:11<02:26,  1.73s/it]"
     ]
    },
    {
     "name": "stderr",
     "output_type": "stream",
     "text": [
      "\r",
      "Processing Files:  16%|███▊                    | 16/100 [00:12<01:55,  1.37s/it]"
     ]
    },
    {
     "name": "stderr",
     "output_type": "stream",
     "text": [
      "\r",
      "Processing Files:  17%|████                    | 17/100 [00:13<01:38,  1.19s/it]"
     ]
    },
    {
     "name": "stderr",
     "output_type": "stream",
     "text": [
      "\r",
      "Processing Files:  18%|████▎                   | 18/100 [00:14<01:30,  1.10s/it]"
     ]
    },
    {
     "name": "stderr",
     "output_type": "stream",
     "text": [
      "\r",
      "Processing Files:  19%|████▌                   | 19/100 [00:15<01:26,  1.07s/it]"
     ]
    },
    {
     "name": "stderr",
     "output_type": "stream",
     "text": [
      "\r",
      "Processing Files:  20%|████▊                   | 20/100 [00:15<01:18,  1.02it/s]"
     ]
    },
    {
     "name": "stderr",
     "output_type": "stream",
     "text": [
      "\r",
      "Processing Files:  21%|█████                   | 21/100 [00:16<01:12,  1.09it/s]"
     ]
    },
    {
     "name": "stderr",
     "output_type": "stream",
     "text": [
      "\r",
      "Processing Files:  22%|█████▎                  | 22/100 [00:17<01:06,  1.18it/s]"
     ]
    },
    {
     "name": "stderr",
     "output_type": "stream",
     "text": [
      "\r",
      "Processing Files:  23%|█████▌                  | 23/100 [00:18<01:08,  1.13it/s]"
     ]
    },
    {
     "name": "stderr",
     "output_type": "stream",
     "text": [
      "\r",
      "Processing Files:  24%|█████▊                  | 24/100 [00:18<01:04,  1.18it/s]"
     ]
    },
    {
     "name": "stderr",
     "output_type": "stream",
     "text": [
      "\r",
      "Processing Files:  25%|██████                  | 25/100 [00:20<01:13,  1.02it/s]"
     ]
    },
    {
     "name": "stderr",
     "output_type": "stream",
     "text": [
      "\r",
      "Processing Files:  26%|██████▏                 | 26/100 [00:21<01:27,  1.19s/it]"
     ]
    },
    {
     "name": "stderr",
     "output_type": "stream",
     "text": [
      "\r",
      "Processing Files:  27%|██████▍                 | 27/100 [00:23<01:25,  1.17s/it]"
     ]
    },
    {
     "name": "stderr",
     "output_type": "stream",
     "text": [
      "\r",
      "Processing Files:  28%|██████▋                 | 28/100 [00:24<01:20,  1.12s/it]"
     ]
    },
    {
     "name": "stderr",
     "output_type": "stream",
     "text": [
      "\r",
      "Processing Files:  29%|██████▉                 | 29/100 [00:24<01:11,  1.01s/it]"
     ]
    },
    {
     "name": "stderr",
     "output_type": "stream",
     "text": [
      "\r",
      "Processing Files:  30%|███████▏                | 30/100 [00:25<01:05,  1.06it/s]"
     ]
    },
    {
     "name": "stderr",
     "output_type": "stream",
     "text": [
      "\r",
      "Processing Files:  31%|███████▍                | 31/100 [00:26<01:01,  1.12it/s]"
     ]
    },
    {
     "name": "stderr",
     "output_type": "stream",
     "text": [
      "\r",
      "Processing Files:  32%|███████▋                | 32/100 [00:27<01:01,  1.11it/s]"
     ]
    },
    {
     "name": "stderr",
     "output_type": "stream",
     "text": [
      "\r",
      "Processing Files:  33%|███████▉                | 33/100 [00:28<01:00,  1.10it/s]"
     ]
    },
    {
     "name": "stderr",
     "output_type": "stream",
     "text": [
      "\r",
      "Processing Files:  34%|████████▏               | 34/100 [00:29<00:57,  1.15it/s]"
     ]
    },
    {
     "name": "stderr",
     "output_type": "stream",
     "text": [
      "\r",
      "Processing Files:  35%|████████▍               | 35/100 [00:29<00:52,  1.23it/s]"
     ]
    },
    {
     "name": "stderr",
     "output_type": "stream",
     "text": [
      "\r",
      "Processing Files:  36%|████████▋               | 36/100 [00:30<00:44,  1.43it/s]"
     ]
    },
    {
     "name": "stderr",
     "output_type": "stream",
     "text": [
      "\r",
      "Processing Files:  37%|████████▉               | 37/100 [00:30<00:43,  1.44it/s]"
     ]
    },
    {
     "name": "stderr",
     "output_type": "stream",
     "text": [
      "\r",
      "Processing Files:  38%|█████████               | 38/100 [00:31<00:43,  1.42it/s]"
     ]
    },
    {
     "name": "stderr",
     "output_type": "stream",
     "text": [
      "\r",
      "Processing Files:  39%|█████████▎              | 39/100 [00:32<00:42,  1.45it/s]"
     ]
    },
    {
     "name": "stderr",
     "output_type": "stream",
     "text": [
      "\r",
      "Processing Files:  40%|█████████▌              | 40/100 [00:32<00:41,  1.43it/s]"
     ]
    },
    {
     "name": "stderr",
     "output_type": "stream",
     "text": [
      "\r",
      "Processing Files:  41%|█████████▊              | 41/100 [00:34<00:50,  1.16it/s]"
     ]
    },
    {
     "name": "stderr",
     "output_type": "stream",
     "text": [
      "\r",
      "Processing Files:  42%|██████████              | 42/100 [00:34<00:47,  1.23it/s]"
     ]
    },
    {
     "name": "stderr",
     "output_type": "stream",
     "text": [
      "\r",
      "Processing Files:  43%|██████████▎             | 43/100 [00:35<00:46,  1.23it/s]"
     ]
    },
    {
     "name": "stderr",
     "output_type": "stream",
     "text": [
      "\r",
      "Processing Files:  44%|██████████▌             | 44/100 [00:36<00:44,  1.25it/s]"
     ]
    },
    {
     "name": "stderr",
     "output_type": "stream",
     "text": [
      "\r",
      "Processing Files:  45%|██████████▊             | 45/100 [00:37<00:42,  1.29it/s]"
     ]
    },
    {
     "name": "stderr",
     "output_type": "stream",
     "text": [
      "\r",
      "Processing Files:  46%|███████████             | 46/100 [00:38<00:51,  1.05it/s]"
     ]
    },
    {
     "name": "stderr",
     "output_type": "stream",
     "text": [
      "\r",
      "Processing Files:  47%|███████████▎            | 47/100 [00:39<00:47,  1.12it/s]"
     ]
    },
    {
     "name": "stderr",
     "output_type": "stream",
     "text": [
      "\r",
      "Processing Files:  48%|███████████▌            | 48/100 [00:40<00:46,  1.12it/s]"
     ]
    },
    {
     "name": "stderr",
     "output_type": "stream",
     "text": [
      "\r",
      "Processing Files:  49%|███████████▊            | 49/100 [00:41<00:50,  1.01it/s]"
     ]
    },
    {
     "name": "stderr",
     "output_type": "stream",
     "text": [
      "\r",
      "Processing Files:  50%|████████████            | 50/100 [00:42<00:50,  1.01s/it]"
     ]
    },
    {
     "name": "stderr",
     "output_type": "stream",
     "text": [
      "\r",
      "Processing Files:  51%|████████████▏           | 51/100 [00:43<00:45,  1.08it/s]"
     ]
    },
    {
     "name": "stderr",
     "output_type": "stream",
     "text": [
      "\r",
      "Processing Files:  52%|████████████▍           | 52/100 [00:44<00:43,  1.09it/s]"
     ]
    },
    {
     "name": "stderr",
     "output_type": "stream",
     "text": [
      "\r",
      "Processing Files:  53%|████████████▋           | 53/100 [00:44<00:39,  1.19it/s]"
     ]
    },
    {
     "name": "stderr",
     "output_type": "stream",
     "text": [
      "\r",
      "Processing Files:  54%|████████████▉           | 54/100 [00:45<00:34,  1.34it/s]"
     ]
    },
    {
     "name": "stderr",
     "output_type": "stream",
     "text": [
      "\r",
      "Processing Files:  55%|█████████████▏          | 55/100 [00:45<00:33,  1.36it/s]"
     ]
    },
    {
     "name": "stderr",
     "output_type": "stream",
     "text": [
      "\r",
      "Processing Files:  56%|█████████████▍          | 56/100 [00:47<00:40,  1.08it/s]"
     ]
    },
    {
     "name": "stderr",
     "output_type": "stream",
     "text": [
      "\r",
      "Processing Files:  57%|█████████████▋          | 57/100 [00:48<00:37,  1.15it/s]"
     ]
    },
    {
     "name": "stderr",
     "output_type": "stream",
     "text": [
      "\r",
      "Processing Files:  58%|█████████████▉          | 58/100 [00:48<00:29,  1.45it/s]"
     ]
    },
    {
     "name": "stderr",
     "output_type": "stream",
     "text": [
      "\r",
      "Processing Files:  59%|██████████████▏         | 59/100 [00:48<00:25,  1.58it/s]"
     ]
    },
    {
     "name": "stderr",
     "output_type": "stream",
     "text": [
      "\r",
      "Processing Files:  60%|██████████████▍         | 60/100 [00:49<00:25,  1.58it/s]"
     ]
    },
    {
     "name": "stderr",
     "output_type": "stream",
     "text": [
      "\r",
      "Processing Files:  61%|██████████████▋         | 61/100 [00:49<00:22,  1.76it/s]"
     ]
    },
    {
     "name": "stderr",
     "output_type": "stream",
     "text": [
      "\r",
      "Processing Files:  62%|██████████████▉         | 62/100 [00:50<00:24,  1.55it/s]"
     ]
    },
    {
     "name": "stderr",
     "output_type": "stream",
     "text": [
      "\r",
      "Processing Files:  63%|███████████████         | 63/100 [00:51<00:22,  1.64it/s]"
     ]
    },
    {
     "name": "stderr",
     "output_type": "stream",
     "text": [
      "\r",
      "Processing Files:  64%|███████████████▎        | 64/100 [00:52<00:24,  1.49it/s]"
     ]
    },
    {
     "name": "stderr",
     "output_type": "stream",
     "text": [
      "\r",
      "Processing Files:  65%|███████████████▌        | 65/100 [00:52<00:20,  1.72it/s]"
     ]
    },
    {
     "name": "stderr",
     "output_type": "stream",
     "text": [
      "\r",
      "Processing Files:  66%|███████████████▊        | 66/100 [00:52<00:17,  1.90it/s]"
     ]
    },
    {
     "name": "stderr",
     "output_type": "stream",
     "text": [
      "\r",
      "Processing Files:  67%|████████████████        | 67/100 [00:54<00:23,  1.40it/s]"
     ]
    },
    {
     "name": "stderr",
     "output_type": "stream",
     "text": [
      "\r",
      "Processing Files:  68%|████████████████▎       | 68/100 [00:54<00:21,  1.49it/s]"
     ]
    },
    {
     "name": "stderr",
     "output_type": "stream",
     "text": [
      "\r",
      "Processing Files:  69%|████████████████▌       | 69/100 [00:55<00:21,  1.42it/s]"
     ]
    },
    {
     "name": "stderr",
     "output_type": "stream",
     "text": [
      "\r",
      "Processing Files:  70%|████████████████▊       | 70/100 [00:56<00:24,  1.21it/s]"
     ]
    },
    {
     "name": "stderr",
     "output_type": "stream",
     "text": [
      "\r",
      "Processing Files:  71%|█████████████████       | 71/100 [00:57<00:23,  1.24it/s]"
     ]
    },
    {
     "name": "stderr",
     "output_type": "stream",
     "text": [
      "\r",
      "Processing Files:  72%|█████████████████▎      | 72/100 [00:58<00:23,  1.20it/s]"
     ]
    },
    {
     "name": "stderr",
     "output_type": "stream",
     "text": [
      "\r",
      "Processing Files:  73%|█████████████████▌      | 73/100 [00:59<00:24,  1.09it/s]"
     ]
    },
    {
     "name": "stderr",
     "output_type": "stream",
     "text": [
      "\r",
      "Processing Files:  74%|█████████████████▊      | 74/100 [00:59<00:22,  1.15it/s]"
     ]
    },
    {
     "name": "stderr",
     "output_type": "stream",
     "text": [
      "\r",
      "Processing Files:  75%|██████████████████      | 75/100 [01:01<00:25,  1.00s/it]"
     ]
    },
    {
     "name": "stderr",
     "output_type": "stream",
     "text": [
      "\r",
      "Processing Files:  76%|██████████████████▏     | 76/100 [01:02<00:24,  1.02s/it]"
     ]
    },
    {
     "name": "stderr",
     "output_type": "stream",
     "text": [
      "\r",
      "Processing Files:  77%|██████████████████▍     | 77/100 [01:03<00:22,  1.01it/s]"
     ]
    },
    {
     "name": "stderr",
     "output_type": "stream",
     "text": [
      "\r",
      "Processing Files:  78%|██████████████████▋     | 78/100 [01:04<00:20,  1.08it/s]"
     ]
    },
    {
     "name": "stderr",
     "output_type": "stream",
     "text": [
      "\r",
      "Processing Files:  79%|██████████████████▉     | 79/100 [01:05<00:20,  1.02it/s]"
     ]
    },
    {
     "name": "stderr",
     "output_type": "stream",
     "text": [
      "\r",
      "Processing Files:  80%|███████████████████▏    | 80/100 [01:06<00:19,  1.02it/s]"
     ]
    },
    {
     "name": "stderr",
     "output_type": "stream",
     "text": [
      "\r",
      "Processing Files:  81%|███████████████████▍    | 81/100 [01:06<00:16,  1.15it/s]"
     ]
    },
    {
     "name": "stderr",
     "output_type": "stream",
     "text": [
      "\r",
      "Processing Files:  82%|███████████████████▋    | 82/100 [01:07<00:16,  1.09it/s]"
     ]
    },
    {
     "name": "stderr",
     "output_type": "stream",
     "text": [
      "\r",
      "Processing Files:  83%|███████████████████▉    | 83/100 [01:08<00:15,  1.13it/s]"
     ]
    },
    {
     "name": "stderr",
     "output_type": "stream",
     "text": [
      "\r",
      "Processing Files:  84%|████████████████████▏   | 84/100 [01:09<00:13,  1.16it/s]"
     ]
    },
    {
     "name": "stderr",
     "output_type": "stream",
     "text": [
      "\r",
      "Processing Files:  85%|████████████████████▍   | 85/100 [01:10<00:12,  1.18it/s]"
     ]
    },
    {
     "name": "stderr",
     "output_type": "stream",
     "text": [
      "\r",
      "Processing Files:  86%|████████████████████▋   | 86/100 [01:10<00:11,  1.23it/s]"
     ]
    },
    {
     "name": "stderr",
     "output_type": "stream",
     "text": [
      "\r",
      "Processing Files:  87%|████████████████████▉   | 87/100 [01:11<00:10,  1.27it/s]"
     ]
    },
    {
     "name": "stderr",
     "output_type": "stream",
     "text": [
      "\r",
      "Processing Files:  88%|█████████████████████   | 88/100 [01:12<00:08,  1.43it/s]"
     ]
    },
    {
     "name": "stderr",
     "output_type": "stream",
     "text": [
      "\r",
      "Processing Files:  89%|█████████████████████▎  | 89/100 [01:13<00:08,  1.30it/s]"
     ]
    },
    {
     "name": "stderr",
     "output_type": "stream",
     "text": [
      "\r",
      "Processing Files:  90%|█████████████████████▌  | 90/100 [01:14<00:08,  1.12it/s]"
     ]
    },
    {
     "name": "stderr",
     "output_type": "stream",
     "text": [
      "\r",
      "Processing Files:  91%|█████████████████████▊  | 91/100 [01:15<00:09,  1.04s/it]"
     ]
    },
    {
     "name": "stderr",
     "output_type": "stream",
     "text": [
      "\r",
      "Processing Files:  92%|██████████████████████  | 92/100 [01:16<00:07,  1.07it/s]"
     ]
    },
    {
     "name": "stderr",
     "output_type": "stream",
     "text": [
      "\r",
      "Processing Files:  93%|██████████████████████▎ | 93/100 [01:17<00:06,  1.13it/s]"
     ]
    },
    {
     "name": "stderr",
     "output_type": "stream",
     "text": [
      "\r",
      "Processing Files:  94%|██████████████████████▌ | 94/100 [01:18<00:05,  1.05it/s]"
     ]
    },
    {
     "name": "stderr",
     "output_type": "stream",
     "text": [
      "\r",
      "Processing Files:  95%|██████████████████████▊ | 95/100 [01:18<00:04,  1.13it/s]"
     ]
    },
    {
     "name": "stderr",
     "output_type": "stream",
     "text": [
      "\r",
      "Processing Files:  96%|███████████████████████ | 96/100 [01:19<00:03,  1.12it/s]"
     ]
    },
    {
     "name": "stderr",
     "output_type": "stream",
     "text": [
      "\r",
      "Processing Files:  97%|███████████████████████▎| 97/100 [01:20<00:02,  1.09it/s]"
     ]
    },
    {
     "name": "stderr",
     "output_type": "stream",
     "text": [
      "\r",
      "Processing Files:  98%|███████████████████████▌| 98/100 [01:21<00:01,  1.23it/s]"
     ]
    },
    {
     "name": "stderr",
     "output_type": "stream",
     "text": [
      "\r",
      "Processing Files:  99%|███████████████████████▊| 99/100 [01:23<00:01,  1.09s/it]"
     ]
    },
    {
     "name": "stderr",
     "output_type": "stream",
     "text": [
      "\r",
      "Processing Files: 100%|███████████████████████| 100/100 [01:23<00:00,  1.01it/s]"
     ]
    },
    {
     "name": "stderr",
     "output_type": "stream",
     "text": [
      "\r",
      "Processing Files: 100%|███████████████████████| 100/100 [01:23<00:00,  1.19it/s]"
     ]
    },
    {
     "name": "stderr",
     "output_type": "stream",
     "text": [
      "\n"
     ]
    },
    {
     "name": "stderr",
     "output_type": "stream",
     "text": [
      "\r",
      "Processing files:   0%|                                   | 0/3 [00:00<?, ?it/s]"
     ]
    },
    {
     "name": "stderr",
     "output_type": "stream",
     "text": [
      "\r",
      "Processing files:  33%|███████▋               | 1/3 [40:23<1:20:47, 2423.90s/it]"
     ]
    },
    {
     "name": "stderr",
     "output_type": "stream",
     "text": [
      "\r",
      "Processing files:  67%|███████████████▎       | 2/3 [1:04:34<30:51, 1851.27s/it]"
     ]
    },
    {
     "name": "stderr",
     "output_type": "stream",
     "text": [
      "\r",
      "Processing files: 100%|███████████████████████| 3/3 [1:21:45<00:00, 1476.94s/it]"
     ]
    },
    {
     "name": "stderr",
     "output_type": "stream",
     "text": [
      "\r",
      "Processing files: 100%|███████████████████████| 3/3 [1:21:45<00:00, 1635.27s/it]"
     ]
    },
    {
     "name": "stderr",
     "output_type": "stream",
     "text": [
      "\n"
     ]
    },
    {
     "data": {
      "image/png": "[encoded data removed]",
      "text/plain": [
       "<Figure size 1200x800 with 1 Axes>"
      ]
     },
     "metadata": {},
     "output_type": "display_data"
    }
   ],
   "source": [
    "import pandas as pd\n",
    "import os\n",
    "import matplotlib.pyplot as plt\n",
    "import seaborn as sns\n",
    "from tqdm import tqdm\n",
    "\n",
    "# File paths\n",
    "scenery_folder = '../../data/processed/landscape_color_features'\n",
    "ratings_folder = '../../data/processed/landscape_score'\n",
    "\n",
    "# Define score intervals\n",
    "bins = [1, 2, 3, 4, 5, 6, 7]\n",
    "labels = [\"1-2\", \"2-3\", \"3-4\", \"4-5\", \"5-6\", \"6-7\"]\n",
    "\n",
    "# Get list of files\n",
    "ratings_files = [f for f in os.listdir(ratings_folder) if f.startswith(\"processed_ns6_clean_\") and f.endswith(\".csv\")]\n",
    "scenery_files = [f.replace(\"processed_\", \"\") for f in ratings_files]\n",
    "\n",
    "# List to store merged data frames\n",
    "merged_data_list = []\n",
    "\n",
    "try:\n",
    "    # Process files\n",
    "    for ratings_file, scenery_file in tqdm(zip(ratings_files, scenery_files), total=len(ratings_files), desc=\"Processing Files\"):\n",
    "        # Read ratings and color feature files\n",
    "        ratings_data = pd.read_csv(os.path.join(ratings_folder, ratings_file))\n",
    "        scenery_data = pd.read_csv(os.path.join(scenery_folder, scenery_file))\n",
    "        \n",
    "        # Standardize image paths by removing the root part\n",
    "        ratings_data['image_path'] = ratings_data['image_path'].apply(lambda x: x.split(\"data/processed/wikimedia_commons/images/\")[-1])\n",
    "        scenery_data['image_path'] = scenery_data['image_path'].apply(lambda x: x.split(\"data/processed/wikimedia_commons/images/\")[-1])\n",
    "        \n",
    "        # Assign score categories based on predicted_score\n",
    "        ratings_data['score_category'] = pd.cut(ratings_data['predicted_score'], bins=bins, labels=labels, right=False)\n",
    "        \n",
    "        # Merge ratings and color feature data on standardized image path\n",
    "        df_merged = pd.merge(ratings_data[['image_path', 'score_category', 'predicted_score']], scenery_data, left_on='image_path', right_on='image_path', how='inner')\n",
    "        \n",
    "        # Add to the list of dataframes\n",
    "        merged_data_list.append(df_merged)\n",
    "\n",
    "    # Concatenate all dataframes\n",
    "    merged_df = pd.concat(merged_data_list, ignore_index=True)\n",
    "    \n",
    "    # Specify color feature columns\n",
    "    color_features = ['H_mean', 'S_mean', 'V_mean', 'I1_mean', 'I2_mean', 'I3_mean', 'L_mean', 'S_lst_mean', 'T_mean']\n",
    "\n",
    "    # Plot each color space with a regression line (without scatter points)\n",
    "    hsv_features = ['H_mean', 'S_mean', 'V_mean']\n",
    "    oathe_features = ['I1_mean', 'I2_mean', 'I3_mean']\n",
    "    lst_features = ['L_mean', 'S_lst_mean', 'T_mean']\n",
    "    \n",
    "    color_spaces = {\n",
    "        'HSV': hsv_features,\n",
    "        'OATHE': oathe_features,\n",
    "        'LST': lst_features\n",
    "    }\n",
    "\n",
    "    line_styles = {'HSV': '-', 'OATHE': '--', 'LST': '-.'}\n",
    "    colors = {'H_mean': 'blue', 'S_mean': 'orange', 'V_mean': 'green',\n",
    "          'I1_mean': 'purple', 'I2_mean': 'brown', 'I3_mean': 'pink',\n",
    "          'L_mean': 'red', 'S_lst_mean': 'cyan', 'T_mean': 'magenta'}\n",
    "    \n",
    "    plt.figure(figsize=(12, 8))\n",
    "    for space_name, features in tqdm(color_spaces.items(), desc=\"Processing files\"):\n",
    "        for feature in features:\n",
    "            label_name = f\"{space_name} - {feature.replace('_mean', '')}\"\n",
    "            \n",
    "            sns.regplot(\n",
    "                x=merged_df['predicted_score'], \n",
    "                y=merged_df[feature], \n",
    "                scatter=False, \n",
    "                label=label_name, \n",
    "                color=colors[feature], \n",
    "                line_kws={\"linewidth\": 1.5, \"linestyle\": line_styles[space_name]}\n",
    "            )\n",
    "    \n",
    "    plt.title(\"Color Space Features vs. Score\", fontsize=16)\n",
    "    plt.xlabel(\"Score\", fontsize=12)\n",
    "    plt.ylabel(\"Feature Value\", fontsize=12)\n",
    "    plt.legend(title=\"Features\", bbox_to_anchor=(1.05, 1), loc='upper left') \n",
    "    plt.grid(True)\n",
    "    plt.tight_layout()\n",
    "    \n",
    "    plt.savefig(\"/home/ubuntu/landscape-aesthetics/reports/figures/Color Space Features vs. Score in wikidata.jpg\")\n",
    "    plt.show()\n",
    "\n",
    "except Exception as e:\n",
    "    print(f\"An error occurred during processing: {e}\")\n"
   ]
  },
  {
   "cell_type": "code",
   "execution_count": null,
   "id": "ea5a0202-1353-4205-9322-b3de4d4a8180",
   "metadata": {},
   "outputs": [],
   "source": []
  }
 ],
 "metadata": {
  "kernelspec": {
   "display_name": "Python 3 (ipykernel)",
   "language": "python",
   "name": "python3"
  },
  "language_info": {
   "codemirror_mode": {
    "name": "ipython",
    "version": 3
   },
   "file_extension": ".py",
   "mimetype": "text/x-python",
   "name": "python",
   "nbconvert_exporter": "python",
   "pygments_lexer": "ipython3",
   "version": "3.12.2"
  }
 },
 "nbformat": 4,
 "nbformat_minor": 5
}
