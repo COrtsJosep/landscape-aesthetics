{
 "cells": [
  {
   "cell_type": "code",
   "execution_count": 1,
   "id": "66aabe6f-f1a3-4489-a1be-973bdce24f26",
   "metadata": {
    "execution": {
     "iopub.execute_input": "2024-10-06T14:57:06.806425Z",
     "iopub.status.busy": "2024-10-06T14:57:06.806052Z",
     "iopub.status.idle": "2024-10-06T14:57:09.678527Z",
     "shell.execute_reply": "2024-10-06T14:57:09.678044Z"
    }
   },
   "outputs": [],
   "source": [
    "import pandas as pd\n",
    "import os\n",
    "from PIL import Image\n",
    "import torch\n",
    "import torch.nn as nn\n",
    "import torch.nn.functional as F\n",
    "from torchvision import transforms, models\n",
    "from torch.utils.data import Dataset, DataLoader\n",
    "from sklearn.metrics import mean_absolute_error, r2_score\n",
    "from pathlib import Path \n"
   ]
  },
  {
   "cell_type": "code",
   "execution_count": 2,
   "id": "a25ab7cb-cd74-4eea-b365-b4c9501f8e59",
   "metadata": {
    "execution": {
     "iopub.execute_input": "2024-10-06T14:57:09.681796Z",
     "iopub.status.busy": "2024-10-06T14:57:09.681134Z",
     "iopub.status.idle": "2024-10-06T14:57:09.685859Z",
     "shell.execute_reply": "2024-10-06T14:57:09.685516Z"
    }
   },
   "outputs": [],
   "source": [
    "class ScenicDataset(Dataset):\n",
    "    def __init__(self, data_frame, root_dir, transform=None):\n",
    "        self.data_frame = data_frame\n",
    "        self.root_dir = root_dir\n",
    "        self.transform = transform\n",
    "\n",
    "    def __len__(self):\n",
    "        return len(self.data_frame)\n",
    "\n",
    "    def __getitem__(self, idx):\n",
    "        img_name = os.path.join(self.root_dir, self.data_frame.iloc[idx]['image_path'])\n",
    "        try:\n",
    "            image = Image.open(img_name).convert('RGB')\n",
    "        except (IOError, SyntaxError) as e:\n",
    "            return None  \n",
    "\n",
    "        if self.transform:\n",
    "            image = self.transform(image)\n",
    "\n",
    "        return image  \n"
   ]
  },
  {
   "cell_type": "code",
   "execution_count": 3,
   "id": "b9b27ca3-95ef-4825-bfb4-a3710139998d",
   "metadata": {
    "execution": {
     "iopub.execute_input": "2024-10-06T14:57:09.687723Z",
     "iopub.status.busy": "2024-10-06T14:57:09.687358Z",
     "iopub.status.idle": "2024-10-06T14:57:09.690128Z",
     "shell.execute_reply": "2024-10-06T14:57:09.689797Z"
    }
   },
   "outputs": [],
   "source": [
    "data_transforms = transforms.Compose([\n",
    "    transforms.Resize((256, 256)),\n",
    "    transforms.CenterCrop(256),\n",
    "    transforms.ToTensor(),\n",
    "    transforms.Normalize([0.485, 0.456, 0.406], [0.229, 0.224, 0.225])\n",
    "])"
   ]
  },
  {
   "cell_type": "code",
   "execution_count": 4,
   "id": "64ebd6da-d689-4340-882d-1ffa45abe629",
   "metadata": {
    "execution": {
     "iopub.execute_input": "2024-10-06T14:57:09.691962Z",
     "iopub.status.busy": "2024-10-06T14:57:09.691608Z",
     "iopub.status.idle": "2024-10-06T14:57:09.694782Z",
     "shell.execute_reply": "2024-10-06T14:57:09.694448Z"
    }
   },
   "outputs": [],
   "source": [
    "from torchvision.models import ResNet50_Weights\n",
    "\n",
    "class ResNet50FeatureExtractor(nn.Module):\n",
    "    def __init__(self):\n",
    "        super(ResNet50FeatureExtractor, self).__init__()\n",
    "        resnet = models.resnet50(weights=ResNet50_Weights.IMAGENET1K_V1)  \n",
    "        self.feature_extractor = nn.Sequential(*list(resnet.children())[:-1])  \n",
    "\n",
    "    def forward(self, x):\n",
    "        with torch.no_grad():\n",
    "            features = self.feature_extractor(x)\n",
    "        return features.squeeze()"
   ]
  },
  {
   "cell_type": "code",
   "execution_count": 5,
   "id": "62a39867-c63c-4e29-815d-122a9d49b353",
   "metadata": {
    "execution": {
     "iopub.execute_input": "2024-10-06T14:57:09.696776Z",
     "iopub.status.busy": "2024-10-06T14:57:09.696340Z",
     "iopub.status.idle": "2024-10-06T14:57:09.699597Z",
     "shell.execute_reply": "2024-10-06T14:57:09.699274Z"
    }
   },
   "outputs": [],
   "source": [
    "class RegressionModel(nn.Module):\n",
    "    def __init__(self, input_dim):\n",
    "        super(RegressionModel, self).__init__()\n",
    "        self.fc1 = nn.Linear(input_dim, 512)\n",
    "        self.fc2 = nn.Linear(512, 256)\n",
    "        self.fc3 = nn.Linear(256, 1)\n",
    "        self.dropout = nn.Dropout(0.5)\n",
    "    \n",
    "    def forward(self, x):\n",
    "        x = F.relu(self.fc1(x))\n",
    "        x = self.dropout(x)\n",
    "        x = F.relu(self.fc2(x))\n",
    "        x = self.dropout(x)\n",
    "        x = self.fc3(x)\n",
    "        return x\n"
   ]
  },
  {
   "cell_type": "code",
   "execution_count": 6,
   "id": "8ae4ff55-88e7-4fff-97dc-a0e38541fc1c",
   "metadata": {
    "execution": {
     "iopub.execute_input": "2024-10-06T14:57:09.701506Z",
     "iopub.status.busy": "2024-10-06T14:57:09.701082Z",
     "iopub.status.idle": "2024-10-06T14:57:10.294672Z",
     "shell.execute_reply": "2024-10-06T14:57:10.294267Z"
    }
   },
   "outputs": [
    {
     "data": {
      "text/plain": [
       "RegressionModel(\n",
       "  (fc1): Linear(in_features=2048, out_features=512, bias=True)\n",
       "  (fc2): Linear(in_features=512, out_features=256, bias=True)\n",
       "  (fc3): Linear(in_features=256, out_features=1, bias=True)\n",
       "  (dropout): Dropout(p=0.5, inplace=False)\n",
       ")"
      ]
     },
     "execution_count": 6,
     "metadata": {},
     "output_type": "execute_result"
    }
   ],
   "source": [
    "input_dim = 2048  \n",
    "\n",
    "\n",
    "feature_extractor = ResNet50FeatureExtractor()\n",
    "feature_extractor.eval()  \n",
    "\n",
    "model = RegressionModel(input_dim)\n",
    "model.load_state_dict(torch.load('/home/ubuntu/landscape-aesthetics/models/resnet50_weights.pth', weights_only=True))\n",
    "model.eval() \n"
   ]
  },
  {
   "cell_type": "code",
   "execution_count": 7,
   "id": "ce2fbf77-d8e5-4508-bd7e-2cc0c35fe722",
   "metadata": {
    "execution": {
     "iopub.execute_input": "2024-10-06T14:57:10.296977Z",
     "iopub.status.busy": "2024-10-06T14:57:10.296416Z",
     "iopub.status.idle": "2024-10-06T14:57:10.300449Z",
     "shell.execute_reply": "2024-10-06T14:57:10.300096Z"
    }
   },
   "outputs": [],
   "source": [
    "file_location_path = Path.cwd()\n",
    "project_base_path = file_location_path.parent.parent\n",
    "data_path = project_base_path / 'data' / 'processed' / 'landscape_score' / 'precessed_data' / 'processed' / 'batch2'\n",
    "image_folder = Path('/home/ubuntu/landscape-aesthetics')\n",
    "\n",
    "results_folder = project_base_path / 'data' / 'processed' / 'landscape_score'\n",
    "results_folder.mkdir(parents=True, exist_ok=True)\n"
   ]
  },
  {
   "cell_type": "code",
   "execution_count": 8,
   "id": "216a747e-54b8-4bca-87d2-ac4edc52df84",
   "metadata": {
    "execution": {
     "iopub.execute_input": "2024-10-06T14:57:10.302318Z",
     "iopub.status.busy": "2024-10-06T14:57:10.301859Z",
     "iopub.status.idle": "2024-10-06T14:57:10.308519Z",
     "shell.execute_reply": "2024-10-06T14:57:10.308161Z"
    }
   },
   "outputs": [],
   "source": [
    "def process_all_csv_files(data_path, image_folder, results_folder, feature_extractor, model, input_dim):\n",
    "    csv_files = Path(data_path).glob('*.csv')\n",
    "    failed_files = []\n",
    "\n",
    "    for csv_file in csv_files:\n",
    "        try:\n",
    "            \n",
    "            print(f\"\\nProcessing {csv_file.name}...\", flush=True)\n",
    "            \n",
    "            data_frame = pd.read_csv(csv_file)\n",
    "            print(f\"Loaded {len(data_frame)} rows from {csv_file.name}\")\n",
    "            \n",
    "            dataset = ScenicDataset(data_frame=data_frame, root_dir=image_folder, transform=data_transforms)\n",
    "            data_loader = DataLoader(dataset, batch_size=32, shuffle=False, num_workers=4)\n",
    "            \n",
    "            \n",
    "            predicted_scores = predict(data_loader, feature_extractor, model)\n",
    "            \n",
    "            \n",
    "            results = pd.DataFrame({\n",
    "                'image_path': data_frame['image_path'],\n",
    "                'predicted_score': predicted_scores\n",
    "            })\n",
    "            \n",
    "            result_file = results_folder / f'processed_{csv_file.stem}.csv'\n",
    "            \n",
    "            results.to_csv(result_file, index=False)\n",
    "            print(f\"Predictions saved to {result_file}\")\n",
    "        \n",
    "        except Exception as e:\n",
    "            print(f\"Error processing {csv_file.name}: {e}\")\n",
    "            failed_files.append(csv_file.name)\n",
    "\n",
    "    if failed_files:\n",
    "        print(\"The following files failed during processing:\")\n",
    "        for failed_file in failed_files:\n",
    "            print(failed_file)"
   ]
  },
  {
   "cell_type": "code",
   "execution_count": 9,
   "id": "d15b09bd-3e7e-4506-b490-256decc48284",
   "metadata": {
    "execution": {
     "iopub.execute_input": "2024-10-06T14:57:10.310273Z",
     "iopub.status.busy": "2024-10-06T14:57:10.309918Z",
     "iopub.status.idle": "2024-10-06T14:57:10.314073Z",
     "shell.execute_reply": "2024-10-06T14:57:10.313710Z"
    }
   },
   "outputs": [],
   "source": [
    "def predict(loader, feature_extractor, model):\n",
    "    model.eval()\n",
    "    feature_extractor.eval()\n",
    "\n",
    "    predictions = []\n",
    "\n",
    "    with torch.no_grad():\n",
    "        for images in loader:\n",
    "            if images is None:\n",
    "                continue\n",
    "            features = feature_extractor(images)\n",
    "            outputs = model(features)\n",
    "            #predictions.extend(outputs.squeeze().cpu().numpy())\n",
    "            \n",
    "            if outputs.dim() > 1:\n",
    "                outputs = outputs.squeeze()\n",
    "            \n",
    "            outputs = outputs.cpu().numpy()\n",
    "            predictions.extend(outputs)\n",
    "\n",
    "    return predictions\n"
   ]
  },
  {
   "cell_type": "code",
   "execution_count": 10,
   "id": "77fadf90-0a1a-46d2-9257-e73b3b9f908f",
   "metadata": {
    "execution": {
     "iopub.execute_input": "2024-10-06T14:57:10.315824Z",
     "iopub.status.busy": "2024-10-06T14:57:10.315478Z",
     "iopub.status.idle": "2024-10-08T18:50:50.972396Z",
     "shell.execute_reply": "2024-10-08T18:50:50.971346Z"
    }
   },
   "outputs": [
    {
     "name": "stdout",
     "output_type": "stream",
     "text": [
      "\n",
      "Processing ns6_clean_30.csv...\n"
     ]
    },
    {
     "name": "stdout",
     "output_type": "stream",
     "text": [
      "Loaded 45373 rows from ns6_clean_30.csv\n"
     ]
    },
    {
     "name": "stdout",
     "output_type": "stream",
     "text": [
      "Predictions saved to /home/ubuntu/landscape-aesthetics/data/processed/landscape_score/processed_ns6_clean_30.csv\n",
      "\n",
      "Processing ns6_clean_72.csv...\n"
     ]
    },
    {
     "name": "stdout",
     "output_type": "stream",
     "text": [
      "Loaded 45405 rows from ns6_clean_72.csv\n"
     ]
    },
    {
     "name": "stdout",
     "output_type": "stream",
     "text": [
      "Predictions saved to /home/ubuntu/landscape-aesthetics/data/processed/landscape_score/processed_ns6_clean_72.csv\n",
      "\n",
      "Processing ns6_clean_61.csv...\n"
     ]
    },
    {
     "name": "stdout",
     "output_type": "stream",
     "text": [
      "Loaded 45575 rows from ns6_clean_61.csv\n"
     ]
    },
    {
     "name": "stdout",
     "output_type": "stream",
     "text": [
      "Predictions saved to /home/ubuntu/landscape-aesthetics/data/processed/landscape_score/processed_ns6_clean_61.csv\n",
      "\n",
      "Processing ns6_clean_75.csv...\n"
     ]
    },
    {
     "name": "stdout",
     "output_type": "stream",
     "text": [
      "Loaded 45406 rows from ns6_clean_75.csv\n"
     ]
    },
    {
     "name": "stdout",
     "output_type": "stream",
     "text": [
      "Predictions saved to /home/ubuntu/landscape-aesthetics/data/processed/landscape_score/processed_ns6_clean_75.csv\n",
      "\n",
      "Processing ns6_clean_32.csv...\n"
     ]
    },
    {
     "name": "stdout",
     "output_type": "stream",
     "text": [
      "Loaded 45571 rows from ns6_clean_32.csv\n"
     ]
    },
    {
     "name": "stdout",
     "output_type": "stream",
     "text": [
      "Predictions saved to /home/ubuntu/landscape-aesthetics/data/processed/landscape_score/processed_ns6_clean_32.csv\n",
      "\n",
      "Processing ns6_clean_42.csv...\n"
     ]
    },
    {
     "name": "stdout",
     "output_type": "stream",
     "text": [
      "Loaded 45373 rows from ns6_clean_42.csv\n"
     ]
    },
    {
     "name": "stdout",
     "output_type": "stream",
     "text": [
      "Predictions saved to /home/ubuntu/landscape-aesthetics/data/processed/landscape_score/processed_ns6_clean_42.csv\n",
      "\n",
      "Processing ns6_clean_35.csv...\n"
     ]
    },
    {
     "name": "stdout",
     "output_type": "stream",
     "text": [
      "Loaded 45314 rows from ns6_clean_35.csv\n"
     ]
    },
    {
     "name": "stdout",
     "output_type": "stream",
     "text": [
      "Predictions saved to /home/ubuntu/landscape-aesthetics/data/processed/landscape_score/processed_ns6_clean_35.csv\n",
      "\n",
      "Processing ns6_clean_06.csv...\n"
     ]
    },
    {
     "name": "stdout",
     "output_type": "stream",
     "text": [
      "Loaded 45540 rows from ns6_clean_06.csv\n"
     ]
    },
    {
     "name": "stdout",
     "output_type": "stream",
     "text": [
      "Predictions saved to /home/ubuntu/landscape-aesthetics/data/processed/landscape_score/processed_ns6_clean_06.csv\n",
      "\n",
      "Processing ns6_clean_07.csv...\n"
     ]
    },
    {
     "name": "stdout",
     "output_type": "stream",
     "text": [
      "Loaded 45348 rows from ns6_clean_07.csv\n"
     ]
    },
    {
     "name": "stdout",
     "output_type": "stream",
     "text": [
      "Predictions saved to /home/ubuntu/landscape-aesthetics/data/processed/landscape_score/processed_ns6_clean_07.csv\n",
      "\n",
      "Processing ns6_clean_99.csv...\n"
     ]
    },
    {
     "name": "stdout",
     "output_type": "stream",
     "text": [
      "Loaded 15744 rows from ns6_clean_99.csv\n"
     ]
    },
    {
     "name": "stdout",
     "output_type": "stream",
     "text": [
      "Predictions saved to /home/ubuntu/landscape-aesthetics/data/processed/landscape_score/processed_ns6_clean_99.csv\n",
      "\n",
      "Processing ns6_clean_11.csv...\n"
     ]
    },
    {
     "name": "stdout",
     "output_type": "stream",
     "text": [
      "Loaded 45461 rows from ns6_clean_11.csv\n"
     ]
    },
    {
     "name": "stdout",
     "output_type": "stream",
     "text": [
      "Predictions saved to /home/ubuntu/landscape-aesthetics/data/processed/landscape_score/processed_ns6_clean_11.csv\n",
      "\n",
      "Processing ns6_clean_56.csv...\n"
     ]
    },
    {
     "name": "stdout",
     "output_type": "stream",
     "text": [
      "Loaded 45497 rows from ns6_clean_56.csv\n"
     ]
    },
    {
     "name": "stdout",
     "output_type": "stream",
     "text": [
      "Predictions saved to /home/ubuntu/landscape-aesthetics/data/processed/landscape_score/processed_ns6_clean_56.csv\n",
      "\n",
      "Processing ns6_clean_76.csv...\n"
     ]
    },
    {
     "name": "stdout",
     "output_type": "stream",
     "text": [
      "Loaded 45536 rows from ns6_clean_76.csv\n"
     ]
    },
    {
     "name": "stdout",
     "output_type": "stream",
     "text": [
      "Predictions saved to /home/ubuntu/landscape-aesthetics/data/processed/landscape_score/processed_ns6_clean_76.csv\n",
      "\n",
      "Processing ns6_clean_88.csv...\n"
     ]
    },
    {
     "name": "stdout",
     "output_type": "stream",
     "text": [
      "Loaded 45458 rows from ns6_clean_88.csv\n"
     ]
    },
    {
     "name": "stdout",
     "output_type": "stream",
     "text": [
      "Predictions saved to /home/ubuntu/landscape-aesthetics/data/processed/landscape_score/processed_ns6_clean_88.csv\n",
      "\n",
      "Processing ns6_clean_46.csv...\n"
     ]
    },
    {
     "name": "stdout",
     "output_type": "stream",
     "text": [
      "Loaded 45520 rows from ns6_clean_46.csv\n"
     ]
    },
    {
     "name": "stdout",
     "output_type": "stream",
     "text": [
      "Predictions saved to /home/ubuntu/landscape-aesthetics/data/processed/landscape_score/processed_ns6_clean_46.csv\n",
      "\n",
      "Processing ns6_clean_13.csv...\n"
     ]
    },
    {
     "name": "stdout",
     "output_type": "stream",
     "text": [
      "Loaded 45129 rows from ns6_clean_13.csv\n"
     ]
    },
    {
     "name": "stdout",
     "output_type": "stream",
     "text": [
      "Predictions saved to /home/ubuntu/landscape-aesthetics/data/processed/landscape_score/processed_ns6_clean_13.csv\n",
      "\n",
      "Processing ns6_clean_90.csv...\n"
     ]
    },
    {
     "name": "stdout",
     "output_type": "stream",
     "text": [
      "Loaded 45225 rows from ns6_clean_90.csv\n"
     ]
    },
    {
     "name": "stdout",
     "output_type": "stream",
     "text": [
      "Predictions saved to /home/ubuntu/landscape-aesthetics/data/processed/landscape_score/processed_ns6_clean_90.csv\n",
      "\n",
      "Processing ns6_clean_65.csv...\n"
     ]
    },
    {
     "name": "stdout",
     "output_type": "stream",
     "text": [
      "Loaded 45581 rows from ns6_clean_65.csv\n"
     ]
    },
    {
     "name": "stdout",
     "output_type": "stream",
     "text": [
      "Predictions saved to /home/ubuntu/landscape-aesthetics/data/processed/landscape_score/processed_ns6_clean_65.csv\n",
      "\n",
      "Processing ns6_clean_52.csv...\n"
     ]
    },
    {
     "name": "stdout",
     "output_type": "stream",
     "text": [
      "Loaded 45407 rows from ns6_clean_52.csv\n"
     ]
    },
    {
     "name": "stdout",
     "output_type": "stream",
     "text": [
      "Predictions saved to /home/ubuntu/landscape-aesthetics/data/processed/landscape_score/processed_ns6_clean_52.csv\n",
      "\n",
      "Processing ns6_clean_25.csv...\n"
     ]
    },
    {
     "name": "stdout",
     "output_type": "stream",
     "text": [
      "Loaded 45217 rows from ns6_clean_25.csv\n"
     ]
    },
    {
     "name": "stdout",
     "output_type": "stream",
     "text": [
      "Predictions saved to /home/ubuntu/landscape-aesthetics/data/processed/landscape_score/processed_ns6_clean_25.csv\n",
      "\n",
      "Processing ns6_clean_81.csv...\n"
     ]
    },
    {
     "name": "stdout",
     "output_type": "stream",
     "text": [
      "Loaded 45595 rows from ns6_clean_81.csv\n"
     ]
    },
    {
     "name": "stdout",
     "output_type": "stream",
     "text": [
      "Predictions saved to /home/ubuntu/landscape-aesthetics/data/processed/landscape_score/processed_ns6_clean_81.csv\n",
      "\n",
      "Processing ns6_clean_47.csv...\n"
     ]
    },
    {
     "name": "stdout",
     "output_type": "stream",
     "text": [
      "Loaded 45397 rows from ns6_clean_47.csv\n"
     ]
    },
    {
     "name": "stdout",
     "output_type": "stream",
     "text": [
      "Predictions saved to /home/ubuntu/landscape-aesthetics/data/processed/landscape_score/processed_ns6_clean_47.csv\n",
      "\n",
      "Processing ns6_clean_54.csv...\n"
     ]
    },
    {
     "name": "stdout",
     "output_type": "stream",
     "text": [
      "Loaded 45529 rows from ns6_clean_54.csv\n"
     ]
    },
    {
     "name": "stdout",
     "output_type": "stream",
     "text": [
      "Predictions saved to /home/ubuntu/landscape-aesthetics/data/processed/landscape_score/processed_ns6_clean_54.csv\n",
      "\n",
      "Processing ns6_clean_36.csv...\n"
     ]
    },
    {
     "name": "stdout",
     "output_type": "stream",
     "text": [
      "Loaded 45447 rows from ns6_clean_36.csv\n"
     ]
    },
    {
     "name": "stdout",
     "output_type": "stream",
     "text": [
      "Predictions saved to /home/ubuntu/landscape-aesthetics/data/processed/landscape_score/processed_ns6_clean_36.csv\n",
      "\n",
      "Processing ns6_clean_79.csv...\n"
     ]
    },
    {
     "name": "stdout",
     "output_type": "stream",
     "text": [
      "Loaded 45343 rows from ns6_clean_79.csv"
     ]
    },
    {
     "name": "stdout",
     "output_type": "stream",
     "text": [
      "\n"
     ]
    },
    {
     "name": "stdout",
     "output_type": "stream",
     "text": [
      "Predictions saved to /home/ubuntu/landscape-aesthetics/data/processed/landscape_score/processed_ns6_clean_79.csv\n",
      "\n",
      "Processing ns6_clean_26.csv...\n"
     ]
    },
    {
     "name": "stdout",
     "output_type": "stream",
     "text": [
      "Loaded 45221 rows from ns6_clean_26.csv\n"
     ]
    },
    {
     "name": "stdout",
     "output_type": "stream",
     "text": [
      "Predictions saved to /home/ubuntu/landscape-aesthetics/data/processed/landscape_score/processed_ns6_clean_26.csv\n",
      "\n",
      "Processing ns6_clean_10.csv...\n"
     ]
    },
    {
     "name": "stdout",
     "output_type": "stream",
     "text": [
      "Loaded 45398 rows from ns6_clean_10.csv\n"
     ]
    },
    {
     "name": "stdout",
     "output_type": "stream",
     "text": [
      "Predictions saved to /home/ubuntu/landscape-aesthetics/data/processed/landscape_score/processed_ns6_clean_10.csv\n",
      "\n",
      "Processing ns6_clean_97.csv...\n"
     ]
    },
    {
     "name": "stdout",
     "output_type": "stream",
     "text": [
      "Loaded 45072 rows from ns6_clean_97.csv\n"
     ]
    },
    {
     "name": "stdout",
     "output_type": "stream",
     "text": [
      "Predictions saved to /home/ubuntu/landscape-aesthetics/data/processed/landscape_score/processed_ns6_clean_97.csv\n",
      "\n",
      "Processing ns6_clean_37.csv...\n"
     ]
    },
    {
     "name": "stdout",
     "output_type": "stream",
     "text": [
      "Loaded 45401 rows from ns6_clean_37.csv\n"
     ]
    },
    {
     "name": "stdout",
     "output_type": "stream",
     "text": [
      "Predictions saved to /home/ubuntu/landscape-aesthetics/data/processed/landscape_score/processed_ns6_clean_37.csv\n",
      "\n",
      "Processing ns6_clean_04.csv...\n"
     ]
    },
    {
     "name": "stdout",
     "output_type": "stream",
     "text": [
      "Loaded 45390 rows from ns6_clean_04.csv\n"
     ]
    },
    {
     "name": "stdout",
     "output_type": "stream",
     "text": [
      "Predictions saved to /home/ubuntu/landscape-aesthetics/data/processed/landscape_score/processed_ns6_clean_04.csv\n",
      "\n",
      "Processing ns6_clean_50.csv...\n"
     ]
    },
    {
     "name": "stdout",
     "output_type": "stream",
     "text": [
      "Loaded 45509 rows from ns6_clean_50.csv\n"
     ]
    },
    {
     "name": "stdout",
     "output_type": "stream",
     "text": [
      "Predictions saved to /home/ubuntu/landscape-aesthetics/data/processed/landscape_score/processed_ns6_clean_50.csv\n",
      "\n",
      "Processing ns6_clean_08.csv...\n"
     ]
    },
    {
     "name": "stdout",
     "output_type": "stream",
     "text": [
      "Loaded 45418 rows from ns6_clean_08.csv\n"
     ]
    },
    {
     "name": "stdout",
     "output_type": "stream",
     "text": [
      "Predictions saved to /home/ubuntu/landscape-aesthetics/data/processed/landscape_score/processed_ns6_clean_08.csv\n",
      "\n",
      "Processing ns6_clean_91.csv...\n"
     ]
    },
    {
     "name": "stdout",
     "output_type": "stream",
     "text": [
      "Loaded 45343 rows from ns6_clean_91.csv\n"
     ]
    },
    {
     "name": "stdout",
     "output_type": "stream",
     "text": [
      "Predictions saved to /home/ubuntu/landscape-aesthetics/data/processed/landscape_score/processed_ns6_clean_91.csv\n"
     ]
    }
   ],
   "source": [
    "process_all_csv_files(data_path, image_folder, results_folder, feature_extractor, model, input_dim)"
   ]
  },
  {
   "cell_type": "code",
   "execution_count": null,
   "id": "a0fd620f-2ae2-48b3-aa4f-11f71ab5839a",
   "metadata": {},
   "outputs": [],
   "source": []
  }
 ],
 "metadata": {
  "kernelspec": {
   "display_name": "Python 3 (ipykernel)",
   "language": "python",
   "name": "python3"
  },
  "language_info": {
   "codemirror_mode": {
    "name": "ipython",
    "version": 3
   },
   "file_extension": ".py",
   "mimetype": "text/x-python",
   "name": "python",
   "nbconvert_exporter": "python",
   "pygments_lexer": "ipython3",
   "version": "3.12.2"
  }
 },
 "nbformat": 4,
 "nbformat_minor": 5
}
