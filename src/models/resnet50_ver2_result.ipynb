{
 "cells": [
  {
   "cell_type": "code",
   "execution_count": 1,
   "id": "fa39b1f7-1f20-4843-89f4-3d510fac0758",
   "metadata": {
    "execution": {
     "iopub.execute_input": "2024-07-29T07:52:20.619438Z",
     "iopub.status.busy": "2024-07-29T07:52:20.619241Z",
     "iopub.status.idle": "2024-07-29T07:52:36.856122Z",
     "shell.execute_reply": "2024-07-29T07:52:36.855557Z"
    }
   },
   "outputs": [
    {
     "name": "stdout",
     "output_type": "stream",
     "text": [
      "Missing 1 files:\n",
      "/home/ubuntu/landscape-aesthetics/data/external/scenicornot/photos/76/41/764143_e860c8c4.jpg\n",
      "Training set size: 169484\n",
      "Validation set size: 42372\n"
     ]
    }
   ],
   "source": [
    "import pandas as pd\n",
    "import os\n",
    "from PIL import Image\n",
    "import torch\n",
    "from torch.utils.data import Dataset, DataLoader\n",
    "from torchvision import transforms\n",
    "from pathlib import Path\n",
    "\n",
    "# set up the path\n",
    "data_path = '/home/ubuntu/landscape-aesthetics/data/external/scenicornot/scenicornot.metadata.csv'\n",
    "image_folder = Path('/home/ubuntu/landscape-aesthetics/data/external/scenicornot') \n",
    "\n",
    "# Check if the data path exists\n",
    "if not os.path.exists(data_path):\n",
    "    raise FileNotFoundError(f\"Data file not found at {data_path}\")\n",
    "\n",
    "# Read the data\n",
    "data = pd.read_csv(data_path)\n",
    "\n",
    "# Check if the root directory exists\n",
    "root_dir = '/home/ubuntu/landscape-aesthetics/data/external/scenicornot/'\n",
    "if not os.path.exists(root_dir):\n",
    "    raise FileNotFoundError(f\"Root directory not found at {root_dir}\")\n",
    "\n",
    "# prepocess the dataset, remove the invalid paths\n",
    "valid_files = []\n",
    "missing_files = []\n",
    "for idx in range(len(data)):\n",
    "    img_name = data.iloc[idx]['filename']\n",
    "    image_path = image_folder / Path(img_name)\n",
    "    if image_path.exists():\n",
    "        valid_files.append(idx)\n",
    "    else:\n",
    "        missing_files.append(image_path)\n",
    "\n",
    "if missing_files:\n",
    "    print(f\"Missing {len(missing_files)} files:\")\n",
    "    for file in missing_files:\n",
    "        print(file)\n",
    "\n",
    "# only keep the valid file record\n",
    "valid_data = data.iloc[valid_files].reset_index(drop=True)\n",
    "\n",
    "# # for test 10 images\n",
    "# sampled_data = valid_data.sample(n=100, random_state=42).reset_index(drop=True)\n",
    "# print(\"Sampled filenames:\")\n",
    "# print(sampled_data['filename'])\n",
    "        \n",
    "class ScenicDataset(Dataset):\n",
    "    def __init__(self, data_frame, root_dir, transform=None):\n",
    "        self.data_frame = data_frame\n",
    "        self.root_dir = root_dir\n",
    "        self.transform = transform\n",
    "\n",
    "    def __len__(self):\n",
    "        return len(self.data_frame)\n",
    "\n",
    "    def __getitem__(self, idx):\n",
    "        img_name = os.path.join(self.root_dir, self.data_frame.iloc[idx]['filename']) # combine root address with filename\n",
    "        image_path = self.root_dir / Path(img_name)\n",
    "        # print(f\"Loading image: {image_path}\")  # tune the information and print the file path\n",
    "        \n",
    "        try:\n",
    "            image = Image.open(image_path).convert('RGB')\n",
    "        except FileNotFoundError:\n",
    "            # print(f\"File not found: {image_path}, skipping.\")\n",
    "            # return None, None\n",
    "            return self.__getitem__((idx + 1) % len(self)) # return the next sample\n",
    "        except Exception as e:\n",
    "            # print(f\"Error loading image {image_path}: {e}\")\n",
    "            # return None, None\n",
    "            return self.__getitem__((idx + 1) % len(self)) # return the next sample\n",
    "            \n",
    "        rating = self.data_frame.iloc[idx]['average']\n",
    "\n",
    "        if self.transform:\n",
    "            image = self.transform(image)\n",
    "\n",
    "        return image, torch.tensor(rating, dtype=torch.float32)\n",
    "\n",
    "# centered crop\n",
    "data_transforms = transforms.Compose([\n",
    "    # transforms.Resize((256, 256)),\n",
    "    transforms.CenterCrop(256),\n",
    "    transforms.ToTensor(),\n",
    "    transforms.Normalize([0.485, 0.456, 0.406], [0.229, 0.224, 0.225]),\n",
    "    transforms.RandomHorizontalFlip(),\n",
    "    transforms.ColorJitter(brightness=0.2, contrast=0.2, saturation=0.2, hue=0.2)\n",
    "])\n",
    "\n",
    "image_dataset = ScenicDataset(data_frame=data,\n",
    "                              root_dir='/home/ubuntu/landscape-aesthetics/data/external/scenicornot/',\n",
    "                              transform=data_transforms)\n",
    "\n",
    "train_size = int(0.8 * len(image_dataset))\n",
    "val_size = len(image_dataset) - train_size\n",
    "train_dataset, val_dataset = torch.utils.data.random_split(image_dataset, [train_size, val_size])\n",
    "\n",
    "train_loader = DataLoader(train_dataset, batch_size=32, shuffle=True)\n",
    "val_loader = DataLoader(val_dataset, batch_size=32, shuffle=False)\n",
    "\n",
    "print(f\"Training set size: {len(train_loader.dataset)}\")\n",
    "print(f\"Validation set size: {len(val_loader.dataset)}\")"
   ]
  },
  {
   "cell_type": "code",
   "execution_count": 2,
   "id": "5f985b93-f060-42b5-9d37-9729d5763540",
   "metadata": {
    "execution": {
     "iopub.execute_input": "2024-07-29T07:52:36.858523Z",
     "iopub.status.busy": "2024-07-29T07:52:36.858345Z",
     "iopub.status.idle": "2024-07-29T07:52:36.861275Z",
     "shell.execute_reply": "2024-07-29T07:52:36.860857Z"
    }
   },
   "outputs": [],
   "source": [
    "# check for validity of data loader\n",
    "\n",
    "# for data in train_loader:\n",
    "#     if data is None:\n",
    "#         print(\"Found None in training data\")\n",
    "# print(\"Ok for training data\")\n",
    "# for data in val_loader:\n",
    "#     if data is None:\n",
    "#         print(\"Found None in validation data\")\n",
    "# print(\"Ok for validation data\")"
   ]
  },
  {
   "cell_type": "code",
   "execution_count": 3,
   "id": "ae55ec71-08df-429e-b31c-d75dc358bdb9",
   "metadata": {
    "execution": {
     "iopub.execute_input": "2024-07-29T07:52:36.863416Z",
     "iopub.status.busy": "2024-07-29T07:52:36.863251Z",
     "iopub.status.idle": "2024-07-29T07:52:37.255373Z",
     "shell.execute_reply": "2024-07-29T07:52:37.254792Z"
    }
   },
   "outputs": [],
   "source": [
    "import torch.nn as nn\n",
    "import torch.optim as optim\n",
    "from torchvision import datasets, models, transforms\n",
    "\n",
    "# utilise ResNet50 to extract deep features\n",
    "class ResNetFeatureExtractor(nn.Module):\n",
    "    def __init__(self):\n",
    "        super(ResNetFeatureExtractor, self).__init__()\n",
    "        self.resnet = models.resnet50(weights=models.ResNet50_Weights.IMAGENET1K_V1)\n",
    "        self.resnet = nn.Sequential(*list(self.resnet.children())[:-1])  # Remove the last fully connected layer\n",
    "\n",
    "    def forward(self, x):\n",
    "        with torch.no_grad():\n",
    "            features = self.resnet(x)\n",
    "        return features.squeeze()\n",
    "\n",
    "feature_extractor = ResNetFeatureExtractor()\n",
    "feature_extractor.eval()\n",
    "\n",
    "# define a simple regression model\n",
    "class RegressionModel(nn.Module):\n",
    "    def __init__(self, input_dim):\n",
    "        super(RegressionModel, self).__init__()\n",
    "        self.fc = nn.Sequential(\n",
    "            nn.Linear(input_dim, 256),\n",
    "            nn.ReLU(),\n",
    "            nn.Dropout(0.5),\n",
    "            nn.Linear(256, 1)\n",
    "        )\n",
    "\n",
    "    def forward(self, x):\n",
    "        return self.fc(x)\n",
    "\n",
    "# a more complex one\n",
    "# class RegressionModel(nn.Module):\n",
    "#     def __init__(self, input_dim):\n",
    "#         super(ComplexRegressionModel, self).__init__()\n",
    "#         self.fc = nn.Sequential(\n",
    "#             nn.Linear(input_dim, 512),\n",
    "#             nn.ReLU(),\n",
    "#             nn.BatchNorm1d(512),\n",
    "#             nn.Dropout(0.5),\n",
    "#             nn.Linear(512, 256),\n",
    "#             nn.ReLU(),\n",
    "#             nn.BatchNorm1d(256),\n",
    "#             nn.Dropout(0.5),\n",
    "#             nn.Linear(256, 128),\n",
    "#             nn.ReLU(),\n",
    "#             nn.BatchNorm1d(128),\n",
    "#             nn.Dropout(0.5),\n",
    "#             nn.Linear(128, 1)\n",
    "#         )\n",
    "\n",
    "#     def forward(self, x):\n",
    "#         return self.fc(x)"
   ]
  },
  {
   "cell_type": "code",
   "execution_count": 4,
   "id": "533170d5-f7ff-45ee-a309-eea2202cbf57",
   "metadata": {
    "execution": {
     "iopub.execute_input": "2024-07-29T07:52:37.258161Z",
     "iopub.status.busy": "2024-07-29T07:52:37.257982Z",
     "iopub.status.idle": "2024-07-30T23:38:26.179610Z",
     "shell.execute_reply": "2024-07-30T23:38:26.178696Z"
    }
   },
   "outputs": [
    {
     "name": "stdout",
     "output_type": "stream",
     "text": [
      "Epoch 0/9, Loss: 1.6842184703600072\n"
     ]
    },
    {
     "name": "stdout",
     "output_type": "stream",
     "text": [
      "Validation Loss: 1.295660748446189\n"
     ]
    },
    {
     "name": "stdout",
     "output_type": "stream",
     "text": [
      "Epoch 1/9, Loss: 1.489800588250602\n"
     ]
    },
    {
     "name": "stdout",
     "output_type": "stream",
     "text": [
      "Validation Loss: 1.2886685635790793\n"
     ]
    },
    {
     "name": "stdout",
     "output_type": "stream",
     "text": [
      "Epoch 2/9, Loss: 1.4151704225138173\n"
     ]
    },
    {
     "name": "stdout",
     "output_type": "stream",
     "text": [
      "Validation Loss: 1.2761509223462817\n"
     ]
    },
    {
     "name": "stdout",
     "output_type": "stream",
     "text": [
      "Epoch 3/9, Loss: 1.3941565552006185\n"
     ]
    },
    {
     "name": "stdout",
     "output_type": "stream",
     "text": [
      "Validation Loss: 1.2871852528775458\n"
     ]
    },
    {
     "name": "stdout",
     "output_type": "stream",
     "text": [
      "Epoch 4/9, Loss: 1.391523238389904\n"
     ]
    },
    {
     "name": "stdout",
     "output_type": "stream",
     "text": [
      "Validation Loss: 1.3377143957341886\n"
     ]
    },
    {
     "name": "stdout",
     "output_type": "stream",
     "text": [
      "Epoch 5/9, Loss: 1.3878587464187204\n"
     ]
    },
    {
     "name": "stdout",
     "output_type": "stream",
     "text": [
      "Validation Loss: 1.2663216714670849\n"
     ]
    },
    {
     "name": "stdout",
     "output_type": "stream",
     "text": [
      "Epoch 6/9, Loss: 1.3805102190275662\n"
     ]
    },
    {
     "name": "stdout",
     "output_type": "stream",
     "text": [
      "Validation Loss: 1.2735633986603716\n"
     ]
    },
    {
     "name": "stdout",
     "output_type": "stream",
     "text": [
      "Epoch 7/9, Loss: 1.3798761120409948\n"
     ]
    },
    {
     "name": "stdout",
     "output_type": "stream",
     "text": [
      "Validation Loss: 1.2551103607741494\n"
     ]
    },
    {
     "name": "stdout",
     "output_type": "stream",
     "text": [
      "Epoch 8/9, Loss: 1.373805463726229\n"
     ]
    },
    {
     "name": "stdout",
     "output_type": "stream",
     "text": [
      "Validation Loss: 1.2546638666396213\n"
     ]
    },
    {
     "name": "stdout",
     "output_type": "stream",
     "text": [
      "Epoch 9/9, Loss: 1.3778255052178945\n"
     ]
    },
    {
     "name": "stdout",
     "output_type": "stream",
     "text": [
      "Validation Loss: 1.2998791212998673\n"
     ]
    }
   ],
   "source": [
    "def train_model(feature_extractor, model, criterion, optimizer, train_loader, val_loader, num_epochs=10):\n",
    "    for epoch in range(num_epochs):\n",
    "        model.train()\n",
    "        running_loss = 0.0\n",
    "\n",
    "        for images, labels in train_loader:\n",
    "            if images is None:  # skip invalid images\n",
    "                continue\n",
    "            features = feature_extractor(images)\n",
    "            optimizer.zero_grad()\n",
    "            outputs = model(features)\n",
    "            loss = criterion(outputs.squeeze(), labels)\n",
    "            loss.backward()\n",
    "            optimizer.step()\n",
    "            running_loss += loss.item() * images.size(0)\n",
    "\n",
    "        epoch_loss = running_loss / len(train_loader.dataset)\n",
    "        print(f'Epoch {epoch}/{num_epochs - 1}, Loss: {epoch_loss}')\n",
    "\n",
    "        # 验证模型\n",
    "        model.eval()\n",
    "        val_loss = 0.0\n",
    "        with torch.no_grad():\n",
    "            for images, labels in val_loader:\n",
    "                if images is None:  # jump invalid images\n",
    "                    continue\n",
    "                features = feature_extractor(images)\n",
    "                outputs = model(features)\n",
    "                loss = criterion(outputs.squeeze(), labels)\n",
    "                val_loss += loss.item() * images.size(0)\n",
    "\n",
    "        val_loss /= len(val_loader.dataset)\n",
    "        print(f'Validation Loss: {val_loss}')\n",
    "\n",
    "input_dim = 2048  # ResNet50 feature dimension\n",
    "model = RegressionModel(input_dim)\n",
    "criterion = nn.MSELoss()\n",
    "optimizer = optim.Adam(model.parameters(), lr=0.001)\n",
    "\n",
    "# training model\n",
    "train_model(feature_extractor, model, criterion, optimizer, train_loader, val_loader, num_epochs=10)"
   ]
  },
  {
   "cell_type": "code",
   "execution_count": 1,
   "id": "d989d084-76f7-4512-a734-684e94030a1d",
   "metadata": {},
   "outputs": [],
   "source": [
    "# evaluate\n",
    "def evaluate_model(feature_extractor, model, test_loader):\n",
    "    model.eval()\n",
    "    test_loss = 0.0\n",
    "    with torch.no_grad():\n",
    "        for images, labels in test_loader:\n",
    "            features = feature_extractor(images)\n",
    "            outputs = model(features)\n",
    "            loss = criterion(outputs.squeeze(), labels)\n",
    "            test_loss += loss.item() * images.size(0)\n",
    "\n",
    "    test_loss /= len(test_loader.dataset)\n",
    "    print(f'Test Loss: {test_loss}')\n",
    "    return test_loss\n",
    "\n",
    "# # save the model\n",
    "# torch.save(model.state_dict(), 'complex_regression_model.pth')\n",
    "# print(\"Model saved to complex_regression_model.pth\")\n"
   ]
  },
  {
   "cell_type": "code",
   "execution_count": null,
   "id": "5cc612a8-72d3-4781-9944-234dfceaed9b",
   "metadata": {},
   "outputs": [],
   "source": [
    "evaluate_model"
   ]
  }
 ],
 "metadata": {
  "kernelspec": {
   "display_name": "Python 3 (ipykernel)",
   "language": "python",
   "name": "python3"
  },
  "language_info": {
   "codemirror_mode": {
    "name": "ipython",
    "version": 3
   },
   "file_extension": ".py",
   "mimetype": "text/x-python",
   "name": "python",
   "nbconvert_exporter": "python",
   "pygments_lexer": "ipython3",
   "version": "3.12.2"
  }
 },
 "nbformat": 4,
 "nbformat_minor": 5
}
