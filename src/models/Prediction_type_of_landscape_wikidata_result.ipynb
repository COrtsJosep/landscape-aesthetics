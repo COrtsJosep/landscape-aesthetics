{
 "cells": [
  {
   "cell_type": "code",
   "execution_count": 1,
   "id": "5fbf7557-5258-4c8e-a224-96dc66f601a1",
   "metadata": {
    "execution": {
     "iopub.execute_input": "2024-10-17T14:19:55.204876Z",
     "iopub.status.busy": "2024-10-17T14:19:55.204595Z",
     "iopub.status.idle": "2024-10-17T14:19:59.051300Z",
     "shell.execute_reply": "2024-10-17T14:19:59.050716Z"
    }
   },
   "outputs": [],
   "source": [
    "import pandas as pd\n",
    "import os\n",
    "from PIL import Image\n",
    "import torch\n",
    "import torch.nn as nn\n",
    "import torchvision.models as models\n",
    "from torchvision import transforms\n",
    "from torch.utils.data import Dataset, DataLoader\n",
    "import torch.optim as optim\n",
    "from sklearn.metrics import mean_absolute_error, r2_score\n",
    "import matplotlib.pyplot as plt\n",
    "from pathlib import Path\n",
    "import torch.nn.functional as F\n",
    "import sys\n",
    "from sklearn.metrics import accuracy_score, recall_score\n",
    "import random\n",
    "from tqdm import tqdm\n",
    "from sklearn.metrics import confusion_matrix\n",
    "from collections import Counter\n",
    "import re\n",
    "import requests"
   ]
  },
  {
   "cell_type": "code",
   "execution_count": 2,
   "id": "27470bd8-bbf0-45eb-a20a-36a076d72f56",
   "metadata": {
    "execution": {
     "iopub.execute_input": "2024-10-17T14:19:59.054172Z",
     "iopub.status.busy": "2024-10-17T14:19:59.053873Z",
     "iopub.status.idle": "2024-10-17T14:19:59.336138Z",
     "shell.execute_reply": "2024-10-17T14:19:59.335549Z"
    }
   },
   "outputs": [],
   "source": [
    "import cv2"
   ]
  },
  {
   "cell_type": "code",
   "execution_count": 3,
   "id": "30ee0ad3-af26-4423-8e08-a6faa2289f62",
   "metadata": {
    "execution": {
     "iopub.execute_input": "2024-10-17T14:19:59.338208Z",
     "iopub.status.busy": "2024-10-17T14:19:59.338020Z",
     "iopub.status.idle": "2024-10-17T14:19:59.343132Z",
     "shell.execute_reply": "2024-10-17T14:19:59.342689Z"
    }
   },
   "outputs": [
    {
     "name": "stdout",
     "output_type": "stream",
     "text": [
      "The file already exists, no need to download.\n",
      "The file already exists, no need to download.\n"
     ]
    }
   ],
   "source": [
    "url = \"http://netdissect.csail.mit.edu/dissect/zoo/resnet-152-torch-places365.caffemodel\"\n",
    "save_path = \"/path/to/your/directory/resnet-152-torch-places365.caffemodel\"\n",
    "\n",
    "def download_file(url, save_path):\n",
    "    if os.path.exists(save_path):\n",
    "        print(\"The file already exists, no need to download.\")\n",
    "    else:\n",
    "        response = requests.get(url, stream=True)\n",
    "        if response.status_code == 200:\n",
    "            with open(save_path, \"wb\") as file:\n",
    "                for chunk in response.iter_content(1024):\n",
    "                    file.write(chunk)\n",
    "            print(\"File download successful, save path is:\", save_path)\n",
    "        else:\n",
    "            print(\"File download failed, status code:\", response.status_code)\n",
    "\n",
    "files_to_download = [\n",
    "    {\n",
    "        \"url\": \"http://netdissect.csail.mit.edu/dissect/zoo/resnet-152-torch-places365.caffemodel\",\n",
    "        \"save_path\": \"../../models/resnet-152-torch-places365.caffemodel\"\n",
    "    },\n",
    "    {\n",
    "        \"url\": \"http://netdissect.csail.mit.edu/dissect/zoo/resnet-152-torch-places365.prototxt\",\n",
    "        \"save_path\": \"../../models/resnet-152-torch-places365.prototxt\"\n",
    "    }\n",
    "]\n",
    "\n",
    "for file in files_to_download:\n",
    "    download_file(file[\"url\"], file[\"save_path\"])"
   ]
  },
  {
   "cell_type": "code",
   "execution_count": 4,
   "id": "621c96cc-355b-4140-8e1d-32b4815a7bb0",
   "metadata": {
    "execution": {
     "iopub.execute_input": "2024-10-17T14:19:59.345073Z",
     "iopub.status.busy": "2024-10-17T14:19:59.344895Z",
     "iopub.status.idle": "2024-11-04T06:20:11.554783Z",
     "shell.execute_reply": "2024-11-04T06:20:11.553885Z"
    }
   },
   "outputs": [
    {
     "name": "stderr",
     "output_type": "stream",
     "text": [
      "\r",
      "Processing files:   0%|                                 | 0/101 [00:00<?, ?it/s]"
     ]
    },
    {
     "name": "stderr",
     "output_type": "stream",
     "text": [
      "\r",
      "Processing files:   1%|▏               | 1/101 [3:58:08<396:54:59, 14288.99s/it]"
     ]
    },
    {
     "name": "stderr",
     "output_type": "stream",
     "text": [
      "\r",
      "Processing files:   2%|▎               | 2/101 [9:52:27<505:41:23, 18388.72s/it]"
     ]
    },
    {
     "name": "stderr",
     "output_type": "stream",
     "text": [
      "\r",
      "Processing files:   3%|▍              | 3/101 [18:02:08<637:13:04, 23408.00s/it]"
     ]
    },
    {
     "name": "stderr",
     "output_type": "stream",
     "text": [
      "\r",
      "Processing files:   4%|▌              | 4/101 [26:32:15<707:17:39, 26250.09s/it]"
     ]
    },
    {
     "name": "stderr",
     "output_type": "stream",
     "text": [
      "\r",
      "Processing files:   5%|▋              | 5/101 [31:35:59<622:49:16, 23355.80s/it]"
     ]
    },
    {
     "name": "stderr",
     "output_type": "stream",
     "text": [
      "\r",
      "Processing files:   6%|▉              | 6/101 [36:38:08<569:26:09, 21578.63s/it]"
     ]
    },
    {
     "name": "stderr",
     "output_type": "stream",
     "text": [
      "\r",
      "Processing files:   7%|█              | 7/101 [41:46:32<537:11:52, 20573.53s/it]"
     ]
    },
    {
     "name": "stderr",
     "output_type": "stream",
     "text": [
      "\r",
      "Processing files:   8%|█▏             | 8/101 [46:59:32<516:44:07, 20002.66s/it]"
     ]
    },
    {
     "name": "stderr",
     "output_type": "stream",
     "text": [
      "\r",
      "Processing files:   9%|█▎             | 9/101 [52:11:51<501:04:59, 19607.61s/it]"
     ]
    },
    {
     "name": "stderr",
     "output_type": "stream",
     "text": [
      "\r",
      "Processing files:  10%|█▍            | 10/101 [57:24:08<488:50:35, 19338.85s/it]"
     ]
    },
    {
     "name": "stderr",
     "output_type": "stream",
     "text": [
      "\r",
      "Processing files:  11%|█▌            | 11/101 [62:25:35<473:53:36, 18955.74s/it]"
     ]
    },
    {
     "name": "stderr",
     "output_type": "stream",
     "text": [
      "\r",
      "Processing files:  12%|█▋            | 12/101 [67:11:51<455:14:15, 18414.10s/it]"
     ]
    },
    {
     "name": "stderr",
     "output_type": "stream",
     "text": [
      "\r",
      "Processing files:  13%|█▊            | 13/101 [72:21:29<451:20:30, 18463.99s/it]"
     ]
    },
    {
     "name": "stderr",
     "output_type": "stream",
     "text": [
      "\r",
      "Processing files:  14%|█▉            | 14/101 [76:48:14<428:15:26, 17721.00s/it]"
     ]
    },
    {
     "name": "stderr",
     "output_type": "stream",
     "text": [
      "\r",
      "Processing files:  15%|██            | 15/101 [81:39:33<421:35:37, 17648.11s/it]"
     ]
    },
    {
     "name": "stderr",
     "output_type": "stream",
     "text": [
      "\r",
      "Processing files:  16%|██▏           | 16/101 [86:16:51<409:30:58, 17344.22s/it]"
     ]
    },
    {
     "name": "stderr",
     "output_type": "stream",
     "text": [
      "\r",
      "Processing files:  17%|██▎           | 17/101 [90:25:18<387:35:38, 16611.18s/it]"
     ]
    },
    {
     "name": "stderr",
     "output_type": "stream",
     "text": [
      "\r",
      "Processing files:  18%|██▍           | 18/101 [94:38:03<372:57:45, 16176.70s/it]"
     ]
    },
    {
     "name": "stderr",
     "output_type": "stream",
     "text": [
      "\r",
      "Processing files:  19%|██▋           | 19/101 [98:57:57<364:28:57, 16001.68s/it]"
     ]
    },
    {
     "name": "stderr",
     "output_type": "stream",
     "text": [
      "\r",
      "Processing files:  20%|██▌          | 20/101 [103:02:35<351:05:36, 15604.16s/it]"
     ]
    },
    {
     "name": "stderr",
     "output_type": "stream",
     "text": [
      "\r",
      "Processing files:  21%|██▋          | 21/101 [107:01:06<338:08:00, 15216.01s/it]"
     ]
    },
    {
     "name": "stderr",
     "output_type": "stream",
     "text": [
      "\r",
      "Processing files:  22%|██▊          | 22/101 [111:31:04<340:22:31, 15510.78s/it]"
     ]
    },
    {
     "name": "stderr",
     "output_type": "stream",
     "text": [
      "\r",
      "Processing files:  23%|██▉          | 23/101 [116:00:51<340:27:49, 15713.71s/it]"
     ]
    },
    {
     "name": "stderr",
     "output_type": "stream",
     "text": [
      "\r",
      "Processing files:  24%|███          | 24/101 [120:37:14<341:40:43, 15974.59s/it]"
     ]
    },
    {
     "name": "stderr",
     "output_type": "stream",
     "text": [
      "\r",
      "Processing files:  25%|███▏         | 25/101 [124:32:20<325:24:25, 15414.02s/it]"
     ]
    },
    {
     "name": "stderr",
     "output_type": "stream",
     "text": [
      "\r",
      "Processing files:  26%|███▎         | 26/101 [128:25:44<312:18:38, 14990.91s/it]"
     ]
    },
    {
     "name": "stderr",
     "output_type": "stream",
     "text": [
      "\r",
      "Processing files:  27%|███▍         | 27/101 [132:32:18<306:56:00, 14931.90s/it]"
     ]
    },
    {
     "name": "stderr",
     "output_type": "stream",
     "text": [
      "\r",
      "Processing files:  29%|███▋         | 29/101 [136:29:42<226:32:37, 11327.19s/it]"
     ]
    },
    {
     "name": "stderr",
     "output_type": "stream",
     "text": [
      "\r",
      "Processing files:  30%|███▊         | 30/101 [140:29:42<238:25:12, 12088.91s/it]"
     ]
    },
    {
     "name": "stderr",
     "output_type": "stream",
     "text": [
      "\r",
      "Processing files:  31%|███▉         | 31/101 [144:31:26<247:20:41, 12720.59s/it]"
     ]
    },
    {
     "name": "stderr",
     "output_type": "stream",
     "text": [
      "\r",
      "Processing files:  32%|████         | 32/101 [148:31:15<252:30:37, 13174.46s/it]"
     ]
    },
    {
     "name": "stderr",
     "output_type": "stream",
     "text": [
      "\r",
      "Processing files:  33%|████▏        | 33/101 [152:38:44<257:42:21, 13643.25s/it]"
     ]
    },
    {
     "name": "stderr",
     "output_type": "stream",
     "text": [
      "\r",
      "Processing files:  34%|████▍        | 34/101 [156:28:27<254:39:33, 13683.18s/it]"
     ]
    },
    {
     "name": "stderr",
     "output_type": "stream",
     "text": [
      "\r",
      "Processing files:  35%|████▌        | 35/101 [160:45:21<260:03:03, 14184.60s/it]"
     ]
    },
    {
     "name": "stderr",
     "output_type": "stream",
     "text": [
      "\r",
      "Processing files:  36%|████▋        | 36/101 [164:32:10<253:04:12, 14016.19s/it]"
     ]
    },
    {
     "name": "stderr",
     "output_type": "stream",
     "text": [
      "\r",
      "Processing files:  37%|████▊        | 37/101 [168:27:16<249:38:36, 14042.44s/it]"
     ]
    },
    {
     "name": "stderr",
     "output_type": "stream",
     "text": [
      "\r",
      "Processing files:  38%|████▉        | 38/101 [172:29:07<248:10:27, 14181.40s/it]"
     ]
    },
    {
     "name": "stderr",
     "output_type": "stream",
     "text": [
      "\r",
      "Processing files:  39%|█████        | 39/101 [176:31:30<246:05:26, 14289.13s/it]"
     ]
    },
    {
     "name": "stderr",
     "output_type": "stream",
     "text": [
      "\r",
      "Processing files:  40%|█████▏       | 40/101 [180:28:50<241:52:17, 14274.38s/it]"
     ]
    },
    {
     "name": "stderr",
     "output_type": "stream",
     "text": [
      "\r",
      "Processing files:  41%|█████▎       | 41/101 [184:27:07<238:01:10, 14281.17s/it]"
     ]
    },
    {
     "name": "stderr",
     "output_type": "stream",
     "text": [
      "\r",
      "Processing files:  42%|█████▍       | 42/101 [185:48:27<187:57:54, 11469.06s/it]"
     ]
    },
    {
     "name": "stderr",
     "output_type": "stream",
     "text": [
      "\r",
      "Processing files:  43%|█████▌       | 43/101 [189:55:43<201:01:13, 12477.13s/it]"
     ]
    },
    {
     "name": "stderr",
     "output_type": "stream",
     "text": [
      "\r",
      "Processing files:  44%|█████▋       | 44/101 [193:54:22<206:17:16, 13028.70s/it]"
     ]
    },
    {
     "name": "stderr",
     "output_type": "stream",
     "text": [
      "\r",
      "Processing files:  45%|█████▊       | 45/101 [198:01:52<211:09:41, 13574.67s/it]"
     ]
    },
    {
     "name": "stderr",
     "output_type": "stream",
     "text": [
      "\r",
      "Processing files:  46%|█████▉       | 46/101 [202:08:15<212:55:28, 13936.89s/it]"
     ]
    },
    {
     "name": "stderr",
     "output_type": "stream",
     "text": [
      "\r",
      "Processing files:  47%|██████       | 47/101 [206:12:12<212:12:09, 14146.85s/it]"
     ]
    },
    {
     "name": "stderr",
     "output_type": "stream",
     "text": [
      "\r",
      "Processing files:  48%|██████▏      | 48/101 [210:17:12<210:42:48, 14312.61s/it]"
     ]
    },
    {
     "name": "stderr",
     "output_type": "stream",
     "text": [
      "\r",
      "Processing files:  49%|██████▎      | 49/101 [214:18:52<207:33:02, 14368.89s/it]"
     ]
    },
    {
     "name": "stderr",
     "output_type": "stream",
     "text": [
      "\r",
      "Processing files:  50%|██████▍      | 50/101 [218:26:36<205:39:47, 14517.40s/it]"
     ]
    },
    {
     "name": "stderr",
     "output_type": "stream",
     "text": [
      "\r",
      "Processing files:  50%|██████▌      | 51/101 [222:21:04<199:45:28, 14382.57s/it]"
     ]
    },
    {
     "name": "stderr",
     "output_type": "stream",
     "text": [
      "\r",
      "Processing files:  51%|██████▋      | 52/101 [226:29:21<197:51:47, 14536.88s/it]"
     ]
    },
    {
     "name": "stderr",
     "output_type": "stream",
     "text": [
      "\r",
      "Processing files:  52%|██████▊      | 53/101 [230:30:33<193:33:54, 14517.39s/it]"
     ]
    },
    {
     "name": "stderr",
     "output_type": "stream",
     "text": [
      "\r",
      "Processing files:  53%|██████▉      | 54/101 [234:40:46<191:28:21, 14665.99s/it]"
     ]
    },
    {
     "name": "stderr",
     "output_type": "stream",
     "text": [
      "\r",
      "Processing files:  54%|███████      | 55/101 [238:44:04<187:08:18, 14645.62s/it]"
     ]
    },
    {
     "name": "stderr",
     "output_type": "stream",
     "text": [
      "\r",
      "Processing files:  55%|███████▏     | 56/101 [242:55:09<184:38:32, 14771.38s/it]"
     ]
    },
    {
     "name": "stderr",
     "output_type": "stream",
     "text": [
      "\r",
      "Processing files:  56%|███████▎     | 57/101 [247:01:47<180:38:13, 14779.40s/it]"
     ]
    },
    {
     "name": "stderr",
     "output_type": "stream",
     "text": [
      "\r",
      "Processing files:  57%|███████▍     | 58/101 [251:19:15<178:55:50, 14980.23s/it]"
     ]
    },
    {
     "name": "stderr",
     "output_type": "stream",
     "text": [
      "\r",
      "Processing files:  58%|███████▌     | 59/101 [255:29:39<174:55:13, 14993.19s/it]"
     ]
    },
    {
     "name": "stderr",
     "output_type": "stream",
     "text": [
      "\r",
      "Processing files:  59%|███████▋     | 60/101 [259:39:31<170:45:03, 14992.77s/it]"
     ]
    },
    {
     "name": "stderr",
     "output_type": "stream",
     "text": [
      "\r",
      "Processing files:  60%|███████▊     | 61/101 [263:48:54<166:29:20, 14984.02s/it]"
     ]
    },
    {
     "name": "stderr",
     "output_type": "stream",
     "text": [
      "\r",
      "Processing files:  61%|███████▉     | 62/101 [267:54:07<161:26:37, 14902.49s/it]"
     ]
    },
    {
     "name": "stderr",
     "output_type": "stream",
     "text": [
      "\r",
      "Processing files:  62%|████████     | 63/101 [271:57:16<156:18:48, 14808.64s/it]"
     ]
    },
    {
     "name": "stderr",
     "output_type": "stream",
     "text": [
      "\r",
      "Processing files:  63%|████████▏    | 64/101 [275:58:43<151:12:22, 14711.95s/it]"
     ]
    },
    {
     "name": "stderr",
     "output_type": "stream",
     "text": [
      "\r",
      "Processing files:  64%|████████▎    | 65/101 [279:58:16<146:06:17, 14610.47s/it]"
     ]
    },
    {
     "name": "stderr",
     "output_type": "stream",
     "text": [
      "\r",
      "Processing files:  65%|████████▍    | 66/101 [284:29:34<146:54:32, 15110.63s/it]"
     ]
    },
    {
     "name": "stderr",
     "output_type": "stream",
     "text": [
      "\r",
      "Processing files:  66%|████████▌    | 67/101 [288:23:14<139:37:21, 14783.58s/it]"
     ]
    },
    {
     "name": "stderr",
     "output_type": "stream",
     "text": [
      "\r",
      "Processing files:  67%|████████▊    | 68/101 [292:14:00<132:56:08, 14502.08s/it]"
     ]
    },
    {
     "name": "stderr",
     "output_type": "stream",
     "text": [
      "\r",
      "Processing files:  68%|████████▉    | 69/101 [296:01:32<126:38:34, 14247.32s/it]"
     ]
    },
    {
     "name": "stderr",
     "output_type": "stream",
     "text": [
      "\r",
      "Processing files:  69%|█████████    | 70/101 [299:50:25<121:21:23, 14093.02s/it]"
     ]
    },
    {
     "name": "stderr",
     "output_type": "stream",
     "text": [
      "\r",
      "Processing files:  70%|█████████▏   | 71/101 [303:39:39<116:35:38, 13991.29s/it]"
     ]
    },
    {
     "name": "stderr",
     "output_type": "stream",
     "text": [
      "\r",
      "Processing files:  71%|█████████▎   | 72/101 [307:27:07<111:52:34, 13888.10s/it]"
     ]
    },
    {
     "name": "stderr",
     "output_type": "stream",
     "text": [
      "\r",
      "Processing files:  72%|█████████▍   | 73/101 [311:16:06<107:40:19, 13843.56s/it]"
     ]
    },
    {
     "name": "stderr",
     "output_type": "stream",
     "text": [
      "\r",
      "Processing files:  73%|█████████▌   | 74/101 [315:13:58<104:47:27, 13972.12s/it]"
     ]
    },
    {
     "name": "stderr",
     "output_type": "stream",
     "text": [
      "\r",
      "Processing files:  74%|█████████▋   | 75/101 [319:44:48<105:50:40, 14655.39s/it]"
     ]
    },
    {
     "name": "stderr",
     "output_type": "stream",
     "text": [
      "\r",
      "Processing files:  75%|█████████▊   | 76/101 [325:31:40<114:36:01, 16502.46s/it]"
     ]
    },
    {
     "name": "stderr",
     "output_type": "stream",
     "text": [
      "\r",
      "Processing files:  76%|█████████▉   | 77/101 [331:03:19<116:48:27, 17521.15s/it]"
     ]
    },
    {
     "name": "stderr",
     "output_type": "stream",
     "text": [
      "\r",
      "Processing files:  77%|██████████   | 78/101 [334:59:56<105:34:10, 16523.95s/it]"
     ]
    },
    {
     "name": "stderr",
     "output_type": "stream",
     "text": [
      "\r",
      "Processing files:  78%|██████████▉   | 79/101 [338:54:38<96:30:09, 15791.34s/it]"
     ]
    },
    {
     "name": "stderr",
     "output_type": "stream",
     "text": [
      "\r",
      "Processing files:  79%|███████████   | 80/101 [342:47:01<88:52:54, 15236.89s/it]"
     ]
    },
    {
     "name": "stderr",
     "output_type": "stream",
     "text": [
      "\r",
      "Processing files:  80%|███████████▏  | 81/101 [346:37:49<82:20:05, 14820.28s/it]"
     ]
    },
    {
     "name": "stderr",
     "output_type": "stream",
     "text": [
      "\r",
      "Processing files:  81%|███████████▎  | 82/101 [350:27:10<76:32:26, 14502.45s/it]"
     ]
    },
    {
     "name": "stderr",
     "output_type": "stream",
     "text": [
      "\r",
      "Processing files:  82%|███████████▌  | 83/101 [354:25:22<72:11:51, 14439.50s/it]"
     ]
    },
    {
     "name": "stderr",
     "output_type": "stream",
     "text": [
      "\r",
      "Processing files:  83%|███████████▋  | 84/101 [358:29:17<68:27:46, 14498.04s/it]"
     ]
    },
    {
     "name": "stderr",
     "output_type": "stream",
     "text": [
      "\r",
      "Processing files:  84%|███████████▊  | 85/101 [362:26:28<64:04:46, 14417.90s/it]"
     ]
    },
    {
     "name": "stderr",
     "output_type": "stream",
     "text": [
      "\r",
      "Processing files:  85%|███████████▉  | 86/101 [366:20:17<59:35:19, 14301.30s/it]"
     ]
    },
    {
     "name": "stderr",
     "output_type": "stream",
     "text": [
      "\r",
      "Processing files:  86%|████████████  | 87/101 [370:17:34<55:32:28, 14282.04s/it]"
     ]
    },
    {
     "name": "stderr",
     "output_type": "stream",
     "text": [
      "\r",
      "Processing files:  87%|████████████▏ | 88/101 [374:08:56<51:08:24, 14161.90s/it]"
     ]
    },
    {
     "name": "stderr",
     "output_type": "stream",
     "text": [
      "\r",
      "Processing files:  88%|████████████▎ | 89/101 [377:59:17<46:51:55, 14059.60s/it]"
     ]
    },
    {
     "name": "stderr",
     "output_type": "stream",
     "text": [
      "\r",
      "Processing files:  89%|████████████▍ | 90/101 [381:53:07<42:55:58, 14050.77s/it]"
     ]
    },
    {
     "name": "stderr",
     "output_type": "stream",
     "text": [
      "\r",
      "Processing files:  90%|████████████▌ | 91/101 [385:45:53<38:57:33, 14025.39s/it]"
     ]
    },
    {
     "name": "stderr",
     "output_type": "stream",
     "text": [
      "\r",
      "Processing files:  91%|████████████▊ | 92/101 [389:36:29<34:55:15, 13968.40s/it]"
     ]
    },
    {
     "name": "stderr",
     "output_type": "stream",
     "text": [
      "\r",
      "Processing files:  92%|████████████▉ | 93/101 [393:26:39<30:56:09, 13921.17s/it]"
     ]
    },
    {
     "name": "stderr",
     "output_type": "stream",
     "text": [
      "\r",
      "Processing files:  93%|█████████████ | 94/101 [397:15:10<26:56:45, 13857.87s/it]"
     ]
    },
    {
     "name": "stderr",
     "output_type": "stream",
     "text": [
      "\r",
      "Processing files:  94%|█████████████▏| 95/101 [401:02:57<23:00:03, 13800.56s/it]"
     ]
    },
    {
     "name": "stderr",
     "output_type": "stream",
     "text": [
      "\r",
      "Processing files:  95%|█████████████▎| 96/101 [404:51:24<19:07:42, 13772.57s/it]"
     ]
    },
    {
     "name": "stderr",
     "output_type": "stream",
     "text": [
      "\r",
      "Processing files:  96%|█████████████▍| 97/101 [408:41:36<15:18:57, 13784.47s/it]"
     ]
    },
    {
     "name": "stderr",
     "output_type": "stream",
     "text": [
      "\r",
      "Processing files:  97%|█████████████▌| 98/101 [412:31:54<11:29:43, 13794.47s/it]"
     ]
    },
    {
     "name": "stderr",
     "output_type": "stream",
     "text": [
      "\r",
      "Processing files:  98%|██████████████▋| 99/101 [416:21:55<7:39:53, 13796.62s/it]"
     ]
    },
    {
     "name": "stderr",
     "output_type": "stream",
     "text": [
      "\r",
      "Processing files:  99%|█████████████▊| 100/101 [420:10:57<3:49:40, 13780.08s/it]"
     ]
    },
    {
     "name": "stderr",
     "output_type": "stream",
     "text": [
      "\r",
      "Processing files: 100%|████████████████| 101/101 [424:00:11<00:00, 13772.40s/it]"
     ]
    },
    {
     "name": "stderr",
     "output_type": "stream",
     "text": [
      "\r",
      "Processing files: 100%|████████████████| 101/101 [424:00:11<00:00, 15112.99s/it]"
     ]
    },
    {
     "name": "stderr",
     "output_type": "stream",
     "text": [
      "\n"
     ]
    }
   ],
   "source": [
    "# Define the path for the model architecture and weight files.\n",
    "file_location_path = Path.cwd()\n",
    "prototxt_path = '../../models/resnet-152-torch-places365.prototxt'\n",
    "caffemodel_path = '../../models/resnet-152-torch-places365.caffemodel'\n",
    "project_base_path = file_location_path.parent.parent\n",
    "ns6_wiki_paths = project_base_path / 'data' / 'processed' / 'landscape_or_not'\n",
    "image_folder = Path('/home/ubuntu/landscape-aesthetics')\n",
    "\n",
    "results = []\n",
    "# Load Caffe model.\n",
    "net = cv2.dnn.readNetFromCaffe(prototxt_path, caffemodel_path)\n",
    "\n",
    "category_mapping = {}\n",
    "with open('../../data/external/Places365/categories_places365.txt', 'r') as file:\n",
    "    for line in file:\n",
    "        parts = line.strip().split()\n",
    "        category_name = parts[0][3:]\n",
    "        category_id = int(parts[1])\n",
    "        category_mapping[category_id] = category_name\n",
    "\n",
    "pattern = re.compile(r\"^ns6_clean_(\\d+)\\.csv$\") \n",
    "\n",
    "for file_name in tqdm(os.listdir(ns6_wiki_paths), desc=\"Processing files\"):\n",
    "    file_path = ns6_wiki_paths / file_name\n",
    "    if file_path.is_file() and pattern.match(file_name):\n",
    "        label_file_path = Path(file_name)\n",
    "        labeled_csv_name = label_file_path.with_suffix('.csv')\n",
    "        result = project_base_path / 'data' / 'processed' / 'landscape_type' / labeled_csv_name\n",
    "        result.parent.mkdir(parents=True, exist_ok=True)\n",
    "\n",
    "        results = []\n",
    "\n",
    "        data = pd.read_csv(file_path, usecols=['image_path', 'prediction'])\n",
    "        data = data[data['prediction'] == 1]\n",
    "        image_paths = data['image_path'].tolist()\n",
    "        for img_path in image_paths:\n",
    "            image_path = image_folder / img_path\n",
    "            image = cv2.imread(str(image_path))\n",
    "            if image is None:\n",
    "                continue \n",
    "\n",
    "            image = cv2.resize(image, (224, 224))\n",
    "            blob = cv2.dnn.blobFromImage(\n",
    "                image,\n",
    "                scalefactor=1.0,\n",
    "                size=(224, 224),\n",
    "                mean=(123.675, 116.28, 103.53),\n",
    "                swapRB=True,\n",
    "                crop=False\n",
    "            )\n",
    "\n",
    "            net.setInput(blob)\n",
    "            output = net.forward()\n",
    "\n",
    "            top5_indices = output[0].argsort()[-5:][::-1]\n",
    "            top5_probabilities = output[0][top5_indices]\n",
    "            top5_categories = [category_mapping[idx] for idx in top5_indices]\n",
    "\n",
    "            row = [img_path]\n",
    "            for category, probability in zip(top5_categories, top5_probabilities):\n",
    "                row.extend([category, probability])\n",
    "            results.append(row)\n",
    "\n",
    "        columns = [\"filename\", \"prediction1\", \"probability1\", \"prediction2\", \"probability2\",\n",
    "                   \"prediction3\", \"probability3\", \"prediction4\", \"probability4\", \n",
    "                   \"prediction5\", \"probability5\"]\n",
    "\n",
    "        df = pd.DataFrame(results, columns=columns)\n",
    "        df.to_csv(result, index=False)"
   ]
  },
  {
   "cell_type": "code",
   "execution_count": null,
   "id": "0c358a2e-2343-464d-93f5-3b5b66d4714c",
   "metadata": {},
   "outputs": [],
   "source": []
  }
 ],
 "metadata": {
  "kernelspec": {
   "display_name": "Python 3 (ipykernel)",
   "language": "python",
   "name": "python3"
  },
  "language_info": {
   "codemirror_mode": {
    "name": "ipython",
    "version": 3
   },
   "file_extension": ".py",
   "mimetype": "text/x-python",
   "name": "python",
   "nbconvert_exporter": "python",
   "pygments_lexer": "ipython3",
   "version": "3.12.2"
  }
 },
 "nbformat": 4,
 "nbformat_minor": 5
}
