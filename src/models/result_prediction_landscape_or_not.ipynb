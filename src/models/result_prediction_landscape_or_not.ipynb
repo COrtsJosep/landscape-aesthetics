{
 "cells": [
  {
   "cell_type": "code",
   "execution_count": 1,
   "id": "5fbf7557-5258-4c8e-a224-96dc66f601a1",
   "metadata": {
    "execution": {
     "iopub.execute_input": "2024-10-03T13:52:51.503908Z",
     "iopub.status.busy": "2024-10-03T13:52:51.503594Z",
     "iopub.status.idle": "2024-10-03T13:52:54.306482Z",
     "shell.execute_reply": "2024-10-03T13:52:54.305964Z"
    }
   },
   "outputs": [],
   "source": [
    "import pandas as pd\n",
    "import os\n",
    "from PIL import Image\n",
    "import torch\n",
    "import torch.nn as nn\n",
    "import torchvision.models as models\n",
    "from torchvision import transforms\n",
    "from torch.utils.data import Dataset, DataLoader\n",
    "import torch.optim as optim\n",
    "from sklearn.metrics import mean_absolute_error, r2_score\n",
    "import matplotlib.pyplot as plt\n",
    "from pathlib import Path\n",
    "import torch.nn.functional as F\n",
    "import sys\n",
    "from sklearn.metrics import accuracy_score, recall_score\n",
    "import random\n",
    "from tqdm import tqdm\n",
    "from sklearn.metrics import confusion_matrix\n",
    "from collections import Counter\n",
    "import re"
   ]
  },
  {
   "cell_type": "code",
   "execution_count": 2,
   "id": "f3acc815-9dfa-4e4e-a0a5-f83a5bdef358",
   "metadata": {
    "execution": {
     "iopub.execute_input": "2024-10-03T13:52:54.309657Z",
     "iopub.status.busy": "2024-10-03T13:52:54.309363Z",
     "iopub.status.idle": "2024-10-15T15:05:46.364581Z",
     "shell.execute_reply": "2024-10-15T15:05:46.363684Z"
    }
   },
   "outputs": [
    {
     "name": "stderr",
     "output_type": "stream",
     "text": [
      "\r",
      "Processing files:   0%|                                 | 0/101 [00:00<?, ?it/s]"
     ]
    },
    {
     "name": "stderr",
     "output_type": "stream",
     "text": [
      "\r",
      "Processing files:   1%|▏                   | 1/101 [57:58<96:36:45, 3478.05s/it]"
     ]
    },
    {
     "name": "stdout",
     "output_type": "stream",
     "text": [
      "Results saved to: /home/ubuntu/landscape-aesthetics/data/processed/landscape_or_not/ns6_clean_00.csv\n"
     ]
    },
    {
     "name": "stderr",
     "output_type": "stream",
     "text": [
      "\r",
      "Processing files:   2%|▎                | 2/101 [2:48:43<146:53:15, 5341.37s/it]"
     ]
    },
    {
     "name": "stdout",
     "output_type": "stream",
     "text": [
      "Results saved to: /home/ubuntu/landscape-aesthetics/data/processed/landscape_or_not/ns6_clean_71.csv\n"
     ]
    },
    {
     "name": "stderr",
     "output_type": "stream",
     "text": [
      "\r",
      "Processing files:   3%|▌                | 3/101 [4:30:27<154:52:39, 5689.38s/it]"
     ]
    },
    {
     "name": "stdout",
     "output_type": "stream",
     "text": [
      "Results saved to: /home/ubuntu/landscape-aesthetics/data/processed/landscape_or_not/ns6_clean_50.csv\n"
     ]
    },
    {
     "name": "stderr",
     "output_type": "stream",
     "text": [
      "\r",
      "Processing files:   4%|▋                | 4/101 [6:10:03<156:20:45, 5802.53s/it]"
     ]
    },
    {
     "name": "stdout",
     "output_type": "stream",
     "text": [
      "Results saved to: /home/ubuntu/landscape-aesthetics/data/processed/landscape_or_not/ns6_clean_25.csv\n"
     ]
    },
    {
     "name": "stderr",
     "output_type": "stream",
     "text": [
      "\r",
      "Processing files:   5%|▊                | 5/101 [7:49:57<156:34:43, 5871.71s/it]"
     ]
    },
    {
     "name": "stdout",
     "output_type": "stream",
     "text": [
      "Results saved to: /home/ubuntu/landscape-aesthetics/data/processed/landscape_or_not/ns6_clean_45.csv\n"
     ]
    },
    {
     "name": "stderr",
     "output_type": "stream",
     "text": [
      "\r",
      "Processing files:   6%|█                | 6/101 [9:25:09<153:30:54, 5817.42s/it]"
     ]
    },
    {
     "name": "stdout",
     "output_type": "stream",
     "text": [
      "Results saved to: /home/ubuntu/landscape-aesthetics/data/processed/landscape_or_not/ns6_clean_74.csv\n"
     ]
    },
    {
     "name": "stderr",
     "output_type": "stream",
     "text": [
      "\r",
      "Processing files:   7%|█               | 7/101 [11:00:29<151:03:58, 5785.52s/it]"
     ]
    },
    {
     "name": "stdout",
     "output_type": "stream",
     "text": [
      "Results saved to: /home/ubuntu/landscape-aesthetics/data/processed/landscape_or_not/ns6_clean_17.csv\n"
     ]
    },
    {
     "name": "stderr",
     "output_type": "stream",
     "text": [
      "\r",
      "Processing files:   8%|█▎              | 8/101 [12:35:41<148:51:15, 5762.10s/it]"
     ]
    },
    {
     "name": "stdout",
     "output_type": "stream",
     "text": [
      "Results saved to: /home/ubuntu/landscape-aesthetics/data/processed/landscape_or_not/ns6_clean_26.csv\n"
     ]
    },
    {
     "name": "stderr",
     "output_type": "stream",
     "text": [
      "\r",
      "Processing files:   9%|█▍              | 9/101 [14:09:44<146:17:55, 5724.74s/it]"
     ]
    },
    {
     "name": "stdout",
     "output_type": "stream",
     "text": [
      "Results saved to: /home/ubuntu/landscape-aesthetics/data/processed/landscape_or_not/ns6_clean_04.csv\n"
     ]
    },
    {
     "name": "stderr",
     "output_type": "stream",
     "text": [
      "\r",
      "Processing files:  10%|█▍             | 10/101 [15:48:27<146:15:44, 5786.21s/it]"
     ]
    },
    {
     "name": "stdout",
     "output_type": "stream",
     "text": [
      "Results saved to: /home/ubuntu/landscape-aesthetics/data/processed/landscape_or_not/ns6_clean_38.csv\n"
     ]
    },
    {
     "name": "stderr",
     "output_type": "stream",
     "text": [
      "\r",
      "Processing files:  11%|█▋             | 11/101 [17:31:20<147:36:29, 5904.33s/it]"
     ]
    },
    {
     "name": "stdout",
     "output_type": "stream",
     "text": [
      "Results saved to: /home/ubuntu/landscape-aesthetics/data/processed/landscape_or_not/ns6_clean_43.csv\n"
     ]
    },
    {
     "name": "stderr",
     "output_type": "stream",
     "text": [
      "\r",
      "Processing files:  12%|█▊             | 12/101 [19:05:06<143:52:45, 5819.84s/it]"
     ]
    },
    {
     "name": "stdout",
     "output_type": "stream",
     "text": [
      "Results saved to: /home/ubuntu/landscape-aesthetics/data/processed/landscape_or_not/ns6_clean_79.csv\n"
     ]
    },
    {
     "name": "stderr",
     "output_type": "stream",
     "text": [
      "\r",
      "Processing files:  13%|█▉             | 13/101 [20:42:40<142:31:04, 5830.28s/it]"
     ]
    },
    {
     "name": "stdout",
     "output_type": "stream",
     "text": [
      "Results saved to: /home/ubuntu/landscape-aesthetics/data/processed/landscape_or_not/ns6_clean_54.csv\n"
     ]
    },
    {
     "name": "stderr",
     "output_type": "stream",
     "text": [
      "\r",
      "Processing files:  14%|██             | 14/101 [22:19:43<140:50:25, 5827.88s/it]"
     ]
    },
    {
     "name": "stdout",
     "output_type": "stream",
     "text": [
      "Results saved to: /home/ubuntu/landscape-aesthetics/data/processed/landscape_or_not/ns6_clean_08.csv\n"
     ]
    },
    {
     "name": "stderr",
     "output_type": "stream",
     "text": [
      "\r",
      "Processing files:  15%|██▏            | 15/101 [24:49:00<161:45:11, 6771.06s/it]"
     ]
    },
    {
     "name": "stdout",
     "output_type": "stream",
     "text": [
      "Results saved to: /home/ubuntu/landscape-aesthetics/data/processed/landscape_or_not/ns6_clean_46.csv\n"
     ]
    },
    {
     "name": "stderr",
     "output_type": "stream",
     "text": [
      "\r",
      "Processing files:  16%|██▍            | 16/101 [26:58:11<166:50:26, 7066.19s/it]"
     ]
    },
    {
     "name": "stdout",
     "output_type": "stream",
     "text": [
      "Results saved to: /home/ubuntu/landscape-aesthetics/data/processed/landscape_or_not/ns6_clean_06.csv\n"
     ]
    },
    {
     "name": "stderr",
     "output_type": "stream",
     "text": [
      "\r",
      "Processing files:  17%|██▌            | 17/101 [31:25:02<227:38:05, 9755.78s/it]"
     ]
    },
    {
     "name": "stdout",
     "output_type": "stream",
     "text": [
      "Results saved to: /home/ubuntu/landscape-aesthetics/data/processed/landscape_or_not/ns6_clean_35.csv\n"
     ]
    },
    {
     "name": "stderr",
     "output_type": "stream",
     "text": [
      "\r",
      "Processing files:  18%|██▍           | 18/101 [35:38:49<262:49:57, 11399.97s/it]"
     ]
    },
    {
     "name": "stdout",
     "output_type": "stream",
     "text": [
      "Results saved to: /home/ubuntu/landscape-aesthetics/data/processed/landscape_or_not/ns6_clean_11.csv\n"
     ]
    },
    {
     "name": "stderr",
     "output_type": "stream",
     "text": [
      "\r",
      "Processing files:  19%|██▋           | 19/101 [37:45:58<233:51:53, 10267.24s/it]"
     ]
    },
    {
     "name": "stdout",
     "output_type": "stream",
     "text": [
      "Results saved to: /home/ubuntu/landscape-aesthetics/data/processed/landscape_or_not/ns6_clean_10.csv\n"
     ]
    },
    {
     "name": "stderr",
     "output_type": "stream",
     "text": [
      "\r",
      "Processing files:  20%|██▉            | 20/101 [39:18:44<199:15:26, 8855.89s/it]"
     ]
    },
    {
     "name": "stdout",
     "output_type": "stream",
     "text": [
      "Results saved to: /home/ubuntu/landscape-aesthetics/data/processed/landscape_or_not/ns6_clean_90.csv\n"
     ]
    },
    {
     "name": "stderr",
     "output_type": "stream",
     "text": [
      "\r",
      "Processing files:  21%|███            | 21/101 [40:51:04<174:40:41, 7860.51s/it]"
     ]
    },
    {
     "name": "stdout",
     "output_type": "stream",
     "text": [
      "Results saved to: /home/ubuntu/landscape-aesthetics/data/processed/landscape_or_not/ns6_clean_72.csv\n"
     ]
    },
    {
     "name": "stderr",
     "output_type": "stream",
     "text": [
      "\r",
      "Processing files:  22%|███▎           | 22/101 [42:25:51<158:10:48, 7208.21s/it]"
     ]
    },
    {
     "name": "stdout",
     "output_type": "stream",
     "text": [
      "Results saved to: /home/ubuntu/landscape-aesthetics/data/processed/landscape_or_not/ns6_clean_81.csv\n"
     ]
    },
    {
     "name": "stderr",
     "output_type": "stream",
     "text": [
      "\r",
      "Processing files:  23%|███▍           | 23/101 [44:01:32<146:38:04, 6767.75s/it]"
     ]
    },
    {
     "name": "stdout",
     "output_type": "stream",
     "text": [
      "Results saved to: /home/ubuntu/landscape-aesthetics/data/processed/landscape_or_not/ns6_clean_47.csv\n"
     ]
    },
    {
     "name": "stderr",
     "output_type": "stream",
     "text": [
      "\r",
      "Processing files:  24%|███▌           | 24/101 [45:34:32<137:08:11, 6411.57s/it]"
     ]
    },
    {
     "name": "stdout",
     "output_type": "stream",
     "text": [
      "Results saved to: /home/ubuntu/landscape-aesthetics/data/processed/landscape_or_not/ns6_clean_65.csv\n"
     ]
    },
    {
     "name": "stderr",
     "output_type": "stream",
     "text": [
      "\r",
      "Processing files:  26%|████            | 26/101 [47:07:49<98:49:44, 4743.80s/it]"
     ]
    },
    {
     "name": "stdout",
     "output_type": "stream",
     "text": [
      "Results saved to: /home/ubuntu/landscape-aesthetics/data/processed/landscape_or_not/ns6_clean_30.csv\n"
     ]
    },
    {
     "name": "stderr",
     "output_type": "stream",
     "text": [
      "\r",
      "Processing files:  27%|████           | 27/101 [48:40:38<101:42:54, 4948.30s/it]"
     ]
    },
    {
     "name": "stdout",
     "output_type": "stream",
     "text": [
      "Results saved to: /home/ubuntu/landscape-aesthetics/data/processed/landscape_or_not/ns6_clean_37.csv\n"
     ]
    },
    {
     "name": "stderr",
     "output_type": "stream",
     "text": [
      "\r",
      "Processing files:  28%|████▏          | 28/101 [50:14:10<103:51:47, 5122.01s/it]"
     ]
    },
    {
     "name": "stdout",
     "output_type": "stream",
     "text": [
      "Results saved to: /home/ubuntu/landscape-aesthetics/data/processed/landscape_or_not/ns6_clean_07.csv\n"
     ]
    },
    {
     "name": "stderr",
     "output_type": "stream",
     "text": [
      "\r",
      "Processing files:  29%|████▎          | 29/101 [51:47:29<105:01:57, 5251.63s/it]"
     ]
    },
    {
     "name": "stdout",
     "output_type": "stream",
     "text": [
      "Results saved to: /home/ubuntu/landscape-aesthetics/data/processed/landscape_or_not/ns6_clean_42.csv\n"
     ]
    },
    {
     "name": "stderr",
     "output_type": "stream",
     "text": [
      "\r",
      "Processing files:  30%|████▍          | 30/101 [53:20:43<105:27:59, 5347.60s/it]"
     ]
    },
    {
     "name": "stdout",
     "output_type": "stream",
     "text": [
      "Results saved to: /home/ubuntu/landscape-aesthetics/data/processed/landscape_or_not/ns6_clean_61.csv\n"
     ]
    },
    {
     "name": "stderr",
     "output_type": "stream",
     "text": [
      "\r",
      "Processing files:  31%|████▌          | 31/101 [54:53:26<105:10:34, 5409.06s/it]"
     ]
    },
    {
     "name": "stdout",
     "output_type": "stream",
     "text": [
      "Results saved to: /home/ubuntu/landscape-aesthetics/data/processed/landscape_or_not/ns6_clean_88.csv\n"
     ]
    },
    {
     "name": "stderr",
     "output_type": "stream",
     "text": [
      "\r",
      "Processing files:  32%|█████           | 32/101 [55:26:00<84:29:12, 4408.00s/it]"
     ]
    },
    {
     "name": "stdout",
     "output_type": "stream",
     "text": [
      "Results saved to: /home/ubuntu/landscape-aesthetics/data/processed/landscape_or_not/ns6_clean_99.csv\n"
     ]
    },
    {
     "name": "stderr",
     "output_type": "stream",
     "text": [
      "\r",
      "Processing files:  33%|█████▏          | 33/101 [57:06:47<92:19:14, 4887.56s/it]"
     ]
    },
    {
     "name": "stdout",
     "output_type": "stream",
     "text": [
      "Results saved to: /home/ubuntu/landscape-aesthetics/data/processed/landscape_or_not/ns6_clean_32.csv\n"
     ]
    },
    {
     "name": "stderr",
     "output_type": "stream",
     "text": [
      "\r",
      "Processing files:  34%|█████▍          | 34/101 [58:48:40<97:41:33, 5249.15s/it]"
     ]
    },
    {
     "name": "stdout",
     "output_type": "stream",
     "text": [
      "Results saved to: /home/ubuntu/landscape-aesthetics/data/processed/landscape_or_not/ns6_clean_76.csv\n"
     ]
    },
    {
     "name": "stderr",
     "output_type": "stream",
     "text": [
      "\r",
      "Processing files:  35%|█████▏         | 35/101 [60:30:41<100:58:23, 5507.63s/it]"
     ]
    },
    {
     "name": "stdout",
     "output_type": "stream",
     "text": [
      "Results saved to: /home/ubuntu/landscape-aesthetics/data/processed/landscape_or_not/ns6_clean_36.csv\n"
     ]
    },
    {
     "name": "stderr",
     "output_type": "stream",
     "text": [
      "\r",
      "Processing files:  36%|█████▎         | 36/101 [62:12:28<102:39:38, 5685.83s/it]"
     ]
    },
    {
     "name": "stdout",
     "output_type": "stream",
     "text": [
      "Results saved to: /home/ubuntu/landscape-aesthetics/data/processed/landscape_or_not/ns6_clean_52.csv\n"
     ]
    },
    {
     "name": "stderr",
     "output_type": "stream",
     "text": [
      "\r",
      "Processing files:  37%|█████▍         | 37/101 [63:54:39<103:26:32, 5818.63s/it]"
     ]
    },
    {
     "name": "stdout",
     "output_type": "stream",
     "text": [
      "Results saved to: /home/ubuntu/landscape-aesthetics/data/processed/landscape_or_not/ns6_clean_13.csv\n"
     ]
    },
    {
     "name": "stderr",
     "output_type": "stream",
     "text": [
      "\r",
      "Processing files:  38%|█████▋         | 38/101 [65:36:36<103:23:01, 5907.64s/it]"
     ]
    },
    {
     "name": "stdout",
     "output_type": "stream",
     "text": [
      "Results saved to: /home/ubuntu/landscape-aesthetics/data/processed/landscape_or_not/ns6_clean_75.csv\n"
     ]
    },
    {
     "name": "stderr",
     "output_type": "stream",
     "text": [
      "\r",
      "Processing files:  39%|█████▊         | 39/101 [67:14:47<101:39:39, 5902.90s/it]"
     ]
    },
    {
     "name": "stdout",
     "output_type": "stream",
     "text": [
      "Results saved to: /home/ubuntu/landscape-aesthetics/data/processed/landscape_or_not/ns6_clean_56.csv\n"
     ]
    },
    {
     "name": "stderr",
     "output_type": "stream",
     "text": [
      "\r",
      "Processing files:  40%|██████▎         | 40/101 [68:47:53<98:24:41, 5807.89s/it]"
     ]
    },
    {
     "name": "stdout",
     "output_type": "stream",
     "text": [
      "Results saved to: /home/ubuntu/landscape-aesthetics/data/processed/landscape_or_not/ns6_clean_97.csv\n"
     ]
    },
    {
     "name": "stderr",
     "output_type": "stream",
     "text": [
      "\r",
      "Processing files:  41%|██████▍         | 41/101 [70:21:04<95:42:50, 5742.85s/it]"
     ]
    },
    {
     "name": "stdout",
     "output_type": "stream",
     "text": [
      "Results saved to: /home/ubuntu/landscape-aesthetics/data/processed/landscape_or_not/ns6_clean_91.csv\n"
     ]
    },
    {
     "name": "stderr",
     "output_type": "stream",
     "text": [
      "\r",
      "Processing files:  42%|██████▏        | 42/101 [72:29:56<103:53:22, 6339.02s/it]"
     ]
    },
    {
     "name": "stdout",
     "output_type": "stream",
     "text": [
      "Results saved to: /home/ubuntu/landscape-aesthetics/data/processed/landscape_or_not/ns6_clean_18.csv\n"
     ]
    },
    {
     "name": "stderr",
     "output_type": "stream",
     "text": [
      "\r",
      "Processing files:  43%|██████▍        | 43/101 [76:50:02<146:53:26, 9117.35s/it]"
     ]
    },
    {
     "name": "stdout",
     "output_type": "stream",
     "text": [
      "Results saved to: /home/ubuntu/landscape-aesthetics/data/processed/landscape_or_not/ns6_clean_05.csv\n"
     ]
    },
    {
     "name": "stderr",
     "output_type": "stream",
     "text": [
      "\r",
      "Processing files:  44%|██████        | 44/101 [81:18:10<177:27:04, 11207.45s/it]"
     ]
    },
    {
     "name": "stdout",
     "output_type": "stream",
     "text": [
      "Results saved to: /home/ubuntu/landscape-aesthetics/data/processed/landscape_or_not/ns6_clean_44.csv\n"
     ]
    },
    {
     "name": "stderr",
     "output_type": "stream",
     "text": [
      "\r",
      "Processing files:  45%|██████▏       | 45/101 [85:46:15<197:05:29, 12670.16s/it]"
     ]
    },
    {
     "name": "stdout",
     "output_type": "stream",
     "text": [
      "Results saved to: /home/ubuntu/landscape-aesthetics/data/processed/landscape_or_not/ns6_clean_23.csv\n"
     ]
    },
    {
     "name": "stderr",
     "output_type": "stream",
     "text": [
      "\r",
      "Processing files:  46%|██████▍       | 46/101 [90:08:53<207:43:11, 13596.21s/it]"
     ]
    },
    {
     "name": "stdout",
     "output_type": "stream",
     "text": [
      "Results saved to: /home/ubuntu/landscape-aesthetics/data/processed/landscape_or_not/ns6_clean_41.csv\n"
     ]
    },
    {
     "name": "stderr",
     "output_type": "stream",
     "text": [
      "\r",
      "Processing files:  47%|██████▌       | 47/101 [94:37:16<215:13:26, 14348.27s/it]"
     ]
    },
    {
     "name": "stdout",
     "output_type": "stream",
     "text": [
      "Results saved to: /home/ubuntu/landscape-aesthetics/data/processed/landscape_or_not/ns6_clean_31.csv\n"
     ]
    },
    {
     "name": "stderr",
     "output_type": "stream",
     "text": [
      "\r",
      "Processing files:  48%|██████▋       | 48/101 [98:53:56<215:53:02, 14663.82s/it]"
     ]
    },
    {
     "name": "stdout",
     "output_type": "stream",
     "text": [
      "Results saved to: /home/ubuntu/landscape-aesthetics/data/processed/landscape_or_not/ns6_clean_68.csv\n"
     ]
    },
    {
     "name": "stderr",
     "output_type": "stream",
     "text": [
      "\r",
      "Processing files:  49%|██████▎      | 49/101 [103:05:24<213:38:41, 14790.80s/it]"
     ]
    },
    {
     "name": "stdout",
     "output_type": "stream",
     "text": [
      "Results saved to: /home/ubuntu/landscape-aesthetics/data/processed/landscape_or_not/ns6_clean_14.csv\n"
     ]
    },
    {
     "name": "stderr",
     "output_type": "stream",
     "text": [
      "\r",
      "Processing files:  50%|██████▍      | 50/101 [107:17:40<211:00:10, 14894.33s/it]"
     ]
    },
    {
     "name": "stdout",
     "output_type": "stream",
     "text": [
      "Results saved to: /home/ubuntu/landscape-aesthetics/data/processed/landscape_or_not/ns6_clean_73.csv\n"
     ]
    },
    {
     "name": "stderr",
     "output_type": "stream",
     "text": [
      "\r",
      "Processing files:  50%|██████▌      | 51/101 [111:28:46<207:35:03, 14946.07s/it]"
     ]
    },
    {
     "name": "stdout",
     "output_type": "stream",
     "text": [
      "Results saved to: /home/ubuntu/landscape-aesthetics/data/processed/landscape_or_not/ns6_clean_20.csv\n"
     ]
    },
    {
     "name": "stderr",
     "output_type": "stream",
     "text": [
      "\r",
      "Processing files:  51%|██████▋      | 52/101 [115:58:50<208:34:05, 15323.37s/it]"
     ]
    },
    {
     "name": "stdout",
     "output_type": "stream",
     "text": [
      "Results saved to: /home/ubuntu/landscape-aesthetics/data/processed/landscape_or_not/ns6_clean_48.csv\n"
     ]
    },
    {
     "name": "stderr",
     "output_type": "stream",
     "text": [
      "\r",
      "Processing files:  52%|██████▊      | 53/101 [123:51:59<256:34:19, 19242.92s/it]"
     ]
    },
    {
     "name": "stdout",
     "output_type": "stream",
     "text": [
      "Results saved to: /home/ubuntu/landscape-aesthetics/data/processed/landscape_or_not/ns6_clean_49.csv\n"
     ]
    },
    {
     "name": "stderr",
     "output_type": "stream",
     "text": [
      "\r",
      "Processing files:  53%|██████▉      | 54/101 [131:22:42<281:46:40, 21582.98s/it]"
     ]
    },
    {
     "name": "stdout",
     "output_type": "stream",
     "text": [
      "Results saved to: /home/ubuntu/landscape-aesthetics/data/processed/landscape_or_not/ns6_clean_22.csv\n"
     ]
    },
    {
     "name": "stderr",
     "output_type": "stream",
     "text": [
      "\r",
      "Processing files:  54%|███████      | 55/101 [139:26:38<304:21:07, 23818.85s/it]"
     ]
    },
    {
     "name": "stdout",
     "output_type": "stream",
     "text": [
      "Results saved to: /home/ubuntu/landscape-aesthetics/data/processed/landscape_or_not/ns6_clean_57.csv\n"
     ]
    },
    {
     "name": "stderr",
     "output_type": "stream",
     "text": [
      "\r",
      "Processing files:  55%|███████▏     | 56/101 [146:01:35<297:16:35, 23782.13s/it]"
     ]
    },
    {
     "name": "stdout",
     "output_type": "stream",
     "text": [
      "Results saved to: /home/ubuntu/landscape-aesthetics/data/processed/landscape_or_not/ns6_clean_16.csv\n"
     ]
    },
    {
     "name": "stderr",
     "output_type": "stream",
     "text": [
      "\r",
      "Processing files:  56%|███████▎     | 57/101 [149:49:26<253:35:55, 20748.99s/it]"
     ]
    },
    {
     "name": "stdout",
     "output_type": "stream",
     "text": [
      "Results saved to: /home/ubuntu/landscape-aesthetics/data/processed/landscape_or_not/ns6_clean_60.csv\n"
     ]
    },
    {
     "name": "stderr",
     "output_type": "stream",
     "text": [
      "\r",
      "Processing files:  57%|███████▍     | 58/101 [153:31:19<221:11:19, 18518.14s/it]"
     ]
    },
    {
     "name": "stdout",
     "output_type": "stream",
     "text": [
      "Results saved to: /home/ubuntu/landscape-aesthetics/data/processed/landscape_or_not/ns6_clean_84.csv\n"
     ]
    },
    {
     "name": "stderr",
     "output_type": "stream",
     "text": [
      "\r",
      "Processing files:  58%|███████▌     | 59/101 [156:52:37<193:30:20, 16586.19s/it]"
     ]
    },
    {
     "name": "stdout",
     "output_type": "stream",
     "text": [
      "Results saved to: /home/ubuntu/landscape-aesthetics/data/processed/landscape_or_not/ns6_clean_53.csv\n"
     ]
    },
    {
     "name": "stderr",
     "output_type": "stream",
     "text": [
      "\r",
      "Processing files:  59%|███████▋     | 60/101 [158:27:39<151:42:34, 13320.85s/it]"
     ]
    },
    {
     "name": "stdout",
     "output_type": "stream",
     "text": [
      "Results saved to: /home/ubuntu/landscape-aesthetics/data/processed/landscape_or_not/ns6_clean_39.csv\n"
     ]
    },
    {
     "name": "stderr",
     "output_type": "stream",
     "text": [
      "\r",
      "Processing files:  60%|███████▊     | 61/101 [160:01:52<122:27:00, 11020.52s/it]"
     ]
    },
    {
     "name": "stdout",
     "output_type": "stream",
     "text": [
      "Results saved to: /home/ubuntu/landscape-aesthetics/data/processed/landscape_or_not/ns6_clean_70.csv\n"
     ]
    },
    {
     "name": "stderr",
     "output_type": "stream",
     "text": [
      "\r",
      "Processing files:  61%|████████▌     | 62/101 [161:35:58<101:55:12, 9408.02s/it]"
     ]
    },
    {
     "name": "stdout",
     "output_type": "stream",
     "text": [
      "Results saved to: /home/ubuntu/landscape-aesthetics/data/processed/landscape_or_not/ns6_clean_98.csv\n"
     ]
    },
    {
     "name": "stderr",
     "output_type": "stream",
     "text": [
      "\r",
      "Processing files:  62%|█████████▎     | 63/101 [163:09:33<87:17:53, 8270.36s/it]"
     ]
    },
    {
     "name": "stdout",
     "output_type": "stream",
     "text": [
      "Results saved to: /home/ubuntu/landscape-aesthetics/data/processed/landscape_or_not/ns6_clean_94.csv\n"
     ]
    },
    {
     "name": "stderr",
     "output_type": "stream",
     "text": [
      "\r",
      "Processing files:  63%|█████████▌     | 64/101 [164:42:17<76:39:15, 7458.27s/it]"
     ]
    },
    {
     "name": "stdout",
     "output_type": "stream",
     "text": [
      "Results saved to: /home/ubuntu/landscape-aesthetics/data/processed/landscape_or_not/ns6_clean_83.csv\n"
     ]
    },
    {
     "name": "stderr",
     "output_type": "stream",
     "text": [
      "\r",
      "Processing files:  64%|█████████▋     | 65/101 [166:14:18<68:46:19, 6877.20s/it]"
     ]
    },
    {
     "name": "stdout",
     "output_type": "stream",
     "text": [
      "Results saved to: /home/ubuntu/landscape-aesthetics/data/processed/landscape_or_not/ns6_clean_28.csv\n"
     ]
    },
    {
     "name": "stderr",
     "output_type": "stream",
     "text": [
      "\r",
      "Processing files:  65%|█████████▊     | 66/101 [167:45:00<62:40:32, 6446.64s/it]"
     ]
    },
    {
     "name": "stdout",
     "output_type": "stream",
     "text": [
      "Results saved to: /home/ubuntu/landscape-aesthetics/data/processed/landscape_or_not/ns6_clean_58.csv\n"
     ]
    },
    {
     "name": "stderr",
     "output_type": "stream",
     "text": [
      "\r",
      "Processing files:  66%|█████████▉     | 67/101 [169:15:34<58:00:55, 6142.81s/it]"
     ]
    },
    {
     "name": "stdout",
     "output_type": "stream",
     "text": [
      "Results saved to: /home/ubuntu/landscape-aesthetics/data/processed/landscape_or_not/ns6_clean_85.csv\n"
     ]
    },
    {
     "name": "stderr",
     "output_type": "stream",
     "text": [
      "\r",
      "Processing files:  67%|██████████     | 68/101 [170:50:04<55:00:36, 6001.10s/it]"
     ]
    },
    {
     "name": "stdout",
     "output_type": "stream",
     "text": [
      "Results saved to: /home/ubuntu/landscape-aesthetics/data/processed/landscape_or_not/ns6_clean_15.csv\n"
     ]
    },
    {
     "name": "stderr",
     "output_type": "stream",
     "text": [
      "\r",
      "Processing files:  68%|██████████▏    | 69/101 [172:33:50<53:56:29, 6068.43s/it]"
     ]
    },
    {
     "name": "stdout",
     "output_type": "stream",
     "text": [
      "Results saved to: /home/ubuntu/landscape-aesthetics/data/processed/landscape_or_not/ns6_clean_12.csv\n"
     ]
    },
    {
     "name": "stderr",
     "output_type": "stream",
     "text": [
      "\r",
      "Processing files:  69%|██████████▍    | 70/101 [174:08:56<51:19:11, 5959.72s/it]"
     ]
    },
    {
     "name": "stdout",
     "output_type": "stream",
     "text": [
      "Results saved to: /home/ubuntu/landscape-aesthetics/data/processed/landscape_or_not/ns6_clean_29.csv\n"
     ]
    },
    {
     "name": "stderr",
     "output_type": "stream",
     "text": [
      "\r",
      "Processing files:  70%|██████████▌    | 71/101 [175:40:12<48:27:15, 5814.50s/it]"
     ]
    },
    {
     "name": "stdout",
     "output_type": "stream",
     "text": [
      "Results saved to: /home/ubuntu/landscape-aesthetics/data/processed/landscape_or_not/ns6_clean_66.csv\n"
     ]
    },
    {
     "name": "stderr",
     "output_type": "stream",
     "text": [
      "\r",
      "Processing files:  71%|██████████▋    | 72/101 [177:10:02<45:48:51, 5687.29s/it]"
     ]
    },
    {
     "name": "stdout",
     "output_type": "stream",
     "text": [
      "Results saved to: /home/ubuntu/landscape-aesthetics/data/processed/landscape_or_not/ns6_clean_95.csv\n"
     ]
    },
    {
     "name": "stderr",
     "output_type": "stream",
     "text": [
      "\r",
      "Processing files:  72%|██████████▊    | 73/101 [178:39:56<43:32:58, 5599.25s/it]"
     ]
    },
    {
     "name": "stdout",
     "output_type": "stream",
     "text": [
      "Results saved to: /home/ubuntu/landscape-aesthetics/data/processed/landscape_or_not/ns6_clean_96.csv\n"
     ]
    },
    {
     "name": "stderr",
     "output_type": "stream",
     "text": [
      "\r",
      "Processing files:  73%|██████████▉    | 74/101 [180:09:37<41:30:11, 5533.77s/it]"
     ]
    },
    {
     "name": "stdout",
     "output_type": "stream",
     "text": [
      "Results saved to: /home/ubuntu/landscape-aesthetics/data/processed/landscape_or_not/ns6_clean_67.csv\n"
     ]
    },
    {
     "name": "stderr",
     "output_type": "stream",
     "text": [
      "\r",
      "Processing files:  74%|███████████▏   | 75/101 [181:39:53<39:42:42, 5498.57s/it]"
     ]
    },
    {
     "name": "stdout",
     "output_type": "stream",
     "text": [
      "Results saved to: /home/ubuntu/landscape-aesthetics/data/processed/landscape_or_not/ns6_clean_62.csv\n"
     ]
    },
    {
     "name": "stderr",
     "output_type": "stream",
     "text": [
      "\r",
      "Processing files:  75%|███████████▎   | 76/101 [183:10:30<38:03:19, 5479.97s/it]"
     ]
    },
    {
     "name": "stdout",
     "output_type": "stream",
     "text": [
      "Results saved to: /home/ubuntu/landscape-aesthetics/data/processed/landscape_or_not/ns6_clean_01.csv\n"
     ]
    },
    {
     "name": "stderr",
     "output_type": "stream",
     "text": [
      "\r",
      "Processing files:  76%|███████████▍   | 77/101 [184:41:19<36:28:16, 5470.68s/it]"
     ]
    },
    {
     "name": "stdout",
     "output_type": "stream",
     "text": [
      "Results saved to: /home/ubuntu/landscape-aesthetics/data/processed/landscape_or_not/ns6_clean_89.csv\n"
     ]
    },
    {
     "name": "stderr",
     "output_type": "stream",
     "text": [
      "\r",
      "Processing files:  77%|███████████▌   | 78/101 [186:15:47<35:19:48, 5529.94s/it]"
     ]
    },
    {
     "name": "stdout",
     "output_type": "stream",
     "text": [
      "Results saved to: /home/ubuntu/landscape-aesthetics/data/processed/landscape_or_not/ns6_clean_34.csv\n"
     ]
    },
    {
     "name": "stderr",
     "output_type": "stream",
     "text": [
      "\r",
      "Processing files:  78%|███████████▋   | 79/101 [187:47:54<33:47:16, 5528.94s/it]"
     ]
    },
    {
     "name": "stdout",
     "output_type": "stream",
     "text": [
      "Results saved to: /home/ubuntu/landscape-aesthetics/data/processed/landscape_or_not/ns6_clean_92.csv\n"
     ]
    },
    {
     "name": "stderr",
     "output_type": "stream",
     "text": [
      "\r",
      "Processing files:  79%|███████████▉   | 80/101 [189:25:00<32:46:19, 5618.05s/it]"
     ]
    },
    {
     "name": "stdout",
     "output_type": "stream",
     "text": [
      "Results saved to: /home/ubuntu/landscape-aesthetics/data/processed/landscape_or_not/ns6_clean_82.csv\n"
     ]
    },
    {
     "name": "stderr",
     "output_type": "stream",
     "text": [
      "\r",
      "Processing files:  80%|████████████   | 81/101 [191:40:41<35:24:58, 6374.94s/it]"
     ]
    },
    {
     "name": "stdout",
     "output_type": "stream",
     "text": [
      "Results saved to: /home/ubuntu/landscape-aesthetics/data/processed/landscape_or_not/ns6_clean_86.csv\n"
     ]
    },
    {
     "name": "stderr",
     "output_type": "stream",
     "text": [
      "\r",
      "Processing files:  81%|████████████▏  | 82/101 [195:55:59<47:48:22, 9058.01s/it]"
     ]
    },
    {
     "name": "stdout",
     "output_type": "stream",
     "text": [
      "Results saved to: /home/ubuntu/landscape-aesthetics/data/processed/landscape_or_not/ns6_clean_24.csv\n"
     ]
    },
    {
     "name": "stderr",
     "output_type": "stream",
     "text": [
      "\r",
      "Processing files:  82%|███████████▌  | 83/101 [200:08:13<54:24:14, 10880.80s/it]"
     ]
    },
    {
     "name": "stdout",
     "output_type": "stream",
     "text": [
      "Results saved to: /home/ubuntu/landscape-aesthetics/data/processed/landscape_or_not/ns6_clean_64.csv\n"
     ]
    },
    {
     "name": "stderr",
     "output_type": "stream",
     "text": [
      "\r",
      "Processing files:  83%|███████████▋  | 84/101 [204:24:51<57:46:51, 12235.96s/it]"
     ]
    },
    {
     "name": "stdout",
     "output_type": "stream",
     "text": [
      "Results saved to: /home/ubuntu/landscape-aesthetics/data/processed/landscape_or_not/ns6_clean_78.csv\n"
     ]
    },
    {
     "name": "stderr",
     "output_type": "stream",
     "text": [
      "\r",
      "Processing files:  84%|███████████▊  | 85/101 [208:33:43<57:58:33, 13044.58s/it]"
     ]
    },
    {
     "name": "stdout",
     "output_type": "stream",
     "text": [
      "Results saved to: /home/ubuntu/landscape-aesthetics/data/processed/landscape_or_not/ns6_clean_59.csv\n"
     ]
    },
    {
     "name": "stderr",
     "output_type": "stream",
     "text": [
      "\r",
      "Processing files:  85%|███████████▉  | 86/101 [213:38:15<60:53:12, 14612.83s/it]"
     ]
    },
    {
     "name": "stdout",
     "output_type": "stream",
     "text": [
      "Results saved to: /home/ubuntu/landscape-aesthetics/data/processed/landscape_or_not/ns6_clean_40.csv\n"
     ]
    },
    {
     "name": "stderr",
     "output_type": "stream",
     "text": [
      "\r",
      "Processing files:  86%|████████████  | 87/101 [222:29:06<76:56:20, 19784.30s/it]"
     ]
    },
    {
     "name": "stdout",
     "output_type": "stream",
     "text": [
      "Results saved to: /home/ubuntu/landscape-aesthetics/data/processed/landscape_or_not/ns6_clean_69.csv\n"
     ]
    },
    {
     "name": "stderr",
     "output_type": "stream",
     "text": [
      "\r",
      "Processing files:  87%|████████████▏ | 88/101 [228:41:54<74:14:32, 20559.42s/it]"
     ]
    },
    {
     "name": "stdout",
     "output_type": "stream",
     "text": [
      "Results saved to: /home/ubuntu/landscape-aesthetics/data/processed/landscape_or_not/ns6_clean_33.csv\n"
     ]
    },
    {
     "name": "stderr",
     "output_type": "stream",
     "text": [
      "\r",
      "Processing files:  88%|████████████▎ | 89/101 [233:20:54<64:42:43, 19413.60s/it]"
     ]
    },
    {
     "name": "stdout",
     "output_type": "stream",
     "text": [
      "Results saved to: /home/ubuntu/landscape-aesthetics/data/processed/landscape_or_not/ns6_clean_19.csv\n"
     ]
    },
    {
     "name": "stderr",
     "output_type": "stream",
     "text": [
      "\r",
      "Processing files:  89%|████████████▍ | 90/101 [236:44:24<52:42:56, 17252.45s/it]"
     ]
    },
    {
     "name": "stdout",
     "output_type": "stream",
     "text": [
      "Results saved to: /home/ubuntu/landscape-aesthetics/data/processed/landscape_or_not/ns6_clean_02.csv\n"
     ]
    },
    {
     "name": "stderr",
     "output_type": "stream",
     "text": [
      "\r",
      "Processing files:  90%|████████████▌ | 91/101 [238:31:00<38:52:37, 13995.80s/it]"
     ]
    },
    {
     "name": "stdout",
     "output_type": "stream",
     "text": [
      "Results saved to: /home/ubuntu/landscape-aesthetics/data/processed/landscape_or_not/ns6_clean_03.csv\n"
     ]
    },
    {
     "name": "stderr",
     "output_type": "stream",
     "text": [
      "\r",
      "Processing files:  91%|████████████▊ | 92/101 [240:18:27<29:19:37, 11730.87s/it]"
     ]
    },
    {
     "name": "stdout",
     "output_type": "stream",
     "text": [
      "Results saved to: /home/ubuntu/landscape-aesthetics/data/processed/landscape_or_not/ns6_clean_77.csv\n"
     ]
    },
    {
     "name": "stderr",
     "output_type": "stream",
     "text": [
      "\r",
      "Processing files:  92%|████████████▉ | 93/101 [242:04:56<22:30:26, 10128.33s/it]"
     ]
    },
    {
     "name": "stdout",
     "output_type": "stream",
     "text": [
      "Results saved to: /home/ubuntu/landscape-aesthetics/data/processed/landscape_or_not/ns6_clean_93.csv\n"
     ]
    },
    {
     "name": "stderr",
     "output_type": "stream",
     "text": [
      "\r",
      "Processing files:  93%|█████████████▉ | 94/101 [244:24:59<18:41:16, 9610.88s/it]"
     ]
    },
    {
     "name": "stdout",
     "output_type": "stream",
     "text": [
      "Results saved to: /home/ubuntu/landscape-aesthetics/data/processed/landscape_or_not/ns6_clean_27.csv\n"
     ]
    },
    {
     "name": "stderr",
     "output_type": "stream",
     "text": [
      "\r",
      "Processing files:  94%|█████████████▏| 95/101 [253:05:06<26:48:58, 16089.74s/it]"
     ]
    },
    {
     "name": "stdout",
     "output_type": "stream",
     "text": [
      "Results saved to: /home/ubuntu/landscape-aesthetics/data/processed/landscape_or_not/ns6_clean_63.csv\n"
     ]
    },
    {
     "name": "stderr",
     "output_type": "stream",
     "text": [
      "\r",
      "Processing files:  95%|█████████████▎| 96/101 [262:27:29<29:42:07, 21385.54s/it]"
     ]
    },
    {
     "name": "stdout",
     "output_type": "stream",
     "text": [
      "Results saved to: /home/ubuntu/landscape-aesthetics/data/processed/landscape_or_not/ns6_clean_55.csv\n"
     ]
    },
    {
     "name": "stderr",
     "output_type": "stream",
     "text": [
      "\r",
      "Processing files:  96%|█████████████▍| 97/101 [267:07:20<22:13:48, 20007.20s/it]"
     ]
    },
    {
     "name": "stdout",
     "output_type": "stream",
     "text": [
      "Results saved to: /home/ubuntu/landscape-aesthetics/data/processed/landscape_or_not/ns6_clean_09.csv\n"
     ]
    },
    {
     "name": "stderr",
     "output_type": "stream",
     "text": [
      "\r",
      "Processing files:  97%|█████████████▌| 98/101 [271:07:47<15:16:39, 18333.18s/it]"
     ]
    },
    {
     "name": "stdout",
     "output_type": "stream",
     "text": [
      "Results saved to: /home/ubuntu/landscape-aesthetics/data/processed/landscape_or_not/ns6_clean_51.csv\n"
     ]
    },
    {
     "name": "stderr",
     "output_type": "stream",
     "text": [
      "\r",
      "Processing files:  98%|█████████████▋| 99/101 [277:13:36<10:47:16, 19418.10s/it]"
     ]
    },
    {
     "name": "stdout",
     "output_type": "stream",
     "text": [
      "Results saved to: /home/ubuntu/landscape-aesthetics/data/processed/landscape_or_not/ns6_clean_21.csv\n"
     ]
    },
    {
     "name": "stderr",
     "output_type": "stream",
     "text": [
      "\r",
      "Processing files:  99%|█████████████▊| 100/101 [283:12:05<5:34:05, 20045.30s/it]"
     ]
    },
    {
     "name": "stdout",
     "output_type": "stream",
     "text": [
      "Results saved to: /home/ubuntu/landscape-aesthetics/data/processed/landscape_or_not/ns6_clean_80.csv\n"
     ]
    },
    {
     "name": "stderr",
     "output_type": "stream",
     "text": [
      "\r",
      "Processing files: 100%|████████████████| 101/101 [289:12:51<00:00, 20525.57s/it]"
     ]
    },
    {
     "name": "stderr",
     "output_type": "stream",
     "text": [
      "\r",
      "Processing files: 100%|████████████████| 101/101 [289:12:51<00:00, 10308.63s/it]"
     ]
    },
    {
     "name": "stdout",
     "output_type": "stream",
     "text": [
      "Results saved to: /home/ubuntu/landscape-aesthetics/data/processed/landscape_or_not/ns6_clean_87.csv\n"
     ]
    },
    {
     "name": "stderr",
     "output_type": "stream",
     "text": [
      "\n"
     ]
    }
   ],
   "source": [
    "file_location_path = Path.cwd()\n",
    "project_base_path = file_location_path.parent.parent\n",
    "ns6_wiki_paths = project_base_path / 'data' / 'processed' / 'wikimedia_commons' / 'clean'\n",
    "image_folder = Path('/home/ubuntu/landscape-aesthetics')\n",
    "\n",
    "model = models.resnet18(weights=None)\n",
    "num_ftrs = model.fc.in_features\n",
    "model.fc = nn.Linear(num_ftrs, 2)\n",
    "model.load_state_dict(torch.load('../../models/places365_binary_model_resnet18.pth', map_location='cpu', weights_only=True))\n",
    "model.eval()\n",
    "\n",
    "data_transforms = transforms.Compose([\n",
    "        # transforms.Resize((256, 256)),\n",
    "        transforms.CenterCrop(256),\n",
    "        transforms.ToTensor(),\n",
    "        transforms.Normalize([0.485, 0.456, 0.406], [0.229, 0.224, 0.225]),\n",
    "        transforms.RandomHorizontalFlip(),\n",
    "        transforms.ColorJitter(brightness=0.2, contrast=0.2, saturation=0.2, hue=0.2)\n",
    "    ])\n",
    "\n",
    "pattern = re.compile(r\"^ns6_clean_(\\d+)\\.parquet$\")\n",
    "\n",
    "for file_name in tqdm(os.listdir(ns6_wiki_paths), desc=\"Processing files\"):\n",
    "    file_path = os.path.join(ns6_wiki_paths, file_name)\n",
    "    if os.path.isfile(file_path) and pattern.match(file_name):\n",
    "        if os.path.isfile(file_path):\n",
    "            labefile_path = Path(file_name)\n",
    "            labelled_csv_name = labefile_path.with_suffix('.csv')\n",
    "            result = project_base_path / 'data' / 'processed' / 'landscape_or_not' / labelled_csv_name\n",
    "    \n",
    "        result.parent.mkdir(parents = True, exist_ok = True) # create directory for output\n",
    "        \n",
    "        data = pd.read_parquet(file_path, columns = ['image_path']) # only path needed\n",
    "\n",
    "        image_paths = data.iloc[:, 0].tolist()\n",
    "    \n",
    "        predictions = []\n",
    "        image_results = []\n",
    "        \n",
    "        for img_path in image_paths:\n",
    "            image_path = os.path.join(image_folder, img_path) \n",
    "        \n",
    "            img = data_transforms(Image.open(image_path).convert('RGB')) .unsqueeze(0)\n",
    "            \n",
    "            with torch.no_grad():\n",
    "                output = model(img)\n",
    "            \n",
    "            _, predicted = torch.max(output, 1)\n",
    "            predictions.append(predicted.item())\n",
    "            image_results.append((img_path, predicted.item()))\n",
    "        results_df = pd.DataFrame(image_results, columns=['image_path', 'prediction'])\n",
    "        results_df.to_csv(result, index=False)\n",
    "        print(f\"Results saved to: {result}\")"
   ]
  },
  {
   "cell_type": "code",
   "execution_count": null,
   "id": "baacf8db-61d3-4412-a923-7d5827e23b64",
   "metadata": {},
   "outputs": [],
   "source": []
  }
 ],
 "metadata": {
  "kernelspec": {
   "display_name": "Python 3 (ipykernel)",
   "language": "python",
   "name": "python3"
  },
  "language_info": {
   "codemirror_mode": {
    "name": "ipython",
    "version": 3
   },
   "file_extension": ".py",
   "mimetype": "text/x-python",
   "name": "python",
   "nbconvert_exporter": "python",
   "pygments_lexer": "ipython3",
   "version": "3.12.2"
  }
 },
 "nbformat": 4,
 "nbformat_minor": 5
}
