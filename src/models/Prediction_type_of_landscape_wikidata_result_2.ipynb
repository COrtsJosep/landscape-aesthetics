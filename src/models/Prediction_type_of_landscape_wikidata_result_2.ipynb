{
 "cells": [
  {
   "cell_type": "code",
   "execution_count": 1,
   "id": "5fbf7557-5258-4c8e-a224-96dc66f601a1",
   "metadata": {
    "execution": {
     "iopub.execute_input": "2024-10-18T22:14:19.827035Z",
     "iopub.status.busy": "2024-10-18T22:14:19.826868Z",
     "iopub.status.idle": "2024-10-18T22:14:23.515015Z",
     "shell.execute_reply": "2024-10-18T22:14:23.514393Z"
    }
   },
   "outputs": [],
   "source": [
    "import pandas as pd\n",
    "import os\n",
    "from PIL import Image\n",
    "import torch\n",
    "import torch.nn as nn\n",
    "import torchvision.models as models\n",
    "from torchvision import transforms\n",
    "from torch.utils.data import Dataset, DataLoader\n",
    "import torch.optim as optim\n",
    "from sklearn.metrics import mean_absolute_error, r2_score\n",
    "import matplotlib.pyplot as plt\n",
    "from pathlib import Path\n",
    "import torch.nn.functional as F\n",
    "import sys\n",
    "from sklearn.metrics import accuracy_score, recall_score\n",
    "import random\n",
    "from tqdm import tqdm\n",
    "from sklearn.metrics import confusion_matrix\n",
    "from collections import Counter\n",
    "import re\n",
    "import requests"
   ]
  },
  {
   "cell_type": "code",
   "execution_count": 2,
   "id": "27470bd8-bbf0-45eb-a20a-36a076d72f56",
   "metadata": {
    "execution": {
     "iopub.execute_input": "2024-10-18T22:14:23.519153Z",
     "iopub.status.busy": "2024-10-18T22:14:23.518022Z",
     "iopub.status.idle": "2024-10-18T22:14:23.638969Z",
     "shell.execute_reply": "2024-10-18T22:14:23.637606Z"
    }
   },
   "outputs": [],
   "source": [
    "import cv2"
   ]
  },
  {
   "cell_type": "code",
   "execution_count": 3,
   "id": "30ee0ad3-af26-4423-8e08-a6faa2289f62",
   "metadata": {
    "execution": {
     "iopub.execute_input": "2024-10-18T22:14:23.642470Z",
     "iopub.status.busy": "2024-10-18T22:14:23.641468Z",
     "iopub.status.idle": "2024-10-18T22:14:23.648001Z",
     "shell.execute_reply": "2024-10-18T22:14:23.647489Z"
    }
   },
   "outputs": [
    {
     "name": "stdout",
     "output_type": "stream",
     "text": [
      "The file already exists, no need to download.\n",
      "The file already exists, no need to download.\n"
     ]
    }
   ],
   "source": [
    "url = \"http://netdissect.csail.mit.edu/dissect/zoo/resnet-152-torch-places365.caffemodel\"\n",
    "save_path = \"/path/to/your/directory/resnet-152-torch-places365.caffemodel\"\n",
    "\n",
    "def download_file(url, save_path):\n",
    "    if os.path.exists(save_path):\n",
    "        print(\"The file already exists, no need to download.\")\n",
    "    else:\n",
    "        response = requests.get(url, stream=True)\n",
    "        if response.status_code == 200:\n",
    "            with open(save_path, \"wb\") as file:\n",
    "                for chunk in response.iter_content(1024):\n",
    "                    file.write(chunk)\n",
    "            print(\"File download successful, save path is:\", save_path)\n",
    "        else:\n",
    "            print(\"File download failed, status code:\", response.status_code)\n",
    "\n",
    "files_to_download = [\n",
    "    {\n",
    "        \"url\": \"http://netdissect.csail.mit.edu/dissect/zoo/resnet-152-torch-places365.caffemodel\",\n",
    "        \"save_path\": \"../../models/resnet-152-torch-places365.caffemodel\"\n",
    "    },\n",
    "    {\n",
    "        \"url\": \"http://netdissect.csail.mit.edu/dissect/zoo/resnet-152-torch-places365.prototxt\",\n",
    "        \"save_path\": \"../../models/resnet-152-torch-places365.prototxt\"\n",
    "    }\n",
    "]\n",
    "\n",
    "for file in files_to_download:\n",
    "    download_file(file[\"url\"], file[\"save_path\"])"
   ]
  },
  {
   "cell_type": "code",
   "execution_count": 4,
   "id": "621c96cc-355b-4140-8e1d-32b4815a7bb0",
   "metadata": {
    "execution": {
     "iopub.execute_input": "2024-10-18T22:14:23.650707Z",
     "iopub.status.busy": "2024-10-18T22:14:23.650532Z",
     "iopub.status.idle": "2024-11-04T06:20:36.937038Z",
     "shell.execute_reply": "2024-11-04T06:20:36.935997Z"
    }
   },
   "outputs": [
    {
     "name": "stderr",
     "output_type": "stream",
     "text": [
      "\r",
      "Processing files:   0%|                                 | 0/101 [00:00<?, ?it/s]"
     ]
    },
    {
     "name": "stderr",
     "output_type": "stream",
     "text": [
      "\r",
      "Processing files:   1%|▏               | 1/101 [4:46:04<476:47:26, 17164.46s/it]"
     ]
    },
    {
     "name": "stderr",
     "output_type": "stream",
     "text": [
      "\r",
      "Processing files:   2%|▎               | 2/101 [9:49:11<488:33:58, 17766.05s/it]"
     ]
    },
    {
     "name": "stderr",
     "output_type": "stream",
     "text": [
      "\r",
      "Processing files:   3%|▍              | 3/101 [15:00:59<495:19:56, 18195.88s/it]"
     ]
    },
    {
     "name": "stderr",
     "output_type": "stream",
     "text": [
      "\r",
      "Processing files:   4%|▌              | 4/101 [20:10:41<494:23:41, 18348.68s/it]"
     ]
    },
    {
     "name": "stderr",
     "output_type": "stream",
     "text": [
      "\r",
      "Processing files:   5%|▋              | 5/101 [25:04:31<482:23:02, 18089.40s/it]"
     ]
    },
    {
     "name": "stderr",
     "output_type": "stream",
     "text": [
      "\r",
      "Processing files:   6%|▉              | 6/101 [29:34:24<460:20:29, 17444.52s/it]"
     ]
    },
    {
     "name": "stderr",
     "output_type": "stream",
     "text": [
      "\r",
      "Processing files:   7%|█              | 7/101 [34:13:00<449:16:29, 17206.27s/it]"
     ]
    },
    {
     "name": "stderr",
     "output_type": "stream",
     "text": [
      "\r",
      "Processing files:   8%|█▏             | 8/101 [39:12:53<450:58:17, 17456.97s/it]"
     ]
    },
    {
     "name": "stderr",
     "output_type": "stream",
     "text": [
      "\r",
      "Processing files:   9%|█▎             | 9/101 [44:10:39<449:23:23, 17584.82s/it]"
     ]
    },
    {
     "name": "stderr",
     "output_type": "stream",
     "text": [
      "\r",
      "Processing files:  10%|█▍            | 10/101 [48:56:51<441:16:53, 17457.29s/it]"
     ]
    },
    {
     "name": "stderr",
     "output_type": "stream",
     "text": [
      "\r",
      "Processing files:  11%|█▌            | 11/101 [53:09:09<418:41:24, 16747.60s/it]"
     ]
    },
    {
     "name": "stderr",
     "output_type": "stream",
     "text": [
      "\r",
      "Processing files:  12%|█▋            | 12/101 [57:28:04<404:54:46, 16378.50s/it]"
     ]
    },
    {
     "name": "stderr",
     "output_type": "stream",
     "text": [
      "\r",
      "Processing files:  13%|█▊            | 13/101 [61:41:04<391:29:28, 16015.55s/it]"
     ]
    },
    {
     "name": "stderr",
     "output_type": "stream",
     "text": [
      "\r",
      "Processing files:  14%|█▉            | 14/101 [66:06:39<386:27:18, 15991.25s/it]"
     ]
    },
    {
     "name": "stderr",
     "output_type": "stream",
     "text": [
      "\r",
      "Processing files:  15%|██            | 15/101 [70:14:56<374:07:55, 15661.34s/it]"
     ]
    },
    {
     "name": "stderr",
     "output_type": "stream",
     "text": [
      "\r",
      "Processing files:  16%|██▏           | 16/101 [74:06:30<357:13:20, 15129.42s/it]"
     ]
    },
    {
     "name": "stderr",
     "output_type": "stream",
     "text": [
      "\r",
      "Processing files:  17%|██▎           | 17/101 [78:15:16<351:35:26, 15068.18s/it]"
     ]
    },
    {
     "name": "stderr",
     "output_type": "stream",
     "text": [
      "\r",
      "Processing files:  18%|██▍           | 18/101 [83:25:04<371:47:20, 16125.79s/it]"
     ]
    },
    {
     "name": "stderr",
     "output_type": "stream",
     "text": [
      "\r",
      "Processing files:  19%|██▋           | 19/101 [87:51:16<366:15:27, 16079.60s/it]"
     ]
    },
    {
     "name": "stderr",
     "output_type": "stream",
     "text": [
      "\r",
      "Processing files:  20%|██▊           | 20/101 [91:58:29<353:22:21, 15705.45s/it]"
     ]
    },
    {
     "name": "stderr",
     "output_type": "stream",
     "text": [
      "\r",
      "Processing files:  21%|██▉           | 21/101 [96:11:30<345:30:30, 15547.88s/it]"
     ]
    },
    {
     "name": "stderr",
     "output_type": "stream",
     "text": [
      "\r",
      "Processing files:  22%|██▊          | 22/101 [100:09:41<332:54:47, 15170.73s/it]"
     ]
    },
    {
     "name": "stderr",
     "output_type": "stream",
     "text": [
      "\r",
      "Processing files:  23%|██▉          | 23/101 [104:10:35<324:02:25, 14955.71s/it]"
     ]
    },
    {
     "name": "stderr",
     "output_type": "stream",
     "text": [
      "\r",
      "Processing files:  24%|███          | 24/101 [107:54:21<310:04:02, 14496.66s/it]"
     ]
    },
    {
     "name": "stderr",
     "output_type": "stream",
     "text": [
      "\r",
      "Processing files:  25%|███▏         | 25/101 [111:12:17<289:26:24, 13710.33s/it]"
     ]
    },
    {
     "name": "stderr",
     "output_type": "stream",
     "text": [
      "\r",
      "Processing files:  26%|███▎         | 26/101 [114:33:55<275:33:14, 13226.59s/it]"
     ]
    },
    {
     "name": "stderr",
     "output_type": "stream",
     "text": [
      "\r",
      "Processing files:  27%|███▍         | 27/101 [118:49:39<284:56:32, 13862.06s/it]"
     ]
    },
    {
     "name": "stderr",
     "output_type": "stream",
     "text": [
      "\r",
      "Processing files:  29%|███▋         | 29/101 [123:02:15<219:13:46, 10961.48s/it]"
     ]
    },
    {
     "name": "stderr",
     "output_type": "stream",
     "text": [
      "\r",
      "Processing files:  30%|███▊         | 30/101 [127:08:02<234:41:53, 11900.19s/it]"
     ]
    },
    {
     "name": "stderr",
     "output_type": "stream",
     "text": [
      "\r",
      "Processing files:  31%|███▉         | 31/101 [131:07:22<243:54:02, 12543.46s/it]"
     ]
    },
    {
     "name": "stderr",
     "output_type": "stream",
     "text": [
      "\r",
      "Processing files:  32%|████         | 32/101 [134:59:06<247:30:38, 12913.60s/it]"
     ]
    },
    {
     "name": "stderr",
     "output_type": "stream",
     "text": [
      "\r",
      "Processing files:  33%|████▏        | 33/101 [138:26:49<241:32:23, 12787.40s/it]"
     ]
    },
    {
     "name": "stderr",
     "output_type": "stream",
     "text": [
      "\r",
      "Processing files:  34%|████▍        | 34/101 [141:48:23<234:18:04, 12589.32s/it]"
     ]
    },
    {
     "name": "stderr",
     "output_type": "stream",
     "text": [
      "\r",
      "Processing files:  35%|████▌        | 35/101 [145:55:29<242:41:12, 13237.46s/it]"
     ]
    },
    {
     "name": "stderr",
     "output_type": "stream",
     "text": [
      "\r",
      "Processing files:  36%|████▋        | 36/101 [149:58:52<246:13:53, 13637.44s/it]"
     ]
    },
    {
     "name": "stderr",
     "output_type": "stream",
     "text": [
      "\r",
      "Processing files:  37%|████▊        | 37/101 [154:02:51<247:41:28, 13932.63s/it]"
     ]
    },
    {
     "name": "stderr",
     "output_type": "stream",
     "text": [
      "\r",
      "Processing files:  38%|████▉        | 38/101 [157:39:29<238:58:22, 13655.60s/it]"
     ]
    },
    {
     "name": "stderr",
     "output_type": "stream",
     "text": [
      "\r",
      "Processing files:  39%|█████        | 39/101 [161:12:17<230:38:00, 13391.62s/it]"
     ]
    },
    {
     "name": "stderr",
     "output_type": "stream",
     "text": [
      "\r",
      "Processing files:  40%|█████▏       | 40/101 [164:36:43<221:13:27, 13055.86s/it]"
     ]
    },
    {
     "name": "stderr",
     "output_type": "stream",
     "text": [
      "\r",
      "Processing files:  41%|█████▎       | 41/101 [167:56:43<212:20:24, 12740.41s/it]"
     ]
    },
    {
     "name": "stderr",
     "output_type": "stream",
     "text": [
      "\r",
      "Processing files:  42%|█████▍       | 42/101 [169:07:13<167:04:59, 10194.90s/it]"
     ]
    },
    {
     "name": "stderr",
     "output_type": "stream",
     "text": [
      "\r",
      "Processing files:  43%|█████▌       | 43/101 [172:22:38<171:37:40, 10652.76s/it]"
     ]
    },
    {
     "name": "stderr",
     "output_type": "stream",
     "text": [
      "\r",
      "Processing files:  44%|█████▋       | 44/101 [175:42:30<175:01:24, 11054.11s/it]"
     ]
    },
    {
     "name": "stderr",
     "output_type": "stream",
     "text": [
      "\r",
      "Processing files:  45%|█████▊       | 45/101 [178:58:49<175:19:52, 11271.30s/it]"
     ]
    },
    {
     "name": "stderr",
     "output_type": "stream",
     "text": [
      "\r",
      "Processing files:  46%|█████▉       | 46/101 [182:35:41<180:10:29, 11793.27s/it]"
     ]
    },
    {
     "name": "stderr",
     "output_type": "stream",
     "text": [
      "\r",
      "Processing files:  47%|██████       | 47/101 [186:10:46<181:53:55, 12126.57s/it]"
     ]
    },
    {
     "name": "stderr",
     "output_type": "stream",
     "text": [
      "\r",
      "Processing files:  48%|██████▏      | 48/101 [189:55:17<184:27:59, 12529.80s/it]"
     ]
    },
    {
     "name": "stderr",
     "output_type": "stream",
     "text": [
      "\r",
      "Processing files:  49%|██████▎      | 49/101 [193:15:11<178:39:50, 12369.05s/it]"
     ]
    },
    {
     "name": "stderr",
     "output_type": "stream",
     "text": [
      "\r",
      "Processing files:  50%|██████▍      | 50/101 [196:27:04<171:35:17, 12112.12s/it]"
     ]
    },
    {
     "name": "stderr",
     "output_type": "stream",
     "text": [
      "\r",
      "Processing files:  50%|██████▌      | 51/101 [199:40:49<166:11:43, 11966.07s/it]"
     ]
    },
    {
     "name": "stderr",
     "output_type": "stream",
     "text": [
      "\r",
      "Processing files:  51%|██████▋      | 52/101 [202:55:34<161:43:25, 11881.75s/it]"
     ]
    },
    {
     "name": "stderr",
     "output_type": "stream",
     "text": [
      "\r",
      "Processing files:  52%|██████▊      | 53/101 [206:13:13<158:20:00, 11875.00s/it]"
     ]
    },
    {
     "name": "stderr",
     "output_type": "stream",
     "text": [
      "\r",
      "Processing files:  53%|██████▉      | 54/101 [209:28:33<154:25:35, 11828.41s/it]"
     ]
    },
    {
     "name": "stderr",
     "output_type": "stream",
     "text": [
      "\r",
      "Processing files:  54%|███████      | 55/101 [212:41:19<150:08:02, 11749.61s/it]"
     ]
    },
    {
     "name": "stderr",
     "output_type": "stream",
     "text": [
      "\r",
      "Processing files:  55%|███████▏     | 56/101 [216:18:41<151:43:09, 12137.55s/it]"
     ]
    },
    {
     "name": "stderr",
     "output_type": "stream",
     "text": [
      "\r",
      "Processing files:  56%|███████▎     | 57/101 [219:58:59<152:18:35, 12461.71s/it]"
     ]
    },
    {
     "name": "stderr",
     "output_type": "stream",
     "text": [
      "\r",
      "Processing files:  57%|███████▍     | 58/101 [223:15:25<146:25:28, 12258.80s/it]"
     ]
    },
    {
     "name": "stderr",
     "output_type": "stream",
     "text": [
      "\r",
      "Processing files:  58%|███████▌     | 59/101 [226:32:07<141:25:20, 12121.92s/it]"
     ]
    },
    {
     "name": "stderr",
     "output_type": "stream",
     "text": [
      "\r",
      "Processing files:  59%|███████▋     | 60/101 [229:54:06<138:02:35, 12120.86s/it]"
     ]
    },
    {
     "name": "stderr",
     "output_type": "stream",
     "text": [
      "\r",
      "Processing files:  60%|███████▊     | 61/101 [233:16:50<134:49:16, 12133.92s/it]"
     ]
    },
    {
     "name": "stderr",
     "output_type": "stream",
     "text": [
      "\r",
      "Processing files:  61%|███████▉     | 62/101 [236:39:01<131:26:25, 12132.95s/it]"
     ]
    },
    {
     "name": "stderr",
     "output_type": "stream",
     "text": [
      "\r",
      "Processing files:  62%|████████     | 63/101 [240:02:41<128:20:45, 12159.09s/it]"
     ]
    },
    {
     "name": "stderr",
     "output_type": "stream",
     "text": [
      "\r",
      "Processing files:  63%|████████▏    | 64/101 [244:04:19<132:10:52, 12860.88s/it]"
     ]
    },
    {
     "name": "stderr",
     "output_type": "stream",
     "text": [
      "\r",
      "Processing files:  64%|████████▎    | 65/101 [248:03:43<133:07:06, 13311.84s/it]"
     ]
    },
    {
     "name": "stderr",
     "output_type": "stream",
     "text": [
      "\r",
      "Processing files:  65%|████████▍    | 66/101 [252:35:17<138:07:06, 14206.48s/it]"
     ]
    },
    {
     "name": "stderr",
     "output_type": "stream",
     "text": [
      "\r",
      "Processing files:  66%|████████▌    | 67/101 [256:29:02<133:39:24, 14151.89s/it]"
     ]
    },
    {
     "name": "stderr",
     "output_type": "stream",
     "text": [
      "\r",
      "Processing files:  67%|████████▊    | 68/101 [260:19:47<128:52:57, 14059.93s/it]"
     ]
    },
    {
     "name": "stderr",
     "output_type": "stream",
     "text": [
      "\r",
      "Processing files:  68%|████████▉    | 69/101 [264:07:03<123:50:48, 13932.75s/it]"
     ]
    },
    {
     "name": "stderr",
     "output_type": "stream",
     "text": [
      "\r",
      "Processing files:  69%|█████████    | 70/101 [267:56:17<119:30:54, 13879.18s/it]"
     ]
    },
    {
     "name": "stderr",
     "output_type": "stream",
     "text": [
      "\r",
      "Processing files:  70%|█████████▏   | 71/101 [271:45:21<115:19:16, 13838.56s/it]"
     ]
    },
    {
     "name": "stderr",
     "output_type": "stream",
     "text": [
      "\r",
      "Processing files:  71%|█████████▎   | 72/101 [275:32:51<111:01:16, 13781.93s/it]"
     ]
    },
    {
     "name": "stderr",
     "output_type": "stream",
     "text": [
      "\r",
      "Processing files:  72%|█████████▍   | 73/101 [279:21:51<107:05:45, 13769.49s/it]"
     ]
    },
    {
     "name": "stderr",
     "output_type": "stream",
     "text": [
      "\r",
      "Processing files:  73%|█████████▌   | 74/101 [283:19:29<104:22:09, 13915.92s/it]"
     ]
    },
    {
     "name": "stderr",
     "output_type": "stream",
     "text": [
      "\r",
      "Processing files:  74%|█████████▋   | 75/101 [287:50:24<105:34:18, 14617.62s/it]"
     ]
    },
    {
     "name": "stderr",
     "output_type": "stream",
     "text": [
      "\r",
      "Processing files:  75%|█████████▊   | 76/101 [293:37:16<114:24:59, 16475.97s/it]"
     ]
    },
    {
     "name": "stderr",
     "output_type": "stream",
     "text": [
      "\r",
      "Processing files:  76%|█████████▉   | 77/101 [299:08:40<116:39:23, 17498.48s/it]"
     ]
    },
    {
     "name": "stderr",
     "output_type": "stream",
     "text": [
      "\r",
      "Processing files:  77%|██████████   | 78/101 [303:05:31<105:29:40, 16512.20s/it]"
     ]
    },
    {
     "name": "stderr",
     "output_type": "stream",
     "text": [
      "\r",
      "Processing files:  78%|██████████▉   | 79/101 [307:00:13<96:27:08, 15783.11s/it]"
     ]
    },
    {
     "name": "stderr",
     "output_type": "stream",
     "text": [
      "\r",
      "Processing files:  79%|███████████   | 80/101 [310:52:21<88:49:18, 15226.59s/it]"
     ]
    },
    {
     "name": "stderr",
     "output_type": "stream",
     "text": [
      "\r",
      "Processing files:  80%|███████████▏  | 81/101 [314:43:34<82:20:07, 14820.39s/it]"
     ]
    },
    {
     "name": "stderr",
     "output_type": "stream",
     "text": [
      "\r",
      "Processing files:  81%|███████████▎  | 82/101 [318:33:03<76:33:17, 14505.15s/it]"
     ]
    },
    {
     "name": "stderr",
     "output_type": "stream",
     "text": [
      "\r",
      "Processing files:  82%|███████████▌  | 83/101 [322:30:58<72:10:47, 14435.95s/it]"
     ]
    },
    {
     "name": "stderr",
     "output_type": "stream",
     "text": [
      "\r",
      "Processing files:  83%|███████████▋  | 84/101 [326:34:51<68:26:57, 14495.12s/it]"
     ]
    },
    {
     "name": "stderr",
     "output_type": "stream",
     "text": [
      "\r",
      "Processing files:  84%|███████████▊  | 85/101 [330:32:03<64:04:16, 14416.05s/it]"
     ]
    },
    {
     "name": "stderr",
     "output_type": "stream",
     "text": [
      "\r",
      "Processing files:  85%|███████████▉  | 86/101 [334:26:12<59:36:30, 14306.05s/it]"
     ]
    },
    {
     "name": "stderr",
     "output_type": "stream",
     "text": [
      "\r",
      "Processing files:  86%|████████████  | 87/101 [338:23:31<55:33:24, 14286.05s/it]"
     ]
    },
    {
     "name": "stderr",
     "output_type": "stream",
     "text": [
      "\r",
      "Processing files:  87%|████████████▏ | 88/101 [342:14:46<51:08:35, 14162.75s/it]"
     ]
    },
    {
     "name": "stderr",
     "output_type": "stream",
     "text": [
      "\r",
      "Processing files:  88%|████████████▎ | 89/101 [346:05:02<46:51:43, 14058.62s/it]"
     ]
    },
    {
     "name": "stderr",
     "output_type": "stream",
     "text": [
      "\r",
      "Processing files:  89%|████████████▍ | 90/101 [350:00:34<43:01:28, 14080.74s/it]"
     ]
    },
    {
     "name": "stderr",
     "output_type": "stream",
     "text": [
      "\r",
      "Processing files:  90%|████████████▌ | 91/101 [353:51:37<38:55:52, 14015.21s/it]"
     ]
    },
    {
     "name": "stderr",
     "output_type": "stream",
     "text": [
      "\r",
      "Processing files:  91%|████████████▊ | 92/101 [357:42:58<34:56:16, 13975.14s/it]"
     ]
    },
    {
     "name": "stderr",
     "output_type": "stream",
     "text": [
      "\r",
      "Processing files:  92%|████████████▉ | 93/101 [361:32:19<30:54:47, 13910.91s/it]"
     ]
    },
    {
     "name": "stderr",
     "output_type": "stream",
     "text": [
      "\r",
      "Processing files:  93%|█████████████ | 94/101 [365:21:28<26:57:14, 13862.11s/it]"
     ]
    },
    {
     "name": "stderr",
     "output_type": "stream",
     "text": [
      "\r",
      "Processing files:  94%|█████████████▏| 95/101 [369:07:52<22:57:51, 13778.67s/it]"
     ]
    },
    {
     "name": "stderr",
     "output_type": "stream",
     "text": [
      "\r",
      "Processing files:  95%|█████████████▎| 96/101 [372:57:06<19:07:36, 13771.29s/it]"
     ]
    },
    {
     "name": "stderr",
     "output_type": "stream",
     "text": [
      "\r",
      "Processing files:  96%|█████████████▍| 97/101 [376:47:16<15:18:52, 13783.12s/it]"
     ]
    },
    {
     "name": "stderr",
     "output_type": "stream",
     "text": [
      "\r",
      "Processing files:  97%|█████████████▌| 98/101 [380:37:49<11:29:54, 13798.00s/it]"
     ]
    },
    {
     "name": "stderr",
     "output_type": "stream",
     "text": [
      "\r",
      "Processing files:  98%|██████████████▋| 99/101 [384:27:45<7:39:55, 13797.50s/it]"
     ]
    },
    {
     "name": "stderr",
     "output_type": "stream",
     "text": [
      "\r",
      "Processing files:  99%|█████████████▊| 100/101 [388:16:35<3:49:37, 13777.22s/it]"
     ]
    },
    {
     "name": "stderr",
     "output_type": "stream",
     "text": [
      "\r",
      "Processing files: 100%|████████████████| 101/101 [392:06:12<00:00, 13777.19s/it]"
     ]
    },
    {
     "name": "stderr",
     "output_type": "stream",
     "text": [
      "\r",
      "Processing files: 100%|████████████████| 101/101 [392:06:12<00:00, 13975.97s/it]"
     ]
    },
    {
     "name": "stderr",
     "output_type": "stream",
     "text": [
      "\n"
     ]
    }
   ],
   "source": [
    "# Define the path for the model architecture and weight files.\n",
    "file_location_path = Path.cwd()\n",
    "prototxt_path = '../../models/resnet-152-torch-places365.prototxt'\n",
    "caffemodel_path = '../../models/resnet-152-torch-places365.caffemodel'\n",
    "project_base_path = file_location_path.parent.parent\n",
    "ns6_wiki_paths = project_base_path / 'data' / 'processed' / 'landscape_or_not'\n",
    "image_folder = Path('/home/ubuntu/landscape-aesthetics')\n",
    "\n",
    "results = []\n",
    "# Load Caffe model.\n",
    "net = cv2.dnn.readNetFromCaffe(prototxt_path, caffemodel_path)\n",
    "\n",
    "category_mapping = {}\n",
    "with open('../../data/external/Places365/categories_places365.txt', 'r') as file:\n",
    "    for line in file:\n",
    "        parts = line.strip().split()\n",
    "        category_name = parts[0][3:]\n",
    "        category_id = int(parts[1])\n",
    "        category_mapping[category_id] = category_name\n",
    "\n",
    "pattern = re.compile(r\"^ns6_clean_(\\d+)\\.csv$\") \n",
    "\n",
    "for file_name in tqdm(os.listdir(ns6_wiki_paths), desc=\"Processing files\"):\n",
    "    file_path = ns6_wiki_paths / file_name\n",
    "    if file_path.is_file() and pattern.match(file_name):\n",
    "        label_file_path = Path(file_name)\n",
    "        labeled_csv_name = label_file_path.with_suffix('.csv')\n",
    "        result = project_base_path / 'data' / 'processed' / 'landscape_type' / labeled_csv_name\n",
    "        result.parent.mkdir(parents=True, exist_ok=True)\n",
    "\n",
    "        results = []\n",
    "\n",
    "        data = pd.read_csv(file_path, usecols=['image_path', 'prediction'])\n",
    "        data = data[data['prediction'] == 1]\n",
    "        image_paths = data['image_path'].tolist()\n",
    "        \n",
    "        for img_path in image_paths:\n",
    "            image_path = image_folder / img_path\n",
    "            \n",
    "            try:\n",
    "                # Read and process the image\n",
    "                image = cv2.imread(str(image_path))\n",
    "                if image is None:\n",
    "                    print(f\"Warning: Unable to load image {img_path}, skipping...\")\n",
    "                    continue  # Skip if image is not loaded\n",
    "\n",
    "                # Resize the image\n",
    "                image = cv2.resize(image, (224, 224))\n",
    "\n",
    "                # Create a blob from the image\n",
    "                blob = cv2.dnn.blobFromImage(\n",
    "                    image,\n",
    "                    scalefactor=1.0,\n",
    "                    size=(224, 224),\n",
    "                    mean=(123.675, 116.28, 103.53),\n",
    "                    swapRB=True,\n",
    "                    crop=False\n",
    "                )\n",
    "\n",
    "                net.setInput(blob)\n",
    "                output = net.forward()\n",
    "\n",
    "                # Extract top 5 predictions\n",
    "                top5_indices = output[0].argsort()[-5:][::-1]\n",
    "                top5_probabilities = output[0][top5_indices]\n",
    "                top5_categories = [category_mapping[idx] for idx in top5_indices]\n",
    "\n",
    "                # Collect results for this image\n",
    "                row = [img_path]\n",
    "                for category, probability in zip(top5_categories, top5_probabilities):\n",
    "                    row.extend([category, probability])\n",
    "                results.append(row)\n",
    "\n",
    "            except Exception as e:\n",
    "                print(f\"Error processing image {img_path}: {e}\")\n",
    "                continue  # If any error occurs, skip this image and proceed to the next one\n",
    "\n",
    "        # Save results to CSV\n",
    "        columns = [\"filename\", \"prediction1\", \"probability1\", \"prediction2\", \"probability2\",\n",
    "                   \"prediction3\", \"probability3\", \"prediction4\", \"probability4\", \n",
    "                   \"prediction5\", \"probability5\"]\n",
    "\n",
    "        df = pd.DataFrame(results, columns=columns)\n",
    "        df.to_csv(result, index=False)\n"
   ]
  },
  {
   "cell_type": "code",
   "execution_count": null,
   "id": "0c358a2e-2343-464d-93f5-3b5b66d4714c",
   "metadata": {},
   "outputs": [],
   "source": []
  }
 ],
 "metadata": {
  "kernelspec": {
   "display_name": "Python 3 (ipykernel)",
   "language": "python",
   "name": "python3"
  },
  "language_info": {
   "codemirror_mode": {
    "name": "ipython",
    "version": 3
   },
   "file_extension": ".py",
   "mimetype": "text/x-python",
   "name": "python",
   "nbconvert_exporter": "python",
   "pygments_lexer": "ipython3",
   "version": "3.12.2"
  }
 },
 "nbformat": 4,
 "nbformat_minor": 5
}
