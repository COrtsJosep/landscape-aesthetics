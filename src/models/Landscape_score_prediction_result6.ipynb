{
 "cells": [
  {
   "cell_type": "code",
   "execution_count": 1,
   "id": "66aabe6f-f1a3-4489-a1be-973bdce24f26",
   "metadata": {
    "execution": {
     "iopub.execute_input": "2024-10-18T12:26:44.671974Z",
     "iopub.status.busy": "2024-10-18T12:26:44.671632Z",
     "iopub.status.idle": "2024-10-18T12:27:32.491158Z",
     "shell.execute_reply": "2024-10-18T12:27:32.490505Z"
    }
   },
   "outputs": [],
   "source": [
    "import pandas as pd\n",
    "import os\n",
    "from PIL import Image\n",
    "import torch\n",
    "import torch.nn as nn\n",
    "import torch.nn.functional as F\n",
    "from torchvision import transforms, models\n",
    "from torch.utils.data import Dataset, DataLoader\n",
    "from sklearn.metrics import mean_absolute_error, r2_score\n",
    "from pathlib import Path \n"
   ]
  },
  {
   "cell_type": "code",
   "execution_count": 2,
   "id": "a25ab7cb-cd74-4eea-b365-b4c9501f8e59",
   "metadata": {
    "execution": {
     "iopub.execute_input": "2024-10-18T12:27:32.494428Z",
     "iopub.status.busy": "2024-10-18T12:27:32.493991Z",
     "iopub.status.idle": "2024-10-18T12:27:32.499679Z",
     "shell.execute_reply": "2024-10-18T12:27:32.499215Z"
    }
   },
   "outputs": [],
   "source": [
    "class ScenicDataset(Dataset):\n",
    "    def __init__(self, data_frame, root_dir, transform=None):\n",
    "        self.data_frame = data_frame\n",
    "        self.root_dir = root_dir\n",
    "        self.transform = transform\n",
    "\n",
    "    def __len__(self):\n",
    "        return len(self.data_frame)\n",
    "\n",
    "    def __getitem__(self, idx):\n",
    "        img_name = os.path.join(self.root_dir, self.data_frame.iloc[idx]['image_path'])\n",
    "        try:\n",
    "            image = Image.open(img_name).convert('RGB')\n",
    "        except (IOError, SyntaxError) as e:\n",
    "            return None  \n",
    "\n",
    "        if self.transform:\n",
    "            image = self.transform(image)\n",
    "\n",
    "        return image  \n"
   ]
  },
  {
   "cell_type": "code",
   "execution_count": 3,
   "id": "b9b27ca3-95ef-4825-bfb4-a3710139998d",
   "metadata": {
    "execution": {
     "iopub.execute_input": "2024-10-18T12:27:32.502004Z",
     "iopub.status.busy": "2024-10-18T12:27:32.501592Z",
     "iopub.status.idle": "2024-10-18T12:27:32.504655Z",
     "shell.execute_reply": "2024-10-18T12:27:32.504190Z"
    }
   },
   "outputs": [],
   "source": [
    "data_transforms = transforms.Compose([\n",
    "    transforms.Resize((256, 256)),\n",
    "    transforms.CenterCrop(256),\n",
    "    transforms.ToTensor(),\n",
    "    transforms.Normalize([0.485, 0.456, 0.406], [0.229, 0.224, 0.225])\n",
    "])"
   ]
  },
  {
   "cell_type": "code",
   "execution_count": 4,
   "id": "64ebd6da-d689-4340-882d-1ffa45abe629",
   "metadata": {
    "execution": {
     "iopub.execute_input": "2024-10-18T12:27:32.506622Z",
     "iopub.status.busy": "2024-10-18T12:27:32.506281Z",
     "iopub.status.idle": "2024-10-18T12:27:32.509751Z",
     "shell.execute_reply": "2024-10-18T12:27:32.509301Z"
    }
   },
   "outputs": [],
   "source": [
    "from torchvision.models import ResNet50_Weights\n",
    "\n",
    "class ResNet50FeatureExtractor(nn.Module):\n",
    "    def __init__(self):\n",
    "        super(ResNet50FeatureExtractor, self).__init__()\n",
    "        resnet = models.resnet50(weights=ResNet50_Weights.IMAGENET1K_V1)  \n",
    "        self.feature_extractor = nn.Sequential(*list(resnet.children())[:-1])  \n",
    "\n",
    "    def forward(self, x):\n",
    "        with torch.no_grad():\n",
    "            features = self.feature_extractor(x)\n",
    "        return features.squeeze()"
   ]
  },
  {
   "cell_type": "code",
   "execution_count": 5,
   "id": "62a39867-c63c-4e29-815d-122a9d49b353",
   "metadata": {
    "execution": {
     "iopub.execute_input": "2024-10-18T12:27:32.511729Z",
     "iopub.status.busy": "2024-10-18T12:27:32.511385Z",
     "iopub.status.idle": "2024-10-18T12:27:32.514747Z",
     "shell.execute_reply": "2024-10-18T12:27:32.514279Z"
    }
   },
   "outputs": [],
   "source": [
    "class RegressionModel(nn.Module):\n",
    "    def __init__(self, input_dim):\n",
    "        super(RegressionModel, self).__init__()\n",
    "        self.fc1 = nn.Linear(input_dim, 512)\n",
    "        self.fc2 = nn.Linear(512, 256)\n",
    "        self.fc3 = nn.Linear(256, 1)\n",
    "        self.dropout = nn.Dropout(0.5)\n",
    "    \n",
    "    def forward(self, x):\n",
    "        x = F.relu(self.fc1(x))\n",
    "        x = self.dropout(x)\n",
    "        x = F.relu(self.fc2(x))\n",
    "        x = self.dropout(x)\n",
    "        x = self.fc3(x)\n",
    "        return x\n"
   ]
  },
  {
   "cell_type": "code",
   "execution_count": 6,
   "id": "8ae4ff55-88e7-4fff-97dc-a0e38541fc1c",
   "metadata": {
    "execution": {
     "iopub.execute_input": "2024-10-18T12:27:32.516710Z",
     "iopub.status.busy": "2024-10-18T12:27:32.516376Z",
     "iopub.status.idle": "2024-10-18T12:27:36.716455Z",
     "shell.execute_reply": "2024-10-18T12:27:36.715975Z"
    }
   },
   "outputs": [
    {
     "data": {
      "text/plain": [
       "RegressionModel(\n",
       "  (fc1): Linear(in_features=2048, out_features=512, bias=True)\n",
       "  (fc2): Linear(in_features=512, out_features=256, bias=True)\n",
       "  (fc3): Linear(in_features=256, out_features=1, bias=True)\n",
       "  (dropout): Dropout(p=0.5, inplace=False)\n",
       ")"
      ]
     },
     "execution_count": 6,
     "metadata": {},
     "output_type": "execute_result"
    }
   ],
   "source": [
    "input_dim = 2048  \n",
    "\n",
    "\n",
    "feature_extractor = ResNet50FeatureExtractor()\n",
    "feature_extractor.eval()  \n",
    "\n",
    "model = RegressionModel(input_dim)\n",
    "model.load_state_dict(torch.load('/home/ubuntu/landscape-aesthetics/models/resnet50_weights.pth', weights_only=True))\n",
    "model.eval() \n"
   ]
  },
  {
   "cell_type": "code",
   "execution_count": 7,
   "id": "ce2fbf77-d8e5-4508-bd7e-2cc0c35fe722",
   "metadata": {
    "execution": {
     "iopub.execute_input": "2024-10-18T12:27:36.718753Z",
     "iopub.status.busy": "2024-10-18T12:27:36.718418Z",
     "iopub.status.idle": "2024-10-18T12:27:36.721746Z",
     "shell.execute_reply": "2024-10-18T12:27:36.721285Z"
    }
   },
   "outputs": [],
   "source": [
    "file_location_path = Path.cwd()\n",
    "project_base_path = file_location_path.parent.parent\n",
    "data_path = project_base_path / 'data' / 'processed' / 'landscape_score' / 'precessed_data' / 'processed' / 'batch8'\n",
    "image_folder = Path('/home/ubuntu/landscape-aesthetics')\n",
    "\n",
    "results_folder = project_base_path / 'data' / 'processed' / 'landscape_score'\n",
    "results_folder.mkdir(parents=True, exist_ok=True)\n"
   ]
  },
  {
   "cell_type": "code",
   "execution_count": 8,
   "id": "216a747e-54b8-4bca-87d2-ac4edc52df84",
   "metadata": {
    "execution": {
     "iopub.execute_input": "2024-10-18T12:27:36.723579Z",
     "iopub.status.busy": "2024-10-18T12:27:36.723241Z",
     "iopub.status.idle": "2024-10-18T12:27:36.727836Z",
     "shell.execute_reply": "2024-10-18T12:27:36.727393Z"
    }
   },
   "outputs": [],
   "source": [
    "def process_all_csv_files(data_path, image_folder, results_folder, feature_extractor, model, input_dim):\n",
    "    csv_files = Path(data_path).glob('*.csv')\n",
    "    failed_files = []\n",
    "\n",
    "    for csv_file in csv_files:\n",
    "        try:\n",
    "            \n",
    "            print(f\"\\nProcessing {csv_file.name}...\", flush=True)\n",
    "            \n",
    "            data_frame = pd.read_csv(csv_file)\n",
    "            print(f\"Loaded {len(data_frame)} rows from {csv_file.name}\")\n",
    "            \n",
    "            dataset = ScenicDataset(data_frame=data_frame, root_dir=image_folder, transform=data_transforms)\n",
    "            data_loader = DataLoader(dataset, batch_size=32, shuffle=False, num_workers=4)\n",
    "            \n",
    "            \n",
    "            predicted_scores = predict(data_loader, feature_extractor, model)\n",
    "            \n",
    "            \n",
    "            results = pd.DataFrame({\n",
    "                'image_path': data_frame['image_path'],\n",
    "                'predicted_score': predicted_scores\n",
    "            })\n",
    "            \n",
    "            result_file = results_folder / f'processed_{csv_file.stem}.csv'\n",
    "            \n",
    "            results.to_csv(result_file, index=False)\n",
    "            print(f\"Predictions saved to {result_file}\")\n",
    "        \n",
    "        except Exception as e:\n",
    "            print(f\"Error processing {csv_file.name}: {e}\")\n",
    "            failed_files.append(csv_file.name)\n",
    "\n",
    "    if failed_files:\n",
    "        print(\"The following files failed during processing:\")\n",
    "        for failed_file in failed_files:\n",
    "            print(failed_file)"
   ]
  },
  {
   "cell_type": "code",
   "execution_count": 9,
   "id": "d15b09bd-3e7e-4506-b490-256decc48284",
   "metadata": {
    "execution": {
     "iopub.execute_input": "2024-10-18T12:27:36.729626Z",
     "iopub.status.busy": "2024-10-18T12:27:36.729254Z",
     "iopub.status.idle": "2024-10-18T12:27:36.732486Z",
     "shell.execute_reply": "2024-10-18T12:27:36.732027Z"
    }
   },
   "outputs": [],
   "source": [
    "def predict(loader, feature_extractor, model):\n",
    "    model.eval()\n",
    "    feature_extractor.eval()\n",
    "\n",
    "    predictions = []\n",
    "\n",
    "    with torch.no_grad():\n",
    "        for images in loader:\n",
    "            if images is None:\n",
    "                continue\n",
    "            features = feature_extractor(images)\n",
    "            outputs = model(features)\n",
    "            #predictions.extend(outputs.squeeze().cpu().numpy())\n",
    "            \n",
    "            if outputs.dim() > 1:\n",
    "                outputs = outputs.squeeze()\n",
    "            \n",
    "            outputs = outputs.cpu().numpy()\n",
    "            predictions.extend(outputs)\n",
    "\n",
    "    return predictions\n"
   ]
  },
  {
   "cell_type": "code",
   "execution_count": 10,
   "id": "77fadf90-0a1a-46d2-9257-e73b3b9f908f",
   "metadata": {
    "execution": {
     "iopub.execute_input": "2024-10-18T12:27:36.734268Z",
     "iopub.status.busy": "2024-10-18T12:27:36.733926Z",
     "iopub.status.idle": "2024-10-18T20:37:25.359039Z",
     "shell.execute_reply": "2024-10-18T20:37:25.357858Z"
    }
   },
   "outputs": [
    {
     "name": "stdout",
     "output_type": "stream",
     "text": [
      "\n",
      "Processing ns6_clean_87.csv...\n"
     ]
    },
    {
     "name": "stdout",
     "output_type": "stream",
     "text": [
      "Loaded 45197 rows from ns6_clean_87.csv\n"
     ]
    },
    {
     "name": "stdout",
     "output_type": "stream",
     "text": [
      "Predictions saved to /home/ubuntu/landscape-aesthetics/data/processed/landscape_score/processed_ns6_clean_87.csv\n",
      "\n",
      "Processing ns6_clean_21.csv...\n"
     ]
    },
    {
     "name": "stdout",
     "output_type": "stream",
     "text": [
      "Loaded 45374 rows from ns6_clean_21.csv\n"
     ]
    },
    {
     "name": "stdout",
     "output_type": "stream",
     "text": [
      "Predictions saved to /home/ubuntu/landscape-aesthetics/data/processed/landscape_score/processed_ns6_clean_21.csv\n",
      "\n",
      "Processing ns6_clean_63.csv...\n"
     ]
    },
    {
     "name": "stdout",
     "output_type": "stream",
     "text": [
      "Loaded 45589 rows from ns6_clean_63.csv\n"
     ]
    },
    {
     "name": "stdout",
     "output_type": "stream",
     "text": [
      "Predictions saved to /home/ubuntu/landscape-aesthetics/data/processed/landscape_score/processed_ns6_clean_63.csv\n",
      "\n",
      "Processing ns6_clean_55.csv...\n"
     ]
    },
    {
     "name": "stdout",
     "output_type": "stream",
     "text": [
      "Loaded 45423 rows from ns6_clean_55.csv\n"
     ]
    },
    {
     "name": "stdout",
     "output_type": "stream",
     "text": [
      "Predictions saved to /home/ubuntu/landscape-aesthetics/data/processed/landscape_score/processed_ns6_clean_55.csv\n",
      "\n",
      "Processing ns6_clean_80.csv...\n"
     ]
    },
    {
     "name": "stdout",
     "output_type": "stream",
     "text": [
      "Loaded 45435 rows from ns6_clean_80.csv\n"
     ]
    },
    {
     "name": "stdout",
     "output_type": "stream",
     "text": [
      "Predictions saved to /home/ubuntu/landscape-aesthetics/data/processed/landscape_score/processed_ns6_clean_80.csv\n",
      "\n",
      "Processing ns6_clean_09.csv...\n"
     ]
    },
    {
     "name": "stdout",
     "output_type": "stream",
     "text": [
      "Loaded 45348 rows from ns6_clean_09.csv\n"
     ]
    },
    {
     "name": "stdout",
     "output_type": "stream",
     "text": [
      "Predictions saved to /home/ubuntu/landscape-aesthetics/data/processed/landscape_score/processed_ns6_clean_09.csv\n",
      "\n",
      "Processing ns6_clean_51.csv...\n"
     ]
    },
    {
     "name": "stdout",
     "output_type": "stream",
     "text": [
      "Loaded 45384 rows from ns6_clean_51.csv\n"
     ]
    },
    {
     "name": "stdout",
     "output_type": "stream",
     "text": [
      "Predictions saved to /home/ubuntu/landscape-aesthetics/data/processed/landscape_score/processed_ns6_clean_51.csv\n"
     ]
    }
   ],
   "source": [
    "process_all_csv_files(data_path, image_folder, results_folder, feature_extractor, model, input_dim)"
   ]
  },
  {
   "cell_type": "code",
   "execution_count": null,
   "id": "a0fd620f-2ae2-48b3-aa4f-11f71ab5839a",
   "metadata": {},
   "outputs": [],
   "source": []
  }
 ],
 "metadata": {
  "kernelspec": {
   "display_name": "Python 3 (ipykernel)",
   "language": "python",
   "name": "python3"
  },
  "language_info": {
   "codemirror_mode": {
    "name": "ipython",
    "version": 3
   },
   "file_extension": ".py",
   "mimetype": "text/x-python",
   "name": "python",
   "nbconvert_exporter": "python",
   "pygments_lexer": "ipython3",
   "version": "3.12.2"
  }
 },
 "nbformat": 4,
 "nbformat_minor": 5
}
